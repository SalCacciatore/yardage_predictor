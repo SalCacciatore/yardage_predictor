{
 "cells": [
  {
   "cell_type": "code",
   "execution_count": 1,
   "id": "7cdf41ff",
   "metadata": {},
   "outputs": [
    {
     "name": "stdout",
     "output_type": "stream",
     "text": [
      "<Response [200]>\n",
      "b'{\"login\":\"naveenkrnl\",\"id\":42272662,\"node_id\":\"MDQ6VXNlcjQyMjcyNjYy\",\"avatar_url\":\"https://avatars.githubusercontent.com/u/42272662?v=4\",\"gravatar_id\":\"\",\"url\":\"https://api.github.com/users/naveenkrnl\",\"html_url\":\"https://github.com/naveenkrnl\",\"followers_url\":\"https://api.github.com/users/naveenkrnl/followers\",\"following_url\":\"https://api.github.com/users/naveenkrnl/following{/other_user}\",\"gists_url\":\"https://api.github.com/users/naveenkrnl/gists{/gist_id}\",\"starred_url\":\"https://api.github.com/users/naveenkrnl/starred{/owner}{/repo}\",\"subscriptions_url\":\"https://api.github.com/users/naveenkrnl/subscriptions\",\"organizations_url\":\"https://api.github.com/users/naveenkrnl/orgs\",\"repos_url\":\"https://api.github.com/users/naveenkrnl/repos\",\"events_url\":\"https://api.github.com/users/naveenkrnl/events{/privacy}\",\"received_events_url\":\"https://api.github.com/users/naveenkrnl/received_events\",\"type\":\"User\",\"site_admin\":false,\"name\":\"Naveen Arora\",\"company\":null,\"blog\":\"\",\"location\":\"karnal, Haryana\",\"email\":null,\"hireable\":true,\"bio\":\"A person known by deeds\",\"twitter_username\":null,\"public_repos\":33,\"public_gists\":0,\"followers\":30,\"following\":7,\"created_at\":\"2018-08-10T12:53:15Z\",\"updated_at\":\"2022-11-29T03:38:56Z\"}'\n"
     ]
    }
   ],
   "source": [
    "import requests\n",
    "   \n",
    "# Making a GET request\n",
    "r = requests.get('https://readwise.io/api/v2/highlights/<highlight id>/tags/<tag id>')\n",
    "  \n",
    "# check status code for response received\n",
    "# success code - 200\n",
    "print(r)\n",
    "  \n",
    "# print content of request\n"
   ]
  },
  {
   "cell_type": "code",
   "execution_count": null,
   "id": "656334da",
   "metadata": {},
   "outputs": [],
   "source": []
  }
 ],
 "metadata": {
  "kernelspec": {
   "display_name": "Python 3",
   "language": "python",
   "name": "python3"
  },
  "language_info": {
   "codemirror_mode": {
    "name": "ipython",
    "version": 3
   },
   "file_extension": ".py",
   "mimetype": "text/x-python",
   "name": "python",
   "nbconvert_exporter": "python",
   "pygments_lexer": "ipython3",
   "version": "3.8.8"
  }
 },
 "nbformat": 4,
 "nbformat_minor": 5
}

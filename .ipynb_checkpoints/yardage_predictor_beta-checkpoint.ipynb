{
 "cells": [
  {
   "cell_type": "markdown",
   "metadata": {
    "id": "uze8mnXBXY6s"
   },
   "source": [
    "# NFL RECEIVING YARDAGE PREDICTOR"
   ]
  },
  {
   "cell_type": "markdown",
   "metadata": {
    "id": "PhuhhyaoXf66"
   },
   "source": [
    "Big data is becoming a big part of our world and sports are no execption. Teams are increasingly using advanced analytics to find an edge over their competition.\n",
    "\n",
    "On such example of this is using modeling to find out what metrics are most predictive of future success. For example, what are the elements of wide receiver play in the NFL that are most important? \n",
    "\n",
    "**Problem to be solved:** Do past receiving yards do a good job of predicting future receiving yards or are there other metrics that can do a better job?\n",
    "\n",
    "**Key Metrics**\n",
    "\n",
    "*   Receiving yards -- how many yards a player gains \n",
    "*   Targets -- how often the player is thrown the ball\n",
    "*   Completed passs/completion/reception -- when a player successfully catches a target\n",
    "*   Air Yards -- how far in the air the ball travels before the player attempts to catch the ball\n",
    "*   aDOT -- Average depth of target, or air yards per target\n",
    "*   Yardage after catch (YAC) -- the yardage the receiver gains after the catch\n",
    "*   Implied team total -- how many points a player's team is projected to score in the given game; this is derived from betting markets\n",
    "\n",
    "\n",
    "**Methodology**\n",
    "\n",
    "\n",
    "1.  Build a backwards-looking expected yardage model, based on inputs such as air yardage and field position.\n",
    "2.   Assess how this model and/or other factors predict future receiving yards.\n",
    "\n",
    "**Data Sources**\n",
    "\n",
    "*   *nflverse (https://nflverse.nflverse.com/)*\n",
    "*   *nfl_data_py (https://github.com/cooperdff/nfl_data_py)*\n",
    "\n",
    "\n",
    "\n",
    "\n",
    "\n",
    "\n",
    "\n",
    "\n",
    "\n",
    "\n"
   ]
  },
  {
   "cell_type": "markdown",
   "metadata": {
    "id": "dx0rm42u1Tfa"
   },
   "source": [
    "## 1. Data Prep"
   ]
  },
  {
   "cell_type": "code",
   "execution_count": null,
   "metadata": {
    "colab": {
     "base_uri": "https://localhost:8080/"
    },
    "id": "TN3PLjwi0HBJ",
    "outputId": "187bde8b-5808-498f-d2d7-e43e705f7690"
   },
   "outputs": [],
   "source": [
    "#install nfl_data_py package\n",
    "!pip install nfl_data_py\n"
   ]
  },
  {
   "cell_type": "code",
   "execution_count": null,
   "metadata": {
    "id": "udvjIMAC0HBM"
   },
   "outputs": [],
   "source": [
    "import nfl_data_py as nfl\n"
   ]
  },
  {
   "cell_type": "code",
   "execution_count": null,
   "metadata": {
    "colab": {
     "base_uri": "https://localhost:8080/"
    },
    "id": "b10qDIuU1NcT",
    "outputId": "e6d2012f-a98e-43a5-b185-2c24fdae149a"
   },
   "outputs": [],
   "source": [
    "import pandas as pd\n",
    "import numpy as np\n",
    "import matplotlib.pyplot as plt\n",
    "import sklearn\n",
    "import numpy as np\n",
    "from sklearn.linear_model import LinearRegression\n",
    "import statsmodels.api as sm\n",
    "\n",
    "from sklearn.metrics import r2_score\n",
    "from sklearn.model_selection import train_test_split \n",
    "from sklearn import metrics\n",
    "from tqdm import tqdm\n",
    "from sklearn.model_selection import GridSearchCV\n",
    "import nfl_data_py as nfl\n",
    "\n",
    "%matplotlib inline"
   ]
  },
  {
   "cell_type": "code",
   "execution_count": null,
   "metadata": {
    "id": "vWk8E8MI1k0L"
   },
   "outputs": [],
   "source": [
    "#Calculate the market-implied team total, derived the betting lines\n",
    "\n",
    "def total_finder(home_or_away,home_total,away_total):\n",
    "    if home_or_away == 'home':\n",
    "        total = home_total\n",
    "    else:\n",
    "        total = away_total \n",
    "    return total"
   ]
  },
  {
   "cell_type": "code",
   "execution_count": null,
   "metadata": {
    "colab": {
     "base_uri": "https://localhost:8080/"
    },
    "id": "-0h7zVDp1Zif",
    "outputId": "8d909ed0-c856-4ee9-e6f1-405747da9b0a"
   },
   "outputs": [],
   "source": [
    "#load in ten years worth of data for NFL pass attempts\n",
    "\n",
    "all_throws = []\n",
    "\n",
    "for YEAR in tqdm(range(2012,2022)):\n",
    "    data = pd.read_csv('https://github.com/nflverse/nflverse-data/releases/download/pbp/' \\\n",
    "                   'play_by_play_' + str(YEAR) + '.csv.gz',\n",
    "                   compression= 'gzip', low_memory= False)\n",
    "    \n",
    "    #we only want regular season data\n",
    "    data = data.loc[data.season_type=='REG']\n",
    "    data['season'] = YEAR\n",
    "    \n",
    "    \n",
    "    data = data.loc[(data.play_type.isin(['no_play','pass','run'])) & (data.epa.isna()==False)]\n",
    "\n",
    "    data = data[data['posteam_type'].isna()==False]\n",
    "\n",
    "    data.loc[data['pass']==1, 'play_type'] = 'pass'\n",
    "    data.loc[data.rush==1, 'play_type'] = 'run'\n",
    "\n",
    "    data.reset_index(drop=True, inplace=True)\n",
    "\n",
    "    data = data[data['two_point_attempt']==0]\n",
    "\n",
    "\n",
    "    #derive implied team total from betting market data\n",
    "    data['home_implied_total'] = abs(data['total_line']/2 + data['spread_line']/2)\n",
    "    data['away_implied_total'] = abs(data['total_line']/2 - data['spread_line']/2)\n",
    "    implied_list = []\n",
    "    for num in data.index:\n",
    "        home_number = data.loc[num]['home_implied_total']\n",
    "        away_number = data.loc[num]['away_implied_total']\n",
    "        has_ball = data.loc[num]['posteam_type']\n",
    "        number = total_finder(has_ball,home_number,away_number)\n",
    "        implied_list.append(number)\n",
    "\n",
    "    data['implied_posteam_total'] = implied_list\n",
    "    \n",
    "    \n",
    "    #we only want throws, aka plays with air yardage (no running plays, sacks, etc.)\n",
    "    throws = data[data['air_yards'].isna()==False]\n",
    "    \n",
    "    df = throws[['receiver_player_name','posteam','game_id','complete_pass','air_yards','yardline_100','ydstogo','implied_posteam_total','yards_gained','pass_touchdown','down','pass_location','week','season','home_implied_total','away_implied_total','posteam_type','qb_hit']]\n",
    "    all_throws.append(df)\n",
    "    all_throws_df=pd.concat(all_throws)\n",
    "\n",
    "\n",
    "\n",
    "\n"
   ]
  },
  {
   "cell_type": "markdown",
   "metadata": {
    "id": "5maDJAJp4JgX"
   },
   "source": [
    "## 2. Play-by-Play Yardage Predictor"
   ]
  },
  {
   "cell_type": "code",
   "execution_count": null,
   "metadata": {
    "colab": {
     "base_uri": "https://localhost:8080/"
    },
    "id": "y8amhDjJ3PEE",
    "outputId": "3e3d24f4-9ba6-4354-df1f-85db1c1cb3a3"
   },
   "outputs": [],
   "source": [
    "#Drop throws without a listed targeted receiver\n",
    "all_throws = all_throws_df.dropna(subset=['receiver_player_name'])\n",
    "\n",
    "#Create column for throws to the middle of the field(1 for throws to middle, 0 for throws elsewhere)                               \n",
    "all_throws['middle'] = (all_throws['pass_location']=='middle')*1                      "
   ]
  },
  {
   "cell_type": "markdown",
   "metadata": {
    "id": "8yaVUSLSoDvK"
   },
   "source": [
    "We now have all the relevant features for our model. They are the following:\n",
    "\n",
    "\n",
    "*   **Down** (whether a play comes on first, second, third or fourth down)\n",
    "*   **Yardline_100** (where on the field a play begins)\n",
    "*   **Yards to go** (how many yards a team needs for a new first down or touchdown)\n",
    "*   **Implied team total**\n",
    "*   **Air yards**\n",
    "*   **Middle**\n",
    "*   **QB_hit** (Whether or not the passer was hit while throwing)\n",
    "\n",
    "The target variable is **yards_gained**.\n",
    "\n",
    "\n",
    "\n",
    "\n"
   ]
  },
  {
   "cell_type": "code",
   "execution_count": null,
   "metadata": {
    "colab": {
     "base_uri": "https://localhost:8080/",
     "height": 300
    },
    "id": "NCQZ28jU4IZH",
    "outputId": "cd337ad9-d171-4777-dbf0-9d4ec18a8f1c"
   },
   "outputs": [],
   "source": [
    "model_df = all_throws[['yards_gained','down','yardline_100','ydstogo','implied_posteam_total','air_yards','middle','qb_hit']]\n",
    "\n",
    "model_df.corr()[['yards_gained']].sort_values('yards_gained',ascending=False)"
   ]
  },
  {
   "cell_type": "code",
   "execution_count": null,
   "metadata": {
    "id": "MDIl3f2J3yuz"
   },
   "outputs": [],
   "source": [
    "\n",
    "X = model_df.drop(columns={'yards_gained'})\n",
    "y = model_df['yards_gained']\n"
   ]
  },
  {
   "cell_type": "code",
   "execution_count": null,
   "metadata": {
    "id": "-IG6Wg49_BAQ"
   },
   "outputs": [],
   "source": [
    "X_train, X_test, y_train, y_test = train_test_split(X, y, test_size=0.25, random_state=0)\n"
   ]
  },
  {
   "cell_type": "code",
   "execution_count": null,
   "metadata": {
    "id": "zCrVc8Xr4FrG"
   },
   "outputs": [],
   "source": [
    "#hyper paramaters tuned via gridsearch\n",
    "from sklearn.ensemble import GradientBoostingRegressor\n",
    "play_by_play_model= GradientBoostingRegressor(max_depth=5, min_samples_split=1500, n_estimators=50).fit(X_train, y_train)"
   ]
  },
  {
   "cell_type": "code",
   "execution_count": null,
   "metadata": {
    "colab": {
     "base_uri": "https://localhost:8080/"
    },
    "id": "XWn03EBY_MgX",
    "outputId": "838d279e-2557-435a-81c0-85f41bff35e5"
   },
   "outputs": [],
   "source": [
    "play_by_play_model.score(X_train, y_train)\n"
   ]
  },
  {
   "cell_type": "code",
   "execution_count": null,
   "metadata": {
    "colab": {
     "base_uri": "https://localhost:8080/"
    },
    "id": "Jw55ZYpT_QVA",
    "outputId": "14cd07b6-ef23-49fe-dda3-ec2582dce7b4"
   },
   "outputs": [],
   "source": [
    "play_by_play_model.score(X_test, y_test)"
   ]
  },
  {
   "cell_type": "code",
   "execution_count": null,
   "metadata": {},
   "outputs": [],
   "source": [
    "import pickle\n",
    "pickle.dump(play_by_play_model, open('play_by_play.pkl', 'wb'))\n"
   ]
  },
  {
   "cell_type": "code",
   "execution_count": null,
   "metadata": {
    "colab": {
     "base_uri": "https://localhost:8080/",
     "height": 269
    },
    "id": "YhFzl0hb_Tf0",
    "outputId": "b3eb4156-ebbb-40fe-fe4f-ddada14c2c80"
   },
   "outputs": [],
   "source": [
    "feature_df = pd.DataFrame(play_by_play_model.feature_importances_)\n",
    "feature_list = []\n",
    "\n",
    "for feature in X.columns:\n",
    "    feature_list.append(feature)\n",
    "\n",
    "feature_df['Feature'] = feature_list\n",
    "feature_df.rename(columns = {0:'Importance'},inplace=True)\n",
    "\n",
    "feature_df = feature_df[['Feature','Importance']].sort_values('Importance',ascending = False)\n",
    "\n",
    "feature_df.sort_values('Importance',ascending=False)"
   ]
  },
  {
   "cell_type": "markdown",
   "metadata": {
    "id": "Hxw41kNfslZa"
   },
   "source": [
    "The model tells us that air yards are by far the most important element of predicting how many yards a pass will gain, followed by field position."
   ]
  },
  {
   "cell_type": "code",
   "execution_count": null,
   "metadata": {
    "id": "AcHkeTt1BTRV"
   },
   "outputs": [],
   "source": [
    "\n",
    "param_grid = {'n_estimators':range(10,100,20),\n",
    "             'max_depth':range(1,21,4), 'min_samples_split':range(500,2001,500)}\n",
    "\n",
    "gsearch1 = sklearn.model_selection.GridSearchCV(GradientBoostingRegressor(), param_grid, cv=3,refit = True, verbose = 3)\n",
    "\n",
    "gsearch1.fit(X_train, y_train)"
   ]
  },
  {
   "cell_type": "code",
   "execution_count": null,
   "metadata": {},
   "outputs": [],
   "source": [
    "print(\"\\n The best parameters across ALL searched params:\\n\",gsearch1.best_params_)"
   ]
  },
  {
   "cell_type": "code",
   "execution_count": null,
   "metadata": {},
   "outputs": [],
   "source": [
    "parameters = {'learning_rate': [0.0001, 0.001, 0.01],\n",
    "                  'subsample'    : [0.9, 0.5, 0.2, 0.1],\n",
    "                  'n_estimators' : [25, 50, 100,500,1000],\n",
    "                  'max_depth'    : [1,2,5,10],\n",
    "              'min_samples_split':[100,500,1000,1500]\n",
    "                 }"
   ]
  },
  {
   "cell_type": "code",
   "execution_count": null,
   "metadata": {},
   "outputs": [],
   "source": [
    "grid_GBR = GridSearchCV(estimator=GradientBoostingRegressor(), param_grid = parameters, cv = 2, n_jobs=-1,verbose=3)\n",
    "\n",
    "grid_GBR.fit(X_train, y_train)\n",
    "\n",
    "\n",
    "print(\"\\n The best estimator across ALL searched params:\\n\",grid_GBR.best_estimator_)\n",
    "print(\"\\n The best score across ALL searched params:\\n\",grid_GBR.best_score_)\n",
    "print(\"\\n The best parameters across ALL searched params:\\n\",grid_GBR.best_params_)"
   ]
  },
  {
   "cell_type": "code",
   "execution_count": null,
   "metadata": {},
   "outputs": [],
   "source": []
  },
  {
   "cell_type": "code",
   "execution_count": null,
   "metadata": {},
   "outputs": [],
   "source": []
  },
  {
   "cell_type": "code",
   "execution_count": null,
   "metadata": {
    "colab": {
     "base_uri": "https://localhost:8080/"
    },
    "id": "Hd8hkLHW_0iJ",
    "outputId": "bd4a1aae-415a-4523-9b86-19c6e2835551"
   },
   "outputs": [],
   "source": [
    "all_throws['xYards']=play_by_play_model.predict(X)\n"
   ]
  },
  {
   "cell_type": "code",
   "execution_count": null,
   "metadata": {
    "colab": {
     "base_uri": "https://localhost:8080/"
    },
    "id": "d0ldFFUYOxAO",
    "outputId": "576b3380-9f65-484a-a6e4-e3d7a1f27274"
   },
   "outputs": [],
   "source": [
    "all_throws['xYards'].corr(all_throws['yards_gained'])"
   ]
  },
  {
   "cell_type": "code",
   "execution_count": null,
   "metadata": {},
   "outputs": [],
   "source": [
    "all_throws['xYards'].corr(all_throws['yards_gained'])> 0.3334010562798367"
   ]
  },
  {
   "cell_type": "code",
   "execution_count": null,
   "metadata": {
    "colab": {
     "base_uri": "https://localhost:8080/"
    },
    "id": "7MjVktRJAN5B",
    "outputId": "56d362b6-2c66-4eac-ca49-6d2732164306"
   },
   "outputs": [],
   "source": [
    "#look at receivers for this year\n",
    "all_throws = []\n",
    "\n",
    "for YEAR in range(2022,2023):\n",
    "    data = pd.read_csv('https://github.com/nflverse/nflverse-data/releases/download/pbp/' \\\n",
    "                   'play_by_play_' + str(YEAR) + '.csv.gz',\n",
    "                   compression= 'gzip', low_memory= False)\n",
    "\n",
    "    data = data.loc[data.season_type=='REG']\n",
    "    data['season'] = YEAR\n",
    "    data = data.loc[(data.play_type.isin(['no_play','pass','run'])) & (data.epa.isna()==False)]\n",
    "\n",
    "    data = data[data['posteam_type'].isna()==False]\n",
    "\n",
    "    data.loc[data['pass']==1, 'play_type'] = 'pass'\n",
    "    data.loc[data.rush==1, 'play_type'] = 'run'\n",
    "\n",
    "    data.reset_index(drop=True, inplace=True)\n",
    "\n",
    "    data = data[data['two_point_attempt']==0]\n",
    "\n",
    "    data['home_implied_total'] = abs(data['total_line']/2 + data['spread_line']/2)\n",
    "    data['away_implied_total'] = abs(data['total_line']/2 - data['spread_line']/2)\n",
    "    implied_list = []\n",
    "    for num in data.index:\n",
    "        home_number = data.loc[num]['home_implied_total']\n",
    "        away_number = data.loc[num]['away_implied_total']\n",
    "        has_ball = data.loc[num]['posteam_type']\n",
    "        number = total_finder(has_ball,home_number,away_number)\n",
    "        implied_list.append(number)\n",
    "\n",
    "    data['implied_posteam_total'] = implied_list\n",
    "    throws = data[data['air_yards'].isna()==False]\n",
    "    df = throws[['receiver_player_name','posteam','game_id','complete_pass','air_yards','yardline_100','ydstogo','implied_posteam_total','yards_gained','pass_touchdown','down','pass_location','week','season','home_implied_total','away_implied_total','posteam_type','qb_hit','yards_after_catch','xyac_mean_yardage','cp','cpoe']]\n",
    "    all_throws.append(df)\n",
    "    current_szn_df=pd.concat(all_throws)\n"
   ]
  },
  {
   "cell_type": "code",
   "execution_count": null,
   "metadata": {
    "id": "amJRBfk0A2LU"
   },
   "outputs": [],
   "source": [
    "current_szn_df = current_szn_df.dropna(subset=['receiver_player_name'])\n",
    "\n",
    "#Create column for throws to the middle (1 for throws to middle, 0 for throws elsewhere)                               \n",
    "current_szn_df['middle'] = (current_szn_df['pass_location']=='middle')*1 "
   ]
  },
  {
   "cell_type": "code",
   "execution_count": null,
   "metadata": {
    "id": "CpAsjM5FAoP-"
   },
   "outputs": [],
   "source": [
    "current_szn_df = current_szn_df[['receiver_player_name','week','posteam','yards_gained','down','yardline_100','ydstogo','implied_posteam_total','air_yards','middle','qb_hit']].set_index(['receiver_player_name','posteam'])"
   ]
  },
  {
   "cell_type": "code",
   "execution_count": null,
   "metadata": {
    "id": "nK_SOFo5BzYP"
   },
   "outputs": [],
   "source": [
    "current_x = current_szn_df.drop(['yards_gained','week'],axis=1)"
   ]
  },
  {
   "cell_type": "code",
   "execution_count": null,
   "metadata": {
    "id": "YhTXJZKmBiaD"
   },
   "outputs": [],
   "source": [
    "current_szn_df['xYards']=play_by_play_model.predict(current_x)\n",
    "current_szn_df = current_szn_df.reset_index()\n",
    "\n",
    "receivers = current_szn_df.groupby(['receiver_player_name','posteam']).agg({'down':'count','air_yards':'sum','yards_gained':'sum','xYards':'sum','week':'nunique'})\n",
    "                                                                            \n",
    "                                                                            \n",
    "                                                                            #'complete_pass':'sum','cp':'sum','yards_after_catch':'sum','xyac_mean_yardage':'sum'})\n",
    "\n",
    "receivers.rename(columns={'down':'targets','week':'games'},inplace=True)"
   ]
  },
  {
   "cell_type": "code",
   "execution_count": null,
   "metadata": {
    "colab": {
     "base_uri": "https://localhost:8080/"
    },
    "id": "4sYv2KgLBt4d",
    "outputId": "7ad4d5c8-3800-48b5-8854-5ff277903a5e"
   },
   "outputs": [],
   "source": [
    "receivers['Diff'] = (receivers['yards_gained'] - receivers['xYards']).round(1)\n",
    "\n",
    "print('First 10 weeks of the 2022 season:')\n",
    "print('Correlation between actual yards and predicted yards gained for receivers: {}'.format((receivers['yards_gained'].corr(receivers['xYards']).round(2))))"
   ]
  },
  {
   "cell_type": "markdown",
   "metadata": {
    "id": "vW8x3GkpjqTw"
   },
   "source": [
    "### 2a. Leaders, Overachievers and Underachievers"
   ]
  },
  {
   "cell_type": "code",
   "execution_count": null,
   "metadata": {
    "colab": {
     "base_uri": "https://localhost:8080/",
     "height": 394
    },
    "id": "LYoR0k3MvK65",
    "outputId": "db8e9b08-c945-471a-8662-31fe6445eba9"
   },
   "outputs": [],
   "source": [
    "receivers.sort_values('xYards',ascending=False).head(10)[['games','targets','yards_gained','xYards','Diff']].round(1)"
   ]
  },
  {
   "cell_type": "code",
   "execution_count": null,
   "metadata": {
    "colab": {
     "base_uri": "https://localhost:8080/",
     "height": 394
    },
    "id": "bZbXCjDhBL8V",
    "outputId": "8a9ee17a-7e25-4b6d-9129-034a72603d30"
   },
   "outputs": [],
   "source": [
    "receivers.sort_values('Diff',ascending=False).head(10)[['games','targets','yards_gained','xYards','Diff']].round(1)"
   ]
  },
  {
   "cell_type": "code",
   "execution_count": null,
   "metadata": {
    "colab": {
     "base_uri": "https://localhost:8080/",
     "height": 394
    },
    "id": "wuorSBFVjuz1",
    "outputId": "b5f012e9-221d-4154-a069-cde6bbe372df"
   },
   "outputs": [],
   "source": [
    "receivers.sort_values('Diff',ascending=True).head(10)[['targets','yards_gained','xYards','Diff']]"
   ]
  },
  {
   "cell_type": "markdown",
   "metadata": {
    "id": "c49rUdzVEqNu"
   },
   "source": [
    "## 3. Predicting future performance"
   ]
  },
  {
   "cell_type": "markdown",
   "metadata": {
    "id": "nZk-robKlvCZ"
   },
   "source": [
    "Now that we have a model for expected yardage for each play, we now should see how this predicts future performance, while also looking at other factors that predict future performance."
   ]
  },
  {
   "cell_type": "markdown",
   "metadata": {
    "id": "0sU0UZc7lvJP"
   },
   "source": [
    "### 3. Year n to Year n+1"
   ]
  },
  {
   "cell_type": "code",
   "execution_count": null,
   "metadata": {
    "colab": {
     "base_uri": "https://localhost:8080/"
    },
    "id": "s_psVa2YkixP",
    "outputId": "7432e014-55e2-43fb-c795-1f7dbc7611fc"
   },
   "outputs": [],
   "source": [
    "#load in ten years worth of data for NFL pass attempts\n",
    "\n",
    "all_throws = []\n",
    "n_szn = []\n",
    "plus_1_szn = []\n",
    "\n",
    "for YEAR in tqdm(range(2012,2022)):\n",
    "    data = pd.read_csv('https://github.com/nflverse/nflverse-data/releases/download/pbp/' \\\n",
    "                   'play_by_play_' + str(YEAR) + '.csv.gz',\n",
    "                   compression= 'gzip', low_memory= False)\n",
    "\n",
    "    data = data.loc[data.season_type=='REG']\n",
    "    data['season'] = YEAR\n",
    "    data = data.loc[(data.play_type.isin(['no_play','pass','run'])) & (data.epa.isna()==False)]\n",
    "\n",
    "    data = data[data['posteam_type'].isna()==False]\n",
    "\n",
    "    data.loc[data['pass']==1, 'play_type'] = 'pass'\n",
    "    data.loc[data.rush==1, 'play_type'] = 'run'\n",
    "\n",
    "    data.reset_index(drop=True, inplace=True)\n",
    "\n",
    "    data = data[data['two_point_attempt']==0]\n",
    "\n",
    "    data['home_implied_total'] = abs(data['total_line']/2 + data['spread_line']/2)\n",
    "    data['away_implied_total'] = abs(data['total_line']/2 - data['spread_line']/2)\n",
    "    implied_list = []\n",
    "    for num in data.index:\n",
    "        home_number = data.loc[num]['home_implied_total']\n",
    "        away_number = data.loc[num]['away_implied_total']\n",
    "        has_ball = data.loc[num]['posteam_type']\n",
    "        number = total_finder(has_ball,home_number,away_number)\n",
    "        implied_list.append(number)\n",
    "\n",
    "    data['implied_posteam_total'] = implied_list\n",
    "    throws = data[data['air_yards'].isna()==False]\n",
    "    df = throws[['receiver_player_name','posteam','game_id','complete_pass','air_yards','yardline_100','ydstogo','implied_posteam_total','yards_gained','pass_touchdown','down','pass_location','week','season','home_implied_total','away_implied_total','posteam_type','cp','xyac_mean_yardage','qb_hit','yards_after_catch']]\n",
    "  \n",
    "  #apply model to the season's stats\n",
    "\n",
    "    current_szn_df = df.dropna(subset=['receiver_player_name'])\n",
    "\n",
    "#Create column for throws to the middle (1 for throws to middle, 0 for throws elsewhere)                               \n",
    "    current_szn_df['middle'] = (current_szn_df['pass_location']=='middle')*1 \n",
    "    current_szn_df['goal_to_go'] = (current_szn_df['yardline_100']<=10)*1 \n",
    "\n",
    "\n",
    "    current_szn_df = current_szn_df[['receiver_player_name','posteam','yards_gained','down','yardline_100','ydstogo','implied_posteam_total','air_yards','middle','qb_hit','complete_pass','yards_after_catch','cp','xyac_mean_yardage','goal_to_go']].set_index(['receiver_player_name','posteam'])\n",
    "    current_x = current_szn_df.drop(['yards_gained','goal_to_go','complete_pass','yards_after_catch','cp','xyac_mean_yardage'],axis=1)\n",
    "    current_szn_df['xYards']=play_by_play_model.predict(current_x)\n",
    "    current_szn_df = current_szn_df.reset_index()\n",
    "\n",
    "#create seperate DF for YAC, looking only at completed passes; then merge this back with main DF\n",
    "    yac_df = current_szn_df[current_szn_df['complete_pass']==1]\n",
    "    yac_df = yac_df.groupby(['receiver_player_name','posteam']).sum()\n",
    "    yac_df['yac/rec'] = yac_df['yards_after_catch']/yac_df['complete_pass']\n",
    "    yac_df['xyac/rec'] = yac_df['xyac_mean_yardage']/yac_df['complete_pass']\n",
    "    yac_df =yac_df[['xyac/rec','yac/rec','yards_after_catch','xyac_mean_yardage']]\n",
    "\n",
    "    receivers = current_szn_df.groupby(['receiver_player_name','posteam']).agg({'down':'count','air_yards':'mean','yards_gained':'sum','xYards':'sum','complete_pass':'sum','cp':'mean','qb_hit':'mean','yardline_100':'mean','goal_to_go':'mean'})\n",
    "    receivers['catch_rate'] = receivers['complete_pass']/receivers['down']                                                                         \n",
    "\n",
    "\n",
    "\n",
    "\n",
    "    receivers.rename(columns={'down':'targets'},inplace=True)\n",
    "\n",
    "\n",
    "\n",
    "    receivers['Diff'] = receivers['yards_gained'] - receivers['xYards']\n",
    "    receivers = receivers.merge(yac_df,right_index=True,left_index=True)\n",
    "\n",
    "\n",
    "    receivers['Szn'] = YEAR\n",
    "  \n",
    "  \n",
    "  \n",
    "  \n",
    "  \n",
    "  \n",
    "  \n",
    "    n_szn.append(receivers)\n",
    "\n",
    "\n",
    "\n",
    "    n_szn_df=pd.concat(n_szn)\n",
    "    n_minus_one_df = pd.concat(n_szn)\n",
    "    n_minus_one_df['Szn'] = n_minus_one_df['Szn'] + 1\n",
    "    n_minus_one_df.set_index('Szn',append=True,inplace=True)\n",
    "    n_szn_df.set_index('Szn',append=True,inplace=True)\n",
    "\n"
   ]
  },
  {
   "cell_type": "code",
   "execution_count": null,
   "metadata": {
    "id": "3tkZJR2BNGjV"
   },
   "outputs": [],
   "source": [
    "n_minus_one_df = n_minus_one_df[n_minus_one_df['targets']>=50]\n",
    "\n",
    "n_szn_df = n_szn_df[n_szn_df['targets']>=50]"
   ]
  },
  {
   "cell_type": "code",
   "execution_count": null,
   "metadata": {
    "id": "FZLzVAF0qilB"
   },
   "outputs": [],
   "source": [
    "df = n_minus_one_df.merge(n_szn_df,left_index=True,right_index=True)"
   ]
  },
  {
   "cell_type": "code",
   "execution_count": null,
   "metadata": {
    "id": "5ad93ASjRNZZ"
   },
   "outputs": [],
   "source": [
    "\n",
    "\n",
    "df['cpoe_x'] = df['catch_rate_x'] - df['cp_x']\n",
    "\n",
    "df['cpoe_y'] = df['catch_rate_y'] - df['cp_y']\n",
    "\n",
    "#df"
   ]
  },
  {
   "cell_type": "code",
   "execution_count": null,
   "metadata": {
    "id": "lStzew6m0HBw"
   },
   "outputs": [],
   "source": [
    "season_n_list = []\n",
    "for col in df.columns:\n",
    "    if \"_x\" in col:\n",
    "        season_n_list.append(col)\n",
    "        \n",
    "season_n_list.append('yards_gained_y')"
   ]
  },
  {
   "cell_type": "code",
   "execution_count": null,
   "metadata": {
    "colab": {
     "base_uri": "https://localhost:8080/"
    },
    "id": "AXmbbHi34k4L",
    "outputId": "35464f7b-e1ad-44b9-ecba-4f5cc65842be"
   },
   "outputs": [],
   "source": [
    "df[season_n_list].corr().sort_values('yards_gained_y',ascending=False)[['yards_gained_y']].round(2)"
   ]
  },
  {
   "cell_type": "markdown",
   "metadata": {
    "id": "Kk0WXYlZfYMM"
   },
   "source": [
    "*Among previous season stats (denoted with the suffix '_x'), actual yardage gained and expected yardage gained have a similar correlation with next season yardage gained.*"
   ]
  },
  {
   "cell_type": "markdown",
   "metadata": {
    "id": "9TktPlGNfqKn"
   },
   "source": [
    "**What explains the difference between xYards and actual yardage gained?**"
   ]
  },
  {
   "cell_type": "code",
   "execution_count": null,
   "metadata": {
    "id": "M_90cSN9nf7S"
   },
   "outputs": [],
   "source": [
    "df['xYards/target_x'] = df['xYards_x']/df['targets_x']\n",
    "df['xYards/target_y'] = df['xYards_y']/df['targets_y']\n",
    "\n",
    "df['Yards/target_x'] = df['yards_gained_x']/df['targets_x']\n",
    "df['Yards/target_y'] = df['yards_gained_y']/df['targets_y']\n",
    "\n",
    "df['yac_oe_x'] = df['yac/rec_x'] - df['xyac/rec_x']\n",
    "df['yac_oe_y'] = df['yac/rec_y'] - df['xyac/rec_y']"
   ]
  },
  {
   "cell_type": "code",
   "execution_count": null,
   "metadata": {
    "colab": {
     "base_uri": "https://localhost:8080/"
    },
    "id": "goTwx_iUfvQt",
    "outputId": "3488b334-6ea0-4e9f-f4dd-bf353adefdd8"
   },
   "outputs": [],
   "source": [
    "df.corr().sort_values('Diff_y',ascending=False)[['Diff_y']]"
   ]
  },
  {
   "cell_type": "markdown",
   "metadata": {
    "id": "P8NRTBKBbg9c"
   },
   "source": [
    "**Year-to-year stability of various metrics**"
   ]
  },
  {
   "cell_type": "code",
   "execution_count": null,
   "metadata": {
    "id": "yUwgD7OfFkFc"
   },
   "outputs": [],
   "source": [
    "metric_list = ['yards_gained','xYards','xYards/target','Yards/target','yac_oe','qb_hit','Diff','complete_pass','catch_rate','targets','air_yards','cp','cpoe','xyac/rec','yac/rec']"
   ]
  },
  {
   "cell_type": "code",
   "execution_count": null,
   "metadata": {
    "id": "heD-ampSHRzN"
   },
   "outputs": [],
   "source": [
    "corr_dict = {}\n",
    "\n",
    "\n",
    "for metric in metric_list:\n",
    "  x = metric + '_x'\n",
    "  y = metric + '_y'\n",
    "  r = round(df[x].corr(df[y]),2)\n",
    "  corr_dict.update({metric:r})\n"
   ]
  },
  {
   "cell_type": "code",
   "execution_count": null,
   "metadata": {
    "colab": {
     "base_uri": "https://localhost:8080/"
    },
    "id": "w0VSSSc5Ms55",
    "outputId": "d047ddbe-3d07-4c2b-f34b-02fc164253ed"
   },
   "outputs": [],
   "source": [
    "pd.DataFrame([corr_dict]).transpose().sort_values(0,ascending=False).rename(columns={0:'r'})"
   ]
  },
  {
   "cell_type": "markdown",
   "metadata": {
    "id": "LwoNaR5Ze8qW"
   },
   "source": [
    "**There is more stability in expected yardage from one year to the next (r=0.60) than actual yardage (0.55).** The delta between the two metrics (\"Diff\") is not very stable from one year to the next (0.21).*\n",
    "\n",
    "This makese sence, since air yards are among the most stable metric from one year to the next (r=0.91), and air yards are the most important element of expected yards and expected yards per target (air yards also are a big part of other metrics with high stability, such as completion probability (CP) and xYards after catch per reception).\n",
    "\n",
    "Also, metrics like completion percentage above expectation* (CPOE) and yards-after-catch above expecation* (YAC_OE) that make up much of the in-season difference between xYards and actual yards are not as stable from one year to the next (between season n and season n+1, r=0.38 for yac_oe, .29 for CPOE).\n",
    "\n",
    "\n",
    "*CPOE and YAC_OE derive from the nflverse's built-in expected completion and expected YAC models. Further reading: https://www.opensourcefootball.com/posts/2020-09-28-nflfastr-ep-wp-and-cp-models/*"
   ]
  },
  {
   "cell_type": "markdown",
   "metadata": {
    "id": "QiysN6pnd-m1"
   },
   "source": [
    "**Other conclusions:**\n",
    "\n",
    "-A receiver's ability to earn targets seems more consistent than their ability to turn targets into catches (the year-to-year correlation for targets is 0.51, while the year-to-year correlation for completion percentage over expectation is just 0.29).\n",
    "\n",
    "-Air yards are considerably more stable than yardage after the catch (r=0.91 for air yards year-over-year, compared to a mark of 0.38 for yards after catch above expectation).\n",
    "\n",
    "**-Therefore, measuring \"opportunity\" itself (namely, the number of targets and the expected value of these targets) seems more important to making predictions than actually measuring what a receiver does with this opportunity.**"
   ]
  },
  {
   "cell_type": "markdown",
   "metadata": {
    "id": "HJ5gdGnupcBf"
   },
   "source": [
    "### In-season predictions"
   ]
  },
  {
   "cell_type": "markdown",
   "metadata": {
    "id": "JUVGVF4Hyq8r"
   },
   "source": [
    "In this section, I will break down the last 10 season into six-week segments and see how well data in these segments predicts the following week."
   ]
  },
  {
   "cell_type": "code",
   "execution_count": null,
   "metadata": {
    "id": "wrcvBSKN0HBz"
   },
   "outputs": [],
   "source": [
    "import warnings\n",
    "warnings.filterwarnings('ignore')\n",
    "\n",
    "import tqdm.notebook as tq\n"
   ]
  },
  {
   "cell_type": "code",
   "execution_count": null,
   "metadata": {
    "id": "KbnSrZXFOTLy"
   },
   "outputs": [],
   "source": [
    "#correct a few formatting errors in the data\n",
    "\n",
    "def last_name(full):\n",
    "  if full == 'DanielThomas':\n",
    "    return 'Thomas'\n",
    "  elif full == 'JulioJones':\n",
    "    return 'Jones'\n",
    "  elif '.' not in full:\n",
    "    print(full)\n",
    "    return full\n",
    "  else:\n",
    "    return full.split(\".\",1)[1]"
   ]
  },
  {
   "cell_type": "code",
   "execution_count": null,
   "metadata": {
    "id": "k9HMvYGg0HB0"
   },
   "outputs": [],
   "source": [
    "#fix team abbreviations for teams that have moved cities\n",
    "\n",
    "def team_fixer(team):\n",
    "    if team == 'SD':\n",
    "        return 'LAC'\n",
    "    elif team == 'OAK':\n",
    "        return 'LV'\n",
    "    elif team == 'STL':\n",
    "        return 'LA'\n",
    "    else:\n",
    "        return team"
   ]
  },
  {
   "cell_type": "code",
   "execution_count": null,
   "metadata": {
    "id": "IxzsUDAs0HB0"
   },
   "outputs": [],
   "source": [
    "def snap_name_changer(player):\n",
    "    if 'Jr.' in player:\n",
    "        return player.split(' Jr.')[0]\n",
    "        #return 'D.J. Davis'\n",
    "    elif 'II' in player:\n",
    "        return player.split(' II')[0]\n",
    "    else:\n",
    "        return player"
   ]
  },
  {
   "cell_type": "code",
   "execution_count": null,
   "metadata": {
    "colab": {
     "base_uri": "https://localhost:8080/",
     "height": 528,
     "referenced_widgets": [
      "e581a58cd2484a8492dcdbc10abe70fd",
      "45b0ab9978eb46f28eb1865dfa760c54",
      "dea97b4e41114e40930cd59e259504e9",
      "053e2d2200d943979096adba1a75e17b",
      "a75696d8492f4e20abcdfa73c5a9977e",
      "422f955b31204590bb0377e92b55b77f",
      "6369d4b7cee64ca7bb13d62dde23770c",
      "d6df7079085d40d6bc1195e21b76dd6e",
      "b37ddb880f44414c8e2eda8f108f5ea8",
      "363b2b6f5bbf40ddb504c11a1ee15902",
      "b5091535720c4edfb470c723fcc3e9b1",
      "e64739148ec34292a21821cd43bf8733",
      "2e17c3bab5be457a83fb8fd1c32832a3",
      "5bcc8c276c6c43ff99f5adcbcb5405a0",
      "370b41e5f54c48d4ad16aad77ce5212e",
      "477c431f0db243f9b2c17bc584facb00",
      "1d00875afd1c45618d7341250506b832",
      "13e438ac4978476aa13c8bacdaad9b0e",
      "e72cab1d94f74126933cd8e3cd2c0b7d",
      "ccf284246aee46edbde52756fc46b6b9",
      "3c39594aac484787b1e6b5ab72a44138",
      "8c269607846649029d0edaa7d6cce6b8",
      "d9259e12945d42de82322ec38ae75745",
      "a7548e1f8df34a0dbb3533fe9ec24502",
      "c1d33f65ea7d4008a29f6e4df6be1d16",
      "efbecbe193504c959fe7a03b352996f3",
      "3dd968a197754d42aa6abaf76562c0a0",
      "0343ae758c904bc5997108ea3eec84d4",
      "e15ca3dbfd474b97955ce14febd2c441",
      "1c2154257f4444f38347f902eda306b0",
      "bb29543d4e5442ec8a103c5ae0884a35",
      "ff29c87a6c314f8392dcdbda968acc4c",
      "1524d5b94e68491db558dc6f95293eeb",
      "5b7ecfadc3b94c33a450c6ce9ac7c09b",
      "105bef8f0e4e4a0198f496a45bb8835b",
      "dcaec88bba114d3ab10d92dbf82debe2",
      "7daf0d7969fa4ea0acc71eca17d55df4",
      "5ba962cd9df748b5b0d525464c40701f",
      "75a8f87de1194e219b54d31a558288e8",
      "21ad01ae444d433383a136a1990e7212",
      "cec408d4face48deb6f353928b126919",
      "818084fddff042d09233e49e8ce21825",
      "878971d8611d46bf8f4c27f16c2ef42b",
      "4ea59b08bd86496692904e26589ef017",
      "7ab4e8525cc641e3b2b4cbbdb3b4b3d5",
      "fa27ce29b30d4060bf3a71193957ae4f",
      "5316e0bf097948dc81363cd0b2f00197",
      "56cd5d067da84f5fa9527c57116243b9",
      "25aabe0876d94784b6b195f70db9e32b",
      "b22c0a2d95054f3cae3dff89d5417d76",
      "0bc5b2b3e409435d9e16dba78f3ce223",
      "c1636d6d2ecd4f4bae1a299616825efe",
      "58fb556d59cd4f8f8791d30d5a3e1dfb",
      "0f15081fa8ac4261b5c0a3d71ef98c6c",
      "2fc2ab75410d400381cc1ffe8d78c1e1",
      "c890c18a97844b53be12f5b2ec41916a",
      "eb86299ae0cf412484ec8beb461f7cf2",
      "d4284480528347e19b5038a4326bd6b4",
      "01559f1e6e0a439499b8acf03d716d6e",
      "e3bf4fcfe2bc464cbc6aec320a77e779",
      "249d4ef9000e46f0ad6327d98ac84695",
      "17ab4a2a7fbd4fab8169c560193a6709",
      "482a86fad8e24d9ba6e0366bbb5ce461",
      "06de928639a54866b9c009e4c7f14b36",
      "25a577fb67b342439c2d214edef8e16a",
      "afbaf31aa5074f789fbab2136a8978ca",
      "2677d7080f7f469f930ac253967be338",
      "d01c885a2a134cfe98bbd9a0b780644c",
      "0b500633a31a4513b16a12dae27396da",
      "f47c2f0816f14dbfbfcbaa4a82cab2f7",
      "6872638959614a82bab98c0f043a6208",
      "88fe62a7e73d4e2bb8713d4ed08b1ba2",
      "17f856f38279404aaf485fd566ea5e1e",
      "a12d19f1324c4250a55c8758738086c9",
      "6e14b5065fbb486a825bcfc570e27c02",
      "0fd0781674a749e08fe7630267648db4",
      "9ee780e0149f490cbcf1b2148dabf0e4",
      "cd7428e54e944ec8b3b0274600709225",
      "c033471bec514913a04768a16bcfb68c",
      "615697fcd2044142a3e6d17ae6201876",
      "9b7c09fdaa1d4f31a2085f6ffdbe52f7",
      "95129fba38964dbfbd5c6003cf31cf69",
      "6178620286344a7da8fd7eeb0b565b3e",
      "6cb40d1a9db644d5ac55a0ee434245e8",
      "55affb20b0e64ba3bd18d3cbfeb22dcf",
      "3de590e0ecdb45da82c3d9a69d48e768",
      "0c3ce6a1cf1943bdb1a5e16a25b2d46a",
      "c229fcfcd5eb439fb77ad6419681ab77",
      "b68bd593ff5847f2ae2b2fe5bf84b682",
      "8a4bae93e69b46c28f8a4074698b0d69",
      "c1f2de98efc9427a9bedcd4f07793c1e",
      "2ad4168a1db34d23b65ae2c197c1dad9",
      "8a446552cb924a0b8a103283b7526cf8",
      "48c78126b491430eb8961b8219dd6695",
      "f71b5fae382c404ab0b61da81d9202ee",
      "2653778299384d10995f62fc586ac9c3",
      "d0caca00f0df4b68b58334fc35974d36",
      "1c46c1cefed642a0ad5d1bec3babb212",
      "9259a160e41a454a99e05b690ecae678",
      "cdc24b11a19f444794bc74b12d600603",
      "038cddf0546442c6aa8fa86079731d06",
      "ac772255f3b3456aaa997aae7f4cb0e0",
      "ac1a53837ef046018baf9129191409b4",
      "79e6606f66a3405f92fccda71bcec97c",
      "8534924832054f2287aa0f018603d148",
      "05323c15db054253a44683e5c34f19cf",
      "fba13cb3a16c40b5b2ab6e70a8db7d35",
      "27242e6f037e474891a38b3f4cec52e0",
      "ca53f69ee8d24e8e9cec4c6b861fd2fb",
      "33c175b24a4a4637b312ecfbea4f5322"
     ]
    },
    "id": "jcItZyrTFNJt",
    "outputId": "8755aa63-75f1-4590-84b0-ca4fae88ef71"
   },
   "outputs": [],
   "source": [
    "#load in ten years worth of data for NFL pass attempts\n",
    "\n",
    "szn_receivers=[]\n",
    "target_list=[]\n",
    "  \n",
    "df_list = []\n",
    "weekly_list = []\n",
    "target_week = [7,8,9,10,11,12,13,14,15,16,17,18]\n",
    "week_list1= []\n",
    "target_weeks=[]\n",
    "\n",
    "\n",
    "all_throws = []\n",
    "n_szn = []\n",
    "plus_1_szn = []\n",
    "\n",
    "for YEAR in tqdm(range(2012,2022)):\n",
    "    print(YEAR)\n",
    "    data = pd.read_csv('https://github.com/nflverse/nflverse-data/releases/download/pbp/' \\\n",
    "                   'play_by_play_' + str(YEAR) + '.csv.gz',\n",
    "                   compression= 'gzip', low_memory= False)\n",
    "\n",
    "    data = data.loc[data.season_type=='REG']\n",
    "    data['season'] = YEAR\n",
    "    data = data.loc[(data.play_type.isin(['no_play','pass','run'])) & (data.epa.isna()==False)]\n",
    "\n",
    "    data = data[data['posteam_type'].isna()==False]\n",
    "\n",
    "    data.loc[data['pass']==1, 'play_type'] = 'pass'\n",
    "    data.loc[data.rush==1, 'play_type'] = 'run'\n",
    "\n",
    "    data.reset_index(drop=True, inplace=True)\n",
    "\n",
    "    data = data[data['two_point_attempt']==0]\n",
    "\n",
    "    data['home_implied_total'] = abs(data['total_line']/2 + data['spread_line']/2)\n",
    "    data['away_implied_total'] = abs(data['total_line']/2 - data['spread_line']/2)\n",
    "    implied_list = []\n",
    "    for num in data.index:\n",
    "        home_number = data.loc[num]['home_implied_total']\n",
    "        away_number = data.loc[num]['away_implied_total']\n",
    "        has_ball = data.loc[num]['posteam_type']\n",
    "        number = total_finder(has_ball,home_number,away_number)\n",
    "        implied_list.append(number)\n",
    "\n",
    "    data['implied_posteam_total'] = implied_list\n",
    "    throws = data[data['air_yards'].isna()==False]\n",
    "    df = throws[['receiver_player_name','week','posteam','game_id','complete_pass','air_yards','yardline_100','ydstogo','implied_posteam_total','yards_gained','pass_touchdown','down','pass_location','season','home_implied_total','away_implied_total','posteam_type','cp','xyac_mean_yardage','qb_hit','yards_after_catch','receiver_player_id']]\n",
    "\n",
    "    current_szn_df = df.dropna(subset=['receiver_player_name'])\n",
    "\n",
    "    #Create column for throws to the middle (1 for throws to middle, 0 for throws elsewhere)                               \n",
    "    current_szn_df['middle'] = (current_szn_df['pass_location']=='middle')*1 \n",
    "    current_szn_df['goal_to_go'] = (current_szn_df['yardline_100']<=10)*1 \n",
    "\n",
    "    current_szn_df = current_szn_df[['receiver_player_name','week','posteam','yards_gained','down','yardline_100','ydstogo','implied_posteam_total','air_yards','middle','qb_hit','complete_pass','yards_after_catch','cp','xyac_mean_yardage','goal_to_go','receiver_player_id']].set_index(['receiver_player_name','posteam'])\n",
    "    current_szn_df['year'] = YEAR\n",
    "  \n",
    "    #apply model to the season's stats\n",
    "    current_x = current_szn_df.drop(['yards_gained','year','week','goal_to_go','complete_pass','yards_after_catch','cp','xyac_mean_yardage','receiver_player_id'],axis=1)\n",
    "    current_szn_df['xYards']=play_by_play_model.predict(current_x)\n",
    "    current_szn_df = current_szn_df.reset_index()\n",
    "  \n",
    "    #create seperate DF for YAC, looking only at completed passes; then merge this back with main DF\n",
    "    yac_df = current_szn_df[current_szn_df['complete_pass']==1]\n",
    "    weekly_yac = yac_df.groupby(['receiver_player_name','posteam','week']).agg({'complete_pass':'sum','yards_after_catch':'sum','xyac_mean_yardage':'sum'})\n",
    "    \n",
    "    \n",
    "    #create new DF for team pass attempts to calculate metrics such as target share (targets per team attempts)\n",
    "    weekly_pass_offense=current_szn_df.groupby(['posteam','week']).agg({'week':'count','air_yards':'sum'})\n",
    "    weekly_pass_offense.rename(columns={'week':'team_attempts','air_yards':'team_air_yards'},inplace=True)\n",
    "    team_attempts=weekly_pass_offense.reset_index()[['posteam','week','team_attempts','team_air_yards']]\n",
    "    weekly_rec_group = current_szn_df.groupby(['receiver_player_name','posteam','week']).agg({'week':'max','down':'count','complete_pass':'sum','yards_gained':'sum','air_yards':'sum','xYards':'sum','cp':'sum','implied_posteam_total':'max','goal_to_go':'sum','qb_hit':'sum','middle':'sum','goal_to_go':'sum','receiver_player_id':'max'})\n",
    "    weekly_rec_group.rename(columns={'week':'week_#','down':'targets'},inplace=True)\n",
    "    weekly_rec_group = weekly_rec_group.merge(weekly_yac[['yards_after_catch','xyac_mean_yardage']],right_index=True,left_index=True)\n",
    "    \n",
    "    \n",
    "    feature_receivers = weekly_rec_group.reset_index()\n",
    "\n",
    "    feature_receivers.reset_index().set_index(['receiver_player_id','posteam','week'])\n",
    "    \n",
    "    week_df1 = feature_receivers.copy()\n",
    "    week_df = week_df1.copy()\n",
    "    week_df = week_df.reset_index().set_index(['receiver_player_name','posteam'])\n",
    "    feature_df = feature_receivers.copy()\n",
    "    \n",
    "    \n",
    "    #load in snap count data; this is important because players who go entire games without a target will not show up in the data for that game\n",
    "    snap_df = nfl.import_snap_counts([YEAR])\n",
    "    snap_df['team'] = snap_df['team'].apply(lambda x: team_fixer(x))\n",
    "    snap_df = snap_df[snap_df['game_type']=='REG']\n",
    "    snap_df = snap_df[['pfr_player_id','player','offense_snaps','offense_pct','week','team','game_id','position']]\n",
    "    snap_df['player_copy'] = snap_df['player']\n",
    "    snap_df.rename(columns={'player_copy':'full_name'},inplace=True)\n",
    "    snap_df['full_name'] = snap_df['full_name'].apply(lambda x: snap_name_changer(x))\n",
    "    \n",
    "    \n",
    "    snap_df['week#'] = snap_df['week']\n",
    "    snap_df = snap_df[snap_df['offense_snaps']>0]\n",
    "\n",
    "    #create a unique identifier for each player so the snap data dataframe can be merged with the main receiver dataframe\n",
    "    snap_df['last_name'] = snap_df['full_name'].apply(lambda x: x.split(\" \",1)[1])\n",
    "    snap_df['identifier'] = (snap_df['full_name']).str[0]+\".\"+snap_df['last_name']+\"_\"+snap_df['team']+\"_\"+snap_df['week#'].astype(str)\n",
    "    \n",
    "    feature_df_snaps = feature_df.reset_index()\n",
    "    feature_df_snaps.rename(columns={'posteam':'team'},inplace=True)\n",
    "    feature_df_snaps['szn'] = YEAR\n",
    "    \n",
    "    feature_df_snaps = feature_df_snaps.set_index(['receiver_player_id','team','week'])        \n",
    "    for player_id in tq.tqdm(feature_df_snaps.index):\n",
    "        player = player_id[0:2]\n",
    "        team = player[1]\n",
    "        week_df = pd.DataFrame()\n",
    "        \n",
    "        week_df['week_#']=[1,2,3,4,5,6,7,8,9,10,11,12,13,14,15,16,17,18]\n",
    "        new_df = feature_df_snaps.loc[player].merge(week_df,how='right')\n",
    "        new_df['target_week'] = new_df['week_#']+1\n",
    "        new_df['szn'] = new_df['szn'].fillna(YEAR)\n",
    "        new_df['receiver_player_name'] = new_df['receiver_player_name'].fillna(new_df['receiver_player_name'].mode()[0])\n",
    "        new_df['posteam'] = team\n",
    "        \n",
    "        new_df['identifier'] = (new_df['receiver_player_name']).str[0]+\".\"+new_df['receiver_player_name']+\"_\"+new_df['posteam']+\"_\"+new_df['week_#'].astype(str)\n",
    "        new_df['last'] = new_df['receiver_player_name'].apply(lambda x: last_name(x))\n",
    "        new_df['identifier'] = (new_df['receiver_player_name']).str[0]+\".\"+new_df['last']+\"_\"+new_df['posteam']+\"_\"+new_df['week_#'].astype(str)\n",
    "               \n",
    "        new_df = new_df.merge(snap_df[['identifier','full_name','game_id','offense_snaps','offense_pct','position']], on='identifier')\n",
    "            \n",
    "        #team_attempts = team_attempts.reset_index()\n",
    "        \n",
    "        team_attempts.rename(columns={'week':'week_#'},inplace=True)\n",
    "\n",
    "        new_df = new_df.merge(team_attempts,on=['posteam','week_#'])\n",
    "        \n",
    "        new_df.fillna(0,inplace=True)\n",
    "\n",
    "\n",
    "        #new_df will be the dataframe from trailing week data; \n",
    "        #the trailing period will be at a minimum three weeks worth of games and a max of six weeks\n",
    "        \n",
    "        \n",
    "        #a copy of this dataframe will be for the target weeks\n",
    "        target_df = new_df.copy()\n",
    "        #print('shape: {}'.format(new_df.shape[0]))\n",
    "        #if new_df.shape[0]==3:\n",
    "         #weights = np.array([0.2, 0.3, 0.5])\n",
    "         #new_df['weighted_xYards'] = new_df['xYards'].rolling(3).apply(lambda x: np.sum(weights*x))\n",
    "         #new_df['weights'] = weights\n",
    "         #new_df['unweighted_mean'] = new_df['xYards'].rolling(3,min_periods=3).mean()\n",
    "         #new_df['unweighted_mean_test'] = new_df['xYards'].rolling(3,min_periods=3).mean()\n",
    "\n",
    "          #display(new_df[['receiver_player_name','xYards','weighted_xYards','unweighted_mean','weights']])\n",
    "\n",
    "        #if new_df.shape[0]==4:\n",
    "         # weights = np.array([0.05,0.15, 0.3, 0.5])\n",
    "         # new_df['weighted_xYards'] = new_df['xYards'].rolling(4).apply(lambda x: np.sum(weights*x))\n",
    "          #new_df['weights'] = weights\n",
    "         # new_df['unweighted_mean'] = new_df['xYards'].rolling(4,min_periods=3).mean()\n",
    "         # new_df['unweighted_mean1'] = new_df['xYards'].rolling(4,min_periods=3).mean()\n",
    "          #display(new_df[['receiver_player_name','xYards','weighted_xYards','unweighted_mean','unweighted_mean1']])\n",
    "\n",
    "        #if new_df.shape[0]==5:\n",
    "         # weights = np.array([0.05,0.05,0.15, 0.25, 0.5])\n",
    "          #new_df['weighted_xYards'] = new_df['xYards'].rolling(5).apply(lambda x: np.sum(weights*x))\n",
    "          #new_df['weights'] = weights\n",
    "          #new_df['unweighted_mean'] = new_df['xYards'].rolling(5,min_periods=3).mean()\n",
    "          #new_df['unweighted_mean1'] = new_df['xYards'].rolling(5,min_periods=3).mean()\n",
    "          #display(new_df[['receiver_player_name','xYards','weighted_xYards','unweighted_mean','unweighted_mean1']])\n",
    "\n",
    "        if new_df.shape[0]>=6:\n",
    "          weights = np.array([0.05,0.1,0.1,0.1, 0.2, 0.45])\n",
    "          new_df['weighted_xYards'] = new_df['xYards'].rolling(6,min_periods=6).apply(lambda x: np.sum(weights*x))\n",
    "          new_df['weighted_yards'] = new_df['yards_gained'].rolling(6,min_periods=6).apply(lambda x: np.sum(weights*x))\n",
    "\n",
    "          #new_df['weights'] = weights\n",
    "          new_df['unweighted_xmean'] = new_df['xYards'].rolling(6,min_periods=6).mean()\n",
    "          new_df['unweighted_yards_mean'] = new_df['yards_gained'].rolling(6,min_periods=6).mean()\n",
    "\n",
    "          #display(new_df[['receiver_player_name','xYards','weighted_xYards','unweighted_mean']])\n",
    "\n",
    "        \n",
    "\n",
    "\n",
    "\n",
    "        #calculate six week-rolling averages for key metrics\n",
    "        new_df['xYards/game'] = new_df['xYards'].rolling(6,min_periods=3).mean()\n",
    "        new_df['xYards_median'] = new_df['xYards'].rolling(6,min_periods=3).median()\n",
    "\n",
    "        new_df['xYards_sum'] = new_df['xYards'].rolling(6,min_periods=3).sum()\n",
    "        new_df['games_played'] = new_df['game_id'].rolling(6,min_periods=1).count()\n",
    "        new_df['Yards_sum'] = new_df['yards_gained'].rolling(6,min_periods=3).sum()\n",
    "        new_df['Yards/game'] = new_df['yards_gained'].rolling(6,min_periods=3).mean()\n",
    "        new_df['air_yards_rolling'] = new_df['air_yards'].rolling(6,min_periods=3).sum()\n",
    "        new_df['team_attempts_rolling'] = new_df['team_air_yards'].rolling(6,min_periods=3).sum()\n",
    "        new_df['team_air_yards_rolling'] = new_df['team_air_yards'].rolling(6,min_periods=3).sum()\n",
    "        new_df['complete_pass_rolling'] = new_df['complete_pass'].rolling(6,min_periods=3).sum()\n",
    "        new_df['cp_rolling'] = new_df['cp'].rolling(6,min_periods=3).sum()\n",
    "        new_df['yac_rolling'] = new_df['yards_after_catch'].rolling(6,min_periods=3).sum()\n",
    "        new_df['xyac_rolling'] = new_df['xyac_mean_yardage'].rolling(6,min_periods=3).sum()\n",
    "        new_df['targets_sum'] = new_df['targets'].rolling(6,min_periods=3).sum()\n",
    "        new_df['snaps_sum'] = new_df['offense_snaps'].rolling(6,min_periods=3).sum()\n",
    "\n",
    "\n",
    "        new_df = new_df.sort_values('week_#')\n",
    "        \n",
    "        target_df1 = pd.DataFrame()\n",
    "        target_df1['target_week']=[1,2,3,4,5,6,7,8,9,10,11,12,13,14,15,16,17,18]\n",
    "\n",
    "        new_df = new_df.merge(target_df1,how='right').sort_values('target_week')\n",
    "        new_df = new_df.fillna(method='ffill')\n",
    "\n",
    "        df_list.append(new_df)\n",
    "        target_list.append(target_df)\n",
    "        \n",
    "trailing_weeks = pd.concat(df_list)   \n",
    "target_weeks = pd.concat(target_list)   \n",
    "\n",
    "target_weeks = target_weeks[target_weeks['week_#']>3]\n",
    "target_weeks = target_weeks.dropna()\n",
    "target_weeks = target_weeks.drop(columns={'target_week'})\n",
    "target_weeks.rename(columns={'week_#':'target_week'},inplace=True)\n",
    "\n",
    "\n",
    "target_weeks = target_weeks.drop_duplicates()\n",
    "trailing_weeks = trailing_weeks.drop_duplicates()\n",
    "\n",
    "\n",
    "trailing_weeks = trailing_weeks[['receiver_player_name','posteam','szn','position','target_week','snaps_sum','games_played','xYards','xYards_sum','xYards/game','xYards_median','Yards/game','air_yards_rolling','team_attempts_rolling','team_air_yards_rolling','complete_pass_rolling','cp_rolling','yac_rolling','xyac_rolling','targets_sum','weighted_xYards','unweighted_xmean','unweighted_yards_mean','weighted_yards']]\n",
    "target_weeks = target_weeks[['receiver_player_name','posteam','target_week','szn','yards_gained','offense_snaps','targets','complete_pass','xYards','cp','yards_after_catch','xyac_mean_yardage']]\n",
    "\n",
    "\n",
    "target_weeks = target_weeks[target_weeks['target_week']>3]\n",
    "trailing_weeks.set_index(['receiver_player_name','posteam','target_week','szn'],inplace=True)\n",
    "target_weeks.set_index(['receiver_player_name','posteam','target_week','szn'],inplace=True)\n",
    "\n",
    "\n",
    "\n"
   ]
  },
  {
   "cell_type": "code",
   "execution_count": null,
   "metadata": {
    "id": "TZ-eQL5z0HB3"
   },
   "outputs": [],
   "source": [
    "#merge trailing and target dataframes\n",
    "\n",
    "merged = trailing_weeks.merge(target_weeks,right_index=True,left_index=True)\n",
    "\n",
    "merged = merged.iloc[:,~merged.columns.duplicated()]\n"
   ]
  },
  {
   "cell_type": "code",
   "execution_count": null,
   "metadata": {
    "id": "Vq0QP6Qe0HB4"
   },
   "outputs": [],
   "source": [
    "merged = merged.drop_duplicates()\n",
    "\n",
    "#merged.columns\n",
    "merged = merged.dropna()\n"
   ]
  },
  {
   "cell_type": "code",
   "execution_count": null,
   "metadata": {
    "colab": {
     "base_uri": "https://localhost:8080/",
     "height": 801
    },
    "id": "xfVh1rBO9sD1",
    "outputId": "167f9f32-68dc-424a-8383-ac64ce7d0137"
   },
   "outputs": [],
   "source": [
    "merged.loc['R.Wayne'].columns"
   ]
  },
  {
   "cell_type": "code",
   "execution_count": null,
   "metadata": {
    "id": "G3_cnTvU0HB4"
   },
   "outputs": [],
   "source": [
    "#create various features\n",
    "\n",
    "merged['yac/rec_x'] = merged['yac_rolling']/merged['complete_pass_rolling']\n",
    "merged['xyac/rec_x'] = merged['xyac_rolling']/merged['complete_pass_rolling']\n",
    "\n",
    "\n",
    "merged['yac/rec_y'] = merged['yards_after_catch']/merged['complete_pass']\n",
    "merged['xyac/rec_y'] = merged['xyac_mean_yardage']/merged['complete_pass']\n",
    "\n",
    "merged['yacoe_x'] = merged['yac/rec_x'] - merged['xyac/rec_x']\n",
    "merged['yacoe_y'] = merged['yac/rec_y'] - merged['xyac/rec_y']\n",
    "\n",
    "merged['target_share_x'] = merged['targets_sum']/merged['team_attempts_rolling']\n",
    "\n",
    "merged['aDOT_x'] = merged['air_yards_rolling']/merged['targets_sum']\n",
    "merged['AY_share_x'] = merged['air_yards_rolling']/merged['team_air_yards_rolling']\n",
    "\n",
    "\n",
    "\n",
    "merged['catch_rate_x'] = merged['complete_pass_rolling']/merged['targets_sum']\n",
    "merged['catch_rate_y'] = merged['complete_pass']/merged['targets']\n",
    "\n",
    "merged['catch_over_e_x'] = merged['complete_pass_rolling']-merged['cp_rolling']\n",
    "merged['catch_over_e_y'] = merged['complete_pass']-merged['cp']\n",
    "\n",
    "merged['cpoe_x'] = merged['catch_over_e_x']/merged['targets_sum']\n",
    "merged['cpoe_y'] = merged['catch_over_e_y']/merged['targets']\n",
    "\n",
    "\n",
    "merged['Yards/game_x'] = merged['Yards/game']\n",
    "merged['Yards/game_y'] = merged['yards_gained']\n",
    "\n",
    "merged['xYards/game_x'] = merged['xYards/game']\n",
    "merged['xYards/game_y'] = merged['xYards_y']\n",
    "\n",
    "\n",
    "merged['targets/game_x'] = merged['targets_sum']/merged['games_played']\n",
    "merged['targets/game_y'] = merged['targets']\n",
    "\n",
    "merged['Diff_x'] = merged['Yards/game_x']-merged['xYards/game_x']\n",
    "merged['Diff_y'] = merged['Yards/game_y']-merged['xYards/game_y']"
   ]
  },
  {
   "cell_type": "code",
   "execution_count": null,
   "metadata": {
    "id": "aLreXibtBQVG"
   },
   "outputs": [],
   "source": [
    "merged['xYards/target_x'] = merged['xYards_sum']/merged['targets_sum']\n",
    "merged['xYards/target_y'] = merged['xYards_y']/merged['targets']\n"
   ]
  },
  {
   "cell_type": "code",
   "execution_count": null,
   "metadata": {
    "colab": {
     "base_uri": "https://localhost:8080/"
    },
    "id": "p3VZuu4fKkns",
    "outputId": "ee7a2770-42ac-4fdd-91c2-0663b2011de8"
   },
   "outputs": [],
   "source": [
    "merged['xYards/target_y']"
   ]
  },
  {
   "cell_type": "code",
   "execution_count": null,
   "metadata": {
    "id": "bcRTjdYgFZfB"
   },
   "outputs": [],
   "source": [
    "corr_dict = {}\n",
    "metric_list = ['Yards/game_x','xYards/game_x','yacoe_x','xYards/target_x','catch_rate_x','catch_rate_x','catch_over_e_x','targets/game_x','Diff_x']\n",
    "\n",
    "for metric in metric_list:\n",
    " x = metric\n",
    " y = metric[:-2] + '_y'\n",
    " r = round(merged[x].corr(merged[y]),2)\n",
    " corr_dict.update({metric[:-2]:r})"
   ]
  },
  {
   "cell_type": "code",
   "execution_count": null,
   "metadata": {
    "colab": {
     "base_uri": "https://localhost:8080/",
     "height": 300
    },
    "id": "SuVtZnzTHRho",
    "outputId": "3981ed8a-adfb-43bc-ec49-b9c118458fb6",
    "scrolled": true
   },
   "outputs": [],
   "source": [
    "pd.DataFrame([corr_dict]).transpose().sort_values(0,ascending=False).rename(columns={0:'r'})"
   ]
  },
  {
   "cell_type": "markdown",
   "metadata": {
    "id": "aln6wJvWArS3"
   },
   "source": [
    "As was the case when looking at things from one year to the next, within the season, expected yards are more consistent than actual yardage.\n",
    "\n",
    "Also, opportunity metrics (xYards/target and target volume) are more consistent than efficiency metrics (catch rate and yards after catch stats). This is also evident in the low correlation between the delta between yards and xYards from the trailing-week group and target-week group.\n",
    "\n"
   ]
  },
  {
   "cell_type": "code",
   "execution_count": null,
   "metadata": {
    "colab": {
     "base_uri": "https://localhost:8080/",
     "height": 394
    },
    "id": "Qn_-KMv70HB8",
    "outputId": "567e5e54-c01a-43c0-b166-aa013d97b8a3"
   },
   "outputs": [],
   "source": [
    "merged[['weighted_xYards','weighted_yards','Yards/game_x','xYards/game_x','yacoe_x','xYards/target_x','catch_rate_x','Diff_x','catch_over_e_x','targets/game_x','yards_gained']].corr()[['yards_gained']].sort_values('yards_gained',ascending=False)"
   ]
  },
  {
   "cell_type": "code",
   "execution_count": null,
   "metadata": {
    "id": "rTIGU7GFLbJa"
   },
   "outputs": [],
   "source": [
    "merged_model = merged.copy()"
   ]
  },
  {
   "cell_type": "code",
   "execution_count": null,
   "metadata": {
    "id": "d07IkVJFB34m"
   },
   "outputs": [],
   "source": [
    "#from sklearn.ensemble import HistGradientBoostingRegressor"
   ]
  },
  {
   "cell_type": "markdown",
   "metadata": {
    "id": "6Igk0EWTCyPa"
   },
   "source": [
    "Before applying these findings to a model, we should first look at the difference between different positions."
   ]
  },
  {
   "cell_type": "code",
   "execution_count": null,
   "metadata": {
    "id": "fg16o-VLBBiy"
   },
   "outputs": [],
   "source": [
    "def position_handler(pos):\n",
    "  if pos in ['WR','RB','TE','FB']:\n",
    "    return pos\n",
    "  elif pos == 'RB/W':\n",
    "    return 'RB'\n",
    "  elif pos == 'WR/R':\n",
    "    return 'WR'\n",
    "  elif pos == 'HB':\n",
    "    return 'RB'\n",
    "  else:\n",
    "    return 'other'"
   ]
  },
  {
   "cell_type": "code",
   "execution_count": null,
   "metadata": {
    "id": "tFsBvqnRBDZu"
   },
   "outputs": [],
   "source": [
    "merged_model['position'] = merged_model['position'].apply(lambda x: position_handler(x))"
   ]
  },
  {
   "cell_type": "code",
   "execution_count": null,
   "metadata": {
    "colab": {
     "base_uri": "https://localhost:8080/"
    },
    "id": "etJIJEsPNbRa",
    "outputId": "531f736a-4a7a-4e9c-9617-5c6960193fa7"
   },
   "outputs": [],
   "source": [
    "for pos in merged_model['position'].unique():\n",
    "  positional_model = merged_model[merged_model['position']==pos]\n",
    "  yards_per_game = round(positional_model['yards_gained'].mean(),1)\n",
    "  print('{}: {}'.format(pos, yards_per_game))\n",
    "\n"
   ]
  },
  {
   "cell_type": "markdown",
   "metadata": {
    "id": "mwScpZ-UDuXr"
   },
   "source": [
    "Wide receivers gain much more yardage on average than other positions, so the model should account for this.\n",
    "\n",
    "Also, since non-WR/TE/RB/FB targets are rare, we should drop them to ensure the model is more generizable."
   ]
  },
  {
   "cell_type": "code",
   "execution_count": null,
   "metadata": {
    "id": "CUoSkQVZBM_Q"
   },
   "outputs": [],
   "source": [
    "#one hot-encode position\n",
    "\n",
    "one_hot = pd.get_dummies(merged_model['position'])\n",
    "merged_model = merged_model.drop('position',axis = 1)\n",
    "\n",
    "merged_model = merged_model.join(one_hot)\n",
    "\n",
    "#drop non WR/TE/RB/FB\n",
    "merged_model = merged_model[merged_model['other']==0]"
   ]
  },
  {
   "cell_type": "code",
   "execution_count": null,
   "metadata": {
    "colab": {
     "base_uri": "https://localhost:8080/"
    },
    "id": "bG68BiBu_eFN",
    "outputId": "b59a67ee-c9e8-4ace-a511-5387aa864d6c"
   },
   "outputs": [],
   "source": [
    "X = merged_model[['xYards/game','Yards/game']].dropna()\n",
    "\n",
    "\n",
    "y = merged_model['yards_gained']\n",
    "linear_features = X.columns\n",
    "\n",
    "X_train, X_test, y_train, y_test = train_test_split(X, y, test_size=0.25, random_state=0)\n",
    "linear_model = LinearRegression().fit(X_train, y_train)\n",
    "\n",
    "\n",
    "\n",
    "#print('xYards per game w/ positions:',in_season_model.score(X_test, y_test).round(3))\n",
    "print('xYards mean:',linear_model.score(X_test, y_test).round(3))"
   ]
  },
  {
   "cell_type": "code",
   "execution_count": null,
   "metadata": {
    "colab": {
     "base_uri": "https://localhost:8080/"
    },
    "id": "l9wyYYww_v_0",
    "outputId": "d749848d-7a10-4cbe-fa42-f1182d18f8fa"
   },
   "outputs": [],
   "source": [
    "#tune max bins maybe\n",
    "\n",
    "X = merged_model[['xYards/game','Yards/game','RB','WR','FB']].dropna()\n",
    "#X = merged_model[['xYards/game','Yards/game']].dropna()\n",
    "#X = merged_model[['xYards/game','RB','WR','FB']].dropna()\n",
    "#X = merged_model[['xYards_median']].dropna()\n",
    "\n",
    "y = merged_model['yards_gained']\n",
    "features = X.columns\n",
    "\n",
    "X_train, X_test, y_train, y_test = train_test_split(X, y, test_size=0.25, random_state=0)\n",
    "in_season_model = GradientBoostingRegressor(max_depth=1,min_samples_split=2, n_estimators=100).fit(X_train, y_train)\n",
    "#in_season_model = GradientBoostingRegressor().fit(X_train, y_train)\n",
    "#in_season_model = GradientBoostingRegressor(learning_rate=0.01,max_depth=4,n_estimators=500,subsample=0.5).fit(X_train, y_train)\n",
    "\n",
    "\n",
    "\n",
    "#print('xYards per game w/ positions:',in_season_model.score(X_test, y_test).round(3))\n",
    "print('xYards mean:',in_season_model.score(X_test, y_test).round(3))"
   ]
  },
  {
   "cell_type": "code",
   "execution_count": null,
   "metadata": {
    "colab": {
     "base_uri": "https://localhost:8080/",
     "height": 224
    },
    "id": "r95loYacCC5U",
    "outputId": "d5324f8e-32f9-47a8-97fd-d20684fb89d3"
   },
   "outputs": [],
   "source": [
    "print('r^2:',in_season_model.score(X_test, y_test).round(3))\n",
    "\n",
    "\n",
    "feature_df = pd.DataFrame(in_season_model.feature_importances_)\n",
    "feature_list = []\n",
    "\n",
    "for feature in X.columns:\n",
    "    feature_list.append(feature)\n",
    "\n",
    "feature_df['Feature'] = feature_list\n",
    "feature_df.rename(columns = {0:'Importance'},inplace=True)\n",
    "\n",
    "feature_df = feature_df[['Feature','Importance']].sort_values('Importance',ascending = False)\n",
    "\n",
    "feature_df.sort_values('Importance',ascending=False)"
   ]
  },
  {
   "cell_type": "code",
   "execution_count": null,
   "metadata": {},
   "outputs": [],
   "source": [
    "pickle.dump(in_season_model, open('model.pkl', 'wb'))\n"
   ]
  },
  {
   "cell_type": "code",
   "execution_count": null,
   "metadata": {},
   "outputs": [],
   "source": [
    "parameters = {'learning_rate': [0.0001, 0.001, 0.01, 0.1, 0.2, 0.3],\n",
    "                  'subsample'    : [0.9, 0.5, 0.2, 0.1],\n",
    "                  'n_estimators' : [100,500,1000, 1500],\n",
    "                  'max_depth'    : [4,6,8,10]\n",
    "                 }"
   ]
  },
  {
   "cell_type": "code",
   "execution_count": null,
   "metadata": {},
   "outputs": [],
   "source": [
    "grid_GBR = GridSearchCV(estimator=GradientBoostingRegressor(), param_grid = parameters, cv = 2, n_jobs=-1,verbose=3)\n",
    "\n",
    "grid_GBR.fit(X_train, y_train)\n",
    "\n",
    "\n",
    "print(\"\\n The best estimator across ALL searched params:\\n\",grid_GBR.best_estimator_)\n",
    "print(\"\\n The best score across ALL searched params:\\n\",grid_GBR.best_score_)\n",
    "print(\"\\n The best parameters across ALL searched params:\\n\",grid_GBR.best_params_)"
   ]
  },
  {
   "cell_type": "code",
   "execution_count": null,
   "metadata": {},
   "outputs": [],
   "source": [
    "print('xYards mean:',grid_GBR.score(X_test, y_test).round(3))"
   ]
  },
  {
   "cell_type": "code",
   "execution_count": null,
   "metadata": {
    "colab": {
     "background_save": true
    },
    "id": "0aTD3EBVLwQx"
   },
   "outputs": [],
   "source": [
    "pickle.dump(linear_model, open('linear_model.pkl', 'wb'))\n"
   ]
  },
  {
   "cell_type": "code",
   "execution_count": null,
   "metadata": {},
   "outputs": [],
   "source": [
    "y_pred = in_season_model.predict(X_test)"
   ]
  },
  {
   "cell_type": "code",
   "execution_count": null,
   "metadata": {},
   "outputs": [],
   "source": [
    "import math\n",
    "MSE = np.square(np.subtract(y_pred,y_test)).mean() \n",
    " \n",
    "RMSE = math.sqrt(MSE)\n",
    "print(\"Root Mean Square Error - Betting line:\")\n",
    "print(round(RMSE,1))"
   ]
  },
  {
   "cell_type": "code",
   "execution_count": null,
   "metadata": {
    "scrolled": true
   },
   "outputs": [],
   "source": [
    "X_test['pYards'] = in_season_model.predict(X_test)\n",
    "\n",
    "\n",
    "\n",
    "\n",
    "\n"
   ]
  },
  {
   "cell_type": "code",
   "execution_count": null,
   "metadata": {},
   "outputs": [],
   "source": [
    "X_test['yards_gained']=y_test\n",
    "\n",
    "\n",
    "X_test[['xYards/game','Yards/game','RB','WR','FB','pYards','yards_gained']].corr()"
   ]
  },
  {
   "cell_type": "code",
   "execution_count": null,
   "metadata": {},
   "outputs": [],
   "source": [
    "X_test['error'] = X_test['pYards']-X_test['yards_gained']"
   ]
  },
  {
   "cell_type": "code",
   "execution_count": null,
   "metadata": {},
   "outputs": [],
   "source": [
    "X_test[['xYards/game','Yards/game','pYards','error']].corr()"
   ]
  },
  {
   "cell_type": "code",
   "execution_count": null,
   "metadata": {},
   "outputs": [],
   "source": []
  }
 ],
 "metadata": {
  "colab": {
   "collapsed_sections": [
    "0sU0UZc7lvJP"
   ],
   "provenance": []
  },
  "kernelspec": {
   "display_name": "Python 3 (ipykernel)",
   "language": "python",
   "name": "python3"
  },
  "language_info": {
   "codemirror_mode": {
    "name": "ipython",
    "version": 3
   },
   "file_extension": ".py",
   "mimetype": "text/x-python",
   "name": "python",
   "nbconvert_exporter": "python",
   "pygments_lexer": "ipython3",
   "version": "3.8.13"
  },
  "widgets": {
   "application/vnd.jupyter.widget-state+json": {
    "01559f1e6e0a439499b8acf03d716d6e": {
     "model_module": "@jupyter-widgets/controls",
     "model_module_version": "1.5.0",
     "model_name": "HTMLModel",
     "state": {
      "_dom_classes": [],
      "_model_module": "@jupyter-widgets/controls",
      "_model_module_version": "1.5.0",
      "_model_name": "HTMLModel",
      "_view_count": null,
      "_view_module": "@jupyter-widgets/controls",
      "_view_module_version": "1.5.0",
      "_view_name": "HTMLView",
      "description": "",
      "description_tooltip": null,
      "layout": "IPY_MODEL_25a577fb67b342439c2d214edef8e16a",
      "placeholder": "​",
      "style": "IPY_MODEL_afbaf31aa5074f789fbab2136a8978ca",
      "value": " 3697/3697 [02:49&lt;00:00, 22.83it/s]"
     }
    },
    "0343ae758c904bc5997108ea3eec84d4": {
     "model_module": "@jupyter-widgets/base",
     "model_module_version": "1.2.0",
     "model_name": "LayoutModel",
     "state": {
      "_model_module": "@jupyter-widgets/base",
      "_model_module_version": "1.2.0",
      "_model_name": "LayoutModel",
      "_view_count": null,
      "_view_module": "@jupyter-widgets/base",
      "_view_module_version": "1.2.0",
      "_view_name": "LayoutView",
      "align_content": null,
      "align_items": null,
      "align_self": null,
      "border": null,
      "bottom": null,
      "display": null,
      "flex": null,
      "flex_flow": null,
      "grid_area": null,
      "grid_auto_columns": null,
      "grid_auto_flow": null,
      "grid_auto_rows": null,
      "grid_column": null,
      "grid_gap": null,
      "grid_row": null,
      "grid_template_areas": null,
      "grid_template_columns": null,
      "grid_template_rows": null,
      "height": null,
      "justify_content": null,
      "justify_items": null,
      "left": null,
      "margin": null,
      "max_height": null,
      "max_width": null,
      "min_height": null,
      "min_width": null,
      "object_fit": null,
      "object_position": null,
      "order": null,
      "overflow": null,
      "overflow_x": null,
      "overflow_y": null,
      "padding": null,
      "right": null,
      "top": null,
      "visibility": null,
      "width": null
     }
    },
    "038cddf0546442c6aa8fa86079731d06": {
     "model_module": "@jupyter-widgets/controls",
     "model_module_version": "1.5.0",
     "model_name": "HTMLModel",
     "state": {
      "_dom_classes": [],
      "_model_module": "@jupyter-widgets/controls",
      "_model_module_version": "1.5.0",
      "_model_name": "HTMLModel",
      "_view_count": null,
      "_view_module": "@jupyter-widgets/controls",
      "_view_module_version": "1.5.0",
      "_view_name": "HTMLView",
      "description": "",
      "description_tooltip": null,
      "layout": "IPY_MODEL_8534924832054f2287aa0f018603d148",
      "placeholder": "​",
      "style": "IPY_MODEL_05323c15db054253a44683e5c34f19cf",
      "value": "100%"
     }
    },
    "05323c15db054253a44683e5c34f19cf": {
     "model_module": "@jupyter-widgets/controls",
     "model_module_version": "1.5.0",
     "model_name": "DescriptionStyleModel",
     "state": {
      "_model_module": "@jupyter-widgets/controls",
      "_model_module_version": "1.5.0",
      "_model_name": "DescriptionStyleModel",
      "_view_count": null,
      "_view_module": "@jupyter-widgets/base",
      "_view_module_version": "1.2.0",
      "_view_name": "StyleView",
      "description_width": ""
     }
    },
    "053e2d2200d943979096adba1a75e17b": {
     "model_module": "@jupyter-widgets/controls",
     "model_module_version": "1.5.0",
     "model_name": "HTMLModel",
     "state": {
      "_dom_classes": [],
      "_model_module": "@jupyter-widgets/controls",
      "_model_module_version": "1.5.0",
      "_model_name": "HTMLModel",
      "_view_count": null,
      "_view_module": "@jupyter-widgets/controls",
      "_view_module_version": "1.5.0",
      "_view_name": "HTMLView",
      "description": "",
      "description_tooltip": null,
      "layout": "IPY_MODEL_363b2b6f5bbf40ddb504c11a1ee15902",
      "placeholder": "​",
      "style": "IPY_MODEL_b5091535720c4edfb470c723fcc3e9b1",
      "value": " 3589/3589 [02:44&lt;00:00, 21.43it/s]"
     }
    },
    "06de928639a54866b9c009e4c7f14b36": {
     "model_module": "@jupyter-widgets/controls",
     "model_module_version": "1.5.0",
     "model_name": "ProgressStyleModel",
     "state": {
      "_model_module": "@jupyter-widgets/controls",
      "_model_module_version": "1.5.0",
      "_model_name": "ProgressStyleModel",
      "_view_count": null,
      "_view_module": "@jupyter-widgets/base",
      "_view_module_version": "1.2.0",
      "_view_name": "StyleView",
      "bar_color": null,
      "description_width": ""
     }
    },
    "0b500633a31a4513b16a12dae27396da": {
     "model_module": "@jupyter-widgets/controls",
     "model_module_version": "1.5.0",
     "model_name": "FloatProgressModel",
     "state": {
      "_dom_classes": [],
      "_model_module": "@jupyter-widgets/controls",
      "_model_module_version": "1.5.0",
      "_model_name": "FloatProgressModel",
      "_view_count": null,
      "_view_module": "@jupyter-widgets/controls",
      "_view_module_version": "1.5.0",
      "_view_name": "ProgressView",
      "bar_style": "success",
      "description": "",
      "description_tooltip": null,
      "layout": "IPY_MODEL_a12d19f1324c4250a55c8758738086c9",
      "max": 3693,
      "min": 0,
      "orientation": "horizontal",
      "style": "IPY_MODEL_6e14b5065fbb486a825bcfc570e27c02",
      "value": 3693
     }
    },
    "0bc5b2b3e409435d9e16dba78f3ce223": {
     "model_module": "@jupyter-widgets/controls",
     "model_module_version": "1.5.0",
     "model_name": "DescriptionStyleModel",
     "state": {
      "_model_module": "@jupyter-widgets/controls",
      "_model_module_version": "1.5.0",
      "_model_name": "DescriptionStyleModel",
      "_view_count": null,
      "_view_module": "@jupyter-widgets/base",
      "_view_module_version": "1.2.0",
      "_view_name": "StyleView",
      "description_width": ""
     }
    },
    "0c3ce6a1cf1943bdb1a5e16a25b2d46a": {
     "model_module": "@jupyter-widgets/base",
     "model_module_version": "1.2.0",
     "model_name": "LayoutModel",
     "state": {
      "_model_module": "@jupyter-widgets/base",
      "_model_module_version": "1.2.0",
      "_model_name": "LayoutModel",
      "_view_count": null,
      "_view_module": "@jupyter-widgets/base",
      "_view_module_version": "1.2.0",
      "_view_name": "LayoutView",
      "align_content": null,
      "align_items": null,
      "align_self": null,
      "border": null,
      "bottom": null,
      "display": null,
      "flex": null,
      "flex_flow": null,
      "grid_area": null,
      "grid_auto_columns": null,
      "grid_auto_flow": null,
      "grid_auto_rows": null,
      "grid_column": null,
      "grid_gap": null,
      "grid_row": null,
      "grid_template_areas": null,
      "grid_template_columns": null,
      "grid_template_rows": null,
      "height": null,
      "justify_content": null,
      "justify_items": null,
      "left": null,
      "margin": null,
      "max_height": null,
      "max_width": null,
      "min_height": null,
      "min_width": null,
      "object_fit": null,
      "object_position": null,
      "order": null,
      "overflow": null,
      "overflow_x": null,
      "overflow_y": null,
      "padding": null,
      "right": null,
      "top": null,
      "visibility": null,
      "width": null
     }
    },
    "0f15081fa8ac4261b5c0a3d71ef98c6c": {
     "model_module": "@jupyter-widgets/base",
     "model_module_version": "1.2.0",
     "model_name": "LayoutModel",
     "state": {
      "_model_module": "@jupyter-widgets/base",
      "_model_module_version": "1.2.0",
      "_model_name": "LayoutModel",
      "_view_count": null,
      "_view_module": "@jupyter-widgets/base",
      "_view_module_version": "1.2.0",
      "_view_name": "LayoutView",
      "align_content": null,
      "align_items": null,
      "align_self": null,
      "border": null,
      "bottom": null,
      "display": null,
      "flex": null,
      "flex_flow": null,
      "grid_area": null,
      "grid_auto_columns": null,
      "grid_auto_flow": null,
      "grid_auto_rows": null,
      "grid_column": null,
      "grid_gap": null,
      "grid_row": null,
      "grid_template_areas": null,
      "grid_template_columns": null,
      "grid_template_rows": null,
      "height": null,
      "justify_content": null,
      "justify_items": null,
      "left": null,
      "margin": null,
      "max_height": null,
      "max_width": null,
      "min_height": null,
      "min_width": null,
      "object_fit": null,
      "object_position": null,
      "order": null,
      "overflow": null,
      "overflow_x": null,
      "overflow_y": null,
      "padding": null,
      "right": null,
      "top": null,
      "visibility": null,
      "width": null
     }
    },
    "0fd0781674a749e08fe7630267648db4": {
     "model_module": "@jupyter-widgets/base",
     "model_module_version": "1.2.0",
     "model_name": "LayoutModel",
     "state": {
      "_model_module": "@jupyter-widgets/base",
      "_model_module_version": "1.2.0",
      "_model_name": "LayoutModel",
      "_view_count": null,
      "_view_module": "@jupyter-widgets/base",
      "_view_module_version": "1.2.0",
      "_view_name": "LayoutView",
      "align_content": null,
      "align_items": null,
      "align_self": null,
      "border": null,
      "bottom": null,
      "display": null,
      "flex": null,
      "flex_flow": null,
      "grid_area": null,
      "grid_auto_columns": null,
      "grid_auto_flow": null,
      "grid_auto_rows": null,
      "grid_column": null,
      "grid_gap": null,
      "grid_row": null,
      "grid_template_areas": null,
      "grid_template_columns": null,
      "grid_template_rows": null,
      "height": null,
      "justify_content": null,
      "justify_items": null,
      "left": null,
      "margin": null,
      "max_height": null,
      "max_width": null,
      "min_height": null,
      "min_width": null,
      "object_fit": null,
      "object_position": null,
      "order": null,
      "overflow": null,
      "overflow_x": null,
      "overflow_y": null,
      "padding": null,
      "right": null,
      "top": null,
      "visibility": null,
      "width": null
     }
    },
    "105bef8f0e4e4a0198f496a45bb8835b": {
     "model_module": "@jupyter-widgets/controls",
     "model_module_version": "1.5.0",
     "model_name": "HTMLModel",
     "state": {
      "_dom_classes": [],
      "_model_module": "@jupyter-widgets/controls",
      "_model_module_version": "1.5.0",
      "_model_name": "HTMLModel",
      "_view_count": null,
      "_view_module": "@jupyter-widgets/controls",
      "_view_module_version": "1.5.0",
      "_view_name": "HTMLView",
      "description": "",
      "description_tooltip": null,
      "layout": "IPY_MODEL_75a8f87de1194e219b54d31a558288e8",
      "placeholder": "​",
      "style": "IPY_MODEL_21ad01ae444d433383a136a1990e7212",
      "value": "100%"
     }
    },
    "13e438ac4978476aa13c8bacdaad9b0e": {
     "model_module": "@jupyter-widgets/controls",
     "model_module_version": "1.5.0",
     "model_name": "DescriptionStyleModel",
     "state": {
      "_model_module": "@jupyter-widgets/controls",
      "_model_module_version": "1.5.0",
      "_model_name": "DescriptionStyleModel",
      "_view_count": null,
      "_view_module": "@jupyter-widgets/base",
      "_view_module_version": "1.2.0",
      "_view_name": "StyleView",
      "description_width": ""
     }
    },
    "1524d5b94e68491db558dc6f95293eeb": {
     "model_module": "@jupyter-widgets/controls",
     "model_module_version": "1.5.0",
     "model_name": "DescriptionStyleModel",
     "state": {
      "_model_module": "@jupyter-widgets/controls",
      "_model_module_version": "1.5.0",
      "_model_name": "DescriptionStyleModel",
      "_view_count": null,
      "_view_module": "@jupyter-widgets/base",
      "_view_module_version": "1.2.0",
      "_view_name": "StyleView",
      "description_width": ""
     }
    },
    "17ab4a2a7fbd4fab8169c560193a6709": {
     "model_module": "@jupyter-widgets/controls",
     "model_module_version": "1.5.0",
     "model_name": "DescriptionStyleModel",
     "state": {
      "_model_module": "@jupyter-widgets/controls",
      "_model_module_version": "1.5.0",
      "_model_name": "DescriptionStyleModel",
      "_view_count": null,
      "_view_module": "@jupyter-widgets/base",
      "_view_module_version": "1.2.0",
      "_view_name": "StyleView",
      "description_width": ""
     }
    },
    "17f856f38279404aaf485fd566ea5e1e": {
     "model_module": "@jupyter-widgets/controls",
     "model_module_version": "1.5.0",
     "model_name": "DescriptionStyleModel",
     "state": {
      "_model_module": "@jupyter-widgets/controls",
      "_model_module_version": "1.5.0",
      "_model_name": "DescriptionStyleModel",
      "_view_count": null,
      "_view_module": "@jupyter-widgets/base",
      "_view_module_version": "1.2.0",
      "_view_name": "StyleView",
      "description_width": ""
     }
    },
    "1c2154257f4444f38347f902eda306b0": {
     "model_module": "@jupyter-widgets/base",
     "model_module_version": "1.2.0",
     "model_name": "LayoutModel",
     "state": {
      "_model_module": "@jupyter-widgets/base",
      "_model_module_version": "1.2.0",
      "_model_name": "LayoutModel",
      "_view_count": null,
      "_view_module": "@jupyter-widgets/base",
      "_view_module_version": "1.2.0",
      "_view_name": "LayoutView",
      "align_content": null,
      "align_items": null,
      "align_self": null,
      "border": null,
      "bottom": null,
      "display": null,
      "flex": null,
      "flex_flow": null,
      "grid_area": null,
      "grid_auto_columns": null,
      "grid_auto_flow": null,
      "grid_auto_rows": null,
      "grid_column": null,
      "grid_gap": null,
      "grid_row": null,
      "grid_template_areas": null,
      "grid_template_columns": null,
      "grid_template_rows": null,
      "height": null,
      "justify_content": null,
      "justify_items": null,
      "left": null,
      "margin": null,
      "max_height": null,
      "max_width": null,
      "min_height": null,
      "min_width": null,
      "object_fit": null,
      "object_position": null,
      "order": null,
      "overflow": null,
      "overflow_x": null,
      "overflow_y": null,
      "padding": null,
      "right": null,
      "top": null,
      "visibility": null,
      "width": null
     }
    },
    "1c46c1cefed642a0ad5d1bec3babb212": {
     "model_module": "@jupyter-widgets/base",
     "model_module_version": "1.2.0",
     "model_name": "LayoutModel",
     "state": {
      "_model_module": "@jupyter-widgets/base",
      "_model_module_version": "1.2.0",
      "_model_name": "LayoutModel",
      "_view_count": null,
      "_view_module": "@jupyter-widgets/base",
      "_view_module_version": "1.2.0",
      "_view_name": "LayoutView",
      "align_content": null,
      "align_items": null,
      "align_self": null,
      "border": null,
      "bottom": null,
      "display": null,
      "flex": null,
      "flex_flow": null,
      "grid_area": null,
      "grid_auto_columns": null,
      "grid_auto_flow": null,
      "grid_auto_rows": null,
      "grid_column": null,
      "grid_gap": null,
      "grid_row": null,
      "grid_template_areas": null,
      "grid_template_columns": null,
      "grid_template_rows": null,
      "height": null,
      "justify_content": null,
      "justify_items": null,
      "left": null,
      "margin": null,
      "max_height": null,
      "max_width": null,
      "min_height": null,
      "min_width": null,
      "object_fit": null,
      "object_position": null,
      "order": null,
      "overflow": null,
      "overflow_x": null,
      "overflow_y": null,
      "padding": null,
      "right": null,
      "top": null,
      "visibility": null,
      "width": null
     }
    },
    "1d00875afd1c45618d7341250506b832": {
     "model_module": "@jupyter-widgets/base",
     "model_module_version": "1.2.0",
     "model_name": "LayoutModel",
     "state": {
      "_model_module": "@jupyter-widgets/base",
      "_model_module_version": "1.2.0",
      "_model_name": "LayoutModel",
      "_view_count": null,
      "_view_module": "@jupyter-widgets/base",
      "_view_module_version": "1.2.0",
      "_view_name": "LayoutView",
      "align_content": null,
      "align_items": null,
      "align_self": null,
      "border": null,
      "bottom": null,
      "display": null,
      "flex": null,
      "flex_flow": null,
      "grid_area": null,
      "grid_auto_columns": null,
      "grid_auto_flow": null,
      "grid_auto_rows": null,
      "grid_column": null,
      "grid_gap": null,
      "grid_row": null,
      "grid_template_areas": null,
      "grid_template_columns": null,
      "grid_template_rows": null,
      "height": null,
      "justify_content": null,
      "justify_items": null,
      "left": null,
      "margin": null,
      "max_height": null,
      "max_width": null,
      "min_height": null,
      "min_width": null,
      "object_fit": null,
      "object_position": null,
      "order": null,
      "overflow": null,
      "overflow_x": null,
      "overflow_y": null,
      "padding": null,
      "right": null,
      "top": null,
      "visibility": null,
      "width": null
     }
    },
    "21ad01ae444d433383a136a1990e7212": {
     "model_module": "@jupyter-widgets/controls",
     "model_module_version": "1.5.0",
     "model_name": "DescriptionStyleModel",
     "state": {
      "_model_module": "@jupyter-widgets/controls",
      "_model_module_version": "1.5.0",
      "_model_name": "DescriptionStyleModel",
      "_view_count": null,
      "_view_module": "@jupyter-widgets/base",
      "_view_module_version": "1.2.0",
      "_view_name": "StyleView",
      "description_width": ""
     }
    },
    "249d4ef9000e46f0ad6327d98ac84695": {
     "model_module": "@jupyter-widgets/base",
     "model_module_version": "1.2.0",
     "model_name": "LayoutModel",
     "state": {
      "_model_module": "@jupyter-widgets/base",
      "_model_module_version": "1.2.0",
      "_model_name": "LayoutModel",
      "_view_count": null,
      "_view_module": "@jupyter-widgets/base",
      "_view_module_version": "1.2.0",
      "_view_name": "LayoutView",
      "align_content": null,
      "align_items": null,
      "align_self": null,
      "border": null,
      "bottom": null,
      "display": null,
      "flex": null,
      "flex_flow": null,
      "grid_area": null,
      "grid_auto_columns": null,
      "grid_auto_flow": null,
      "grid_auto_rows": null,
      "grid_column": null,
      "grid_gap": null,
      "grid_row": null,
      "grid_template_areas": null,
      "grid_template_columns": null,
      "grid_template_rows": null,
      "height": null,
      "justify_content": null,
      "justify_items": null,
      "left": null,
      "margin": null,
      "max_height": null,
      "max_width": null,
      "min_height": null,
      "min_width": null,
      "object_fit": null,
      "object_position": null,
      "order": null,
      "overflow": null,
      "overflow_x": null,
      "overflow_y": null,
      "padding": null,
      "right": null,
      "top": null,
      "visibility": null,
      "width": null
     }
    },
    "25a577fb67b342439c2d214edef8e16a": {
     "model_module": "@jupyter-widgets/base",
     "model_module_version": "1.2.0",
     "model_name": "LayoutModel",
     "state": {
      "_model_module": "@jupyter-widgets/base",
      "_model_module_version": "1.2.0",
      "_model_name": "LayoutModel",
      "_view_count": null,
      "_view_module": "@jupyter-widgets/base",
      "_view_module_version": "1.2.0",
      "_view_name": "LayoutView",
      "align_content": null,
      "align_items": null,
      "align_self": null,
      "border": null,
      "bottom": null,
      "display": null,
      "flex": null,
      "flex_flow": null,
      "grid_area": null,
      "grid_auto_columns": null,
      "grid_auto_flow": null,
      "grid_auto_rows": null,
      "grid_column": null,
      "grid_gap": null,
      "grid_row": null,
      "grid_template_areas": null,
      "grid_template_columns": null,
      "grid_template_rows": null,
      "height": null,
      "justify_content": null,
      "justify_items": null,
      "left": null,
      "margin": null,
      "max_height": null,
      "max_width": null,
      "min_height": null,
      "min_width": null,
      "object_fit": null,
      "object_position": null,
      "order": null,
      "overflow": null,
      "overflow_x": null,
      "overflow_y": null,
      "padding": null,
      "right": null,
      "top": null,
      "visibility": null,
      "width": null
     }
    },
    "25aabe0876d94784b6b195f70db9e32b": {
     "model_module": "@jupyter-widgets/base",
     "model_module_version": "1.2.0",
     "model_name": "LayoutModel",
     "state": {
      "_model_module": "@jupyter-widgets/base",
      "_model_module_version": "1.2.0",
      "_model_name": "LayoutModel",
      "_view_count": null,
      "_view_module": "@jupyter-widgets/base",
      "_view_module_version": "1.2.0",
      "_view_name": "LayoutView",
      "align_content": null,
      "align_items": null,
      "align_self": null,
      "border": null,
      "bottom": null,
      "display": null,
      "flex": null,
      "flex_flow": null,
      "grid_area": null,
      "grid_auto_columns": null,
      "grid_auto_flow": null,
      "grid_auto_rows": null,
      "grid_column": null,
      "grid_gap": null,
      "grid_row": null,
      "grid_template_areas": null,
      "grid_template_columns": null,
      "grid_template_rows": null,
      "height": null,
      "justify_content": null,
      "justify_items": null,
      "left": null,
      "margin": null,
      "max_height": null,
      "max_width": null,
      "min_height": null,
      "min_width": null,
      "object_fit": null,
      "object_position": null,
      "order": null,
      "overflow": null,
      "overflow_x": null,
      "overflow_y": null,
      "padding": null,
      "right": null,
      "top": null,
      "visibility": null,
      "width": null
     }
    },
    "2653778299384d10995f62fc586ac9c3": {
     "model_module": "@jupyter-widgets/base",
     "model_module_version": "1.2.0",
     "model_name": "LayoutModel",
     "state": {
      "_model_module": "@jupyter-widgets/base",
      "_model_module_version": "1.2.0",
      "_model_name": "LayoutModel",
      "_view_count": null,
      "_view_module": "@jupyter-widgets/base",
      "_view_module_version": "1.2.0",
      "_view_name": "LayoutView",
      "align_content": null,
      "align_items": null,
      "align_self": null,
      "border": null,
      "bottom": null,
      "display": null,
      "flex": null,
      "flex_flow": null,
      "grid_area": null,
      "grid_auto_columns": null,
      "grid_auto_flow": null,
      "grid_auto_rows": null,
      "grid_column": null,
      "grid_gap": null,
      "grid_row": null,
      "grid_template_areas": null,
      "grid_template_columns": null,
      "grid_template_rows": null,
      "height": null,
      "justify_content": null,
      "justify_items": null,
      "left": null,
      "margin": null,
      "max_height": null,
      "max_width": null,
      "min_height": null,
      "min_width": null,
      "object_fit": null,
      "object_position": null,
      "order": null,
      "overflow": null,
      "overflow_x": null,
      "overflow_y": null,
      "padding": null,
      "right": null,
      "top": null,
      "visibility": null,
      "width": null
     }
    },
    "2677d7080f7f469f930ac253967be338": {
     "model_module": "@jupyter-widgets/controls",
     "model_module_version": "1.5.0",
     "model_name": "HBoxModel",
     "state": {
      "_dom_classes": [],
      "_model_module": "@jupyter-widgets/controls",
      "_model_module_version": "1.5.0",
      "_model_name": "HBoxModel",
      "_view_count": null,
      "_view_module": "@jupyter-widgets/controls",
      "_view_module_version": "1.5.0",
      "_view_name": "HBoxView",
      "box_style": "",
      "children": [
       "IPY_MODEL_d01c885a2a134cfe98bbd9a0b780644c",
       "IPY_MODEL_0b500633a31a4513b16a12dae27396da",
       "IPY_MODEL_f47c2f0816f14dbfbfcbaa4a82cab2f7"
      ],
      "layout": "IPY_MODEL_6872638959614a82bab98c0f043a6208"
     }
    },
    "27242e6f037e474891a38b3f4cec52e0": {
     "model_module": "@jupyter-widgets/controls",
     "model_module_version": "1.5.0",
     "model_name": "ProgressStyleModel",
     "state": {
      "_model_module": "@jupyter-widgets/controls",
      "_model_module_version": "1.5.0",
      "_model_name": "ProgressStyleModel",
      "_view_count": null,
      "_view_module": "@jupyter-widgets/base",
      "_view_module_version": "1.2.0",
      "_view_name": "StyleView",
      "bar_color": null,
      "description_width": ""
     }
    },
    "2ad4168a1db34d23b65ae2c197c1dad9": {
     "model_module": "@jupyter-widgets/controls",
     "model_module_version": "1.5.0",
     "model_name": "HTMLModel",
     "state": {
      "_dom_classes": [],
      "_model_module": "@jupyter-widgets/controls",
      "_model_module_version": "1.5.0",
      "_model_name": "HTMLModel",
      "_view_count": null,
      "_view_module": "@jupyter-widgets/controls",
      "_view_module_version": "1.5.0",
      "_view_name": "HTMLView",
      "description": "",
      "description_tooltip": null,
      "layout": "IPY_MODEL_1c46c1cefed642a0ad5d1bec3babb212",
      "placeholder": "​",
      "style": "IPY_MODEL_9259a160e41a454a99e05b690ecae678",
      "value": " 3807/3807 [02:55&lt;00:00, 21.44it/s]"
     }
    },
    "2e17c3bab5be457a83fb8fd1c32832a3": {
     "model_module": "@jupyter-widgets/controls",
     "model_module_version": "1.5.0",
     "model_name": "HTMLModel",
     "state": {
      "_dom_classes": [],
      "_model_module": "@jupyter-widgets/controls",
      "_model_module_version": "1.5.0",
      "_model_name": "HTMLModel",
      "_view_count": null,
      "_view_module": "@jupyter-widgets/controls",
      "_view_module_version": "1.5.0",
      "_view_name": "HTMLView",
      "description": "",
      "description_tooltip": null,
      "layout": "IPY_MODEL_1d00875afd1c45618d7341250506b832",
      "placeholder": "​",
      "style": "IPY_MODEL_13e438ac4978476aa13c8bacdaad9b0e",
      "value": "100%"
     }
    },
    "2fc2ab75410d400381cc1ffe8d78c1e1": {
     "model_module": "@jupyter-widgets/controls",
     "model_module_version": "1.5.0",
     "model_name": "DescriptionStyleModel",
     "state": {
      "_model_module": "@jupyter-widgets/controls",
      "_model_module_version": "1.5.0",
      "_model_name": "DescriptionStyleModel",
      "_view_count": null,
      "_view_module": "@jupyter-widgets/base",
      "_view_module_version": "1.2.0",
      "_view_name": "StyleView",
      "description_width": ""
     }
    },
    "33c175b24a4a4637b312ecfbea4f5322": {
     "model_module": "@jupyter-widgets/controls",
     "model_module_version": "1.5.0",
     "model_name": "DescriptionStyleModel",
     "state": {
      "_model_module": "@jupyter-widgets/controls",
      "_model_module_version": "1.5.0",
      "_model_name": "DescriptionStyleModel",
      "_view_count": null,
      "_view_module": "@jupyter-widgets/base",
      "_view_module_version": "1.2.0",
      "_view_name": "StyleView",
      "description_width": ""
     }
    },
    "363b2b6f5bbf40ddb504c11a1ee15902": {
     "model_module": "@jupyter-widgets/base",
     "model_module_version": "1.2.0",
     "model_name": "LayoutModel",
     "state": {
      "_model_module": "@jupyter-widgets/base",
      "_model_module_version": "1.2.0",
      "_model_name": "LayoutModel",
      "_view_count": null,
      "_view_module": "@jupyter-widgets/base",
      "_view_module_version": "1.2.0",
      "_view_name": "LayoutView",
      "align_content": null,
      "align_items": null,
      "align_self": null,
      "border": null,
      "bottom": null,
      "display": null,
      "flex": null,
      "flex_flow": null,
      "grid_area": null,
      "grid_auto_columns": null,
      "grid_auto_flow": null,
      "grid_auto_rows": null,
      "grid_column": null,
      "grid_gap": null,
      "grid_row": null,
      "grid_template_areas": null,
      "grid_template_columns": null,
      "grid_template_rows": null,
      "height": null,
      "justify_content": null,
      "justify_items": null,
      "left": null,
      "margin": null,
      "max_height": null,
      "max_width": null,
      "min_height": null,
      "min_width": null,
      "object_fit": null,
      "object_position": null,
      "order": null,
      "overflow": null,
      "overflow_x": null,
      "overflow_y": null,
      "padding": null,
      "right": null,
      "top": null,
      "visibility": null,
      "width": null
     }
    },
    "370b41e5f54c48d4ad16aad77ce5212e": {
     "model_module": "@jupyter-widgets/controls",
     "model_module_version": "1.5.0",
     "model_name": "HTMLModel",
     "state": {
      "_dom_classes": [],
      "_model_module": "@jupyter-widgets/controls",
      "_model_module_version": "1.5.0",
      "_model_name": "HTMLModel",
      "_view_count": null,
      "_view_module": "@jupyter-widgets/controls",
      "_view_module_version": "1.5.0",
      "_view_name": "HTMLView",
      "description": "",
      "description_tooltip": null,
      "layout": "IPY_MODEL_3c39594aac484787b1e6b5ab72a44138",
      "placeholder": "​",
      "style": "IPY_MODEL_8c269607846649029d0edaa7d6cce6b8",
      "value": " 3603/3603 [02:46&lt;00:00, 22.63it/s]"
     }
    },
    "3c39594aac484787b1e6b5ab72a44138": {
     "model_module": "@jupyter-widgets/base",
     "model_module_version": "1.2.0",
     "model_name": "LayoutModel",
     "state": {
      "_model_module": "@jupyter-widgets/base",
      "_model_module_version": "1.2.0",
      "_model_name": "LayoutModel",
      "_view_count": null,
      "_view_module": "@jupyter-widgets/base",
      "_view_module_version": "1.2.0",
      "_view_name": "LayoutView",
      "align_content": null,
      "align_items": null,
      "align_self": null,
      "border": null,
      "bottom": null,
      "display": null,
      "flex": null,
      "flex_flow": null,
      "grid_area": null,
      "grid_auto_columns": null,
      "grid_auto_flow": null,
      "grid_auto_rows": null,
      "grid_column": null,
      "grid_gap": null,
      "grid_row": null,
      "grid_template_areas": null,
      "grid_template_columns": null,
      "grid_template_rows": null,
      "height": null,
      "justify_content": null,
      "justify_items": null,
      "left": null,
      "margin": null,
      "max_height": null,
      "max_width": null,
      "min_height": null,
      "min_width": null,
      "object_fit": null,
      "object_position": null,
      "order": null,
      "overflow": null,
      "overflow_x": null,
      "overflow_y": null,
      "padding": null,
      "right": null,
      "top": null,
      "visibility": null,
      "width": null
     }
    },
    "3dd968a197754d42aa6abaf76562c0a0": {
     "model_module": "@jupyter-widgets/base",
     "model_module_version": "1.2.0",
     "model_name": "LayoutModel",
     "state": {
      "_model_module": "@jupyter-widgets/base",
      "_model_module_version": "1.2.0",
      "_model_name": "LayoutModel",
      "_view_count": null,
      "_view_module": "@jupyter-widgets/base",
      "_view_module_version": "1.2.0",
      "_view_name": "LayoutView",
      "align_content": null,
      "align_items": null,
      "align_self": null,
      "border": null,
      "bottom": null,
      "display": null,
      "flex": null,
      "flex_flow": null,
      "grid_area": null,
      "grid_auto_columns": null,
      "grid_auto_flow": null,
      "grid_auto_rows": null,
      "grid_column": null,
      "grid_gap": null,
      "grid_row": null,
      "grid_template_areas": null,
      "grid_template_columns": null,
      "grid_template_rows": null,
      "height": null,
      "justify_content": null,
      "justify_items": null,
      "left": null,
      "margin": null,
      "max_height": null,
      "max_width": null,
      "min_height": null,
      "min_width": null,
      "object_fit": null,
      "object_position": null,
      "order": null,
      "overflow": null,
      "overflow_x": null,
      "overflow_y": null,
      "padding": null,
      "right": null,
      "top": null,
      "visibility": null,
      "width": null
     }
    },
    "3de590e0ecdb45da82c3d9a69d48e768": {
     "model_module": "@jupyter-widgets/controls",
     "model_module_version": "1.5.0",
     "model_name": "ProgressStyleModel",
     "state": {
      "_model_module": "@jupyter-widgets/controls",
      "_model_module_version": "1.5.0",
      "_model_name": "ProgressStyleModel",
      "_view_count": null,
      "_view_module": "@jupyter-widgets/base",
      "_view_module_version": "1.2.0",
      "_view_name": "StyleView",
      "bar_color": null,
      "description_width": ""
     }
    },
    "422f955b31204590bb0377e92b55b77f": {
     "model_module": "@jupyter-widgets/base",
     "model_module_version": "1.2.0",
     "model_name": "LayoutModel",
     "state": {
      "_model_module": "@jupyter-widgets/base",
      "_model_module_version": "1.2.0",
      "_model_name": "LayoutModel",
      "_view_count": null,
      "_view_module": "@jupyter-widgets/base",
      "_view_module_version": "1.2.0",
      "_view_name": "LayoutView",
      "align_content": null,
      "align_items": null,
      "align_self": null,
      "border": null,
      "bottom": null,
      "display": null,
      "flex": null,
      "flex_flow": null,
      "grid_area": null,
      "grid_auto_columns": null,
      "grid_auto_flow": null,
      "grid_auto_rows": null,
      "grid_column": null,
      "grid_gap": null,
      "grid_row": null,
      "grid_template_areas": null,
      "grid_template_columns": null,
      "grid_template_rows": null,
      "height": null,
      "justify_content": null,
      "justify_items": null,
      "left": null,
      "margin": null,
      "max_height": null,
      "max_width": null,
      "min_height": null,
      "min_width": null,
      "object_fit": null,
      "object_position": null,
      "order": null,
      "overflow": null,
      "overflow_x": null,
      "overflow_y": null,
      "padding": null,
      "right": null,
      "top": null,
      "visibility": null,
      "width": null
     }
    },
    "45b0ab9978eb46f28eb1865dfa760c54": {
     "model_module": "@jupyter-widgets/controls",
     "model_module_version": "1.5.0",
     "model_name": "HTMLModel",
     "state": {
      "_dom_classes": [],
      "_model_module": "@jupyter-widgets/controls",
      "_model_module_version": "1.5.0",
      "_model_name": "HTMLModel",
      "_view_count": null,
      "_view_module": "@jupyter-widgets/controls",
      "_view_module_version": "1.5.0",
      "_view_name": "HTMLView",
      "description": "",
      "description_tooltip": null,
      "layout": "IPY_MODEL_422f955b31204590bb0377e92b55b77f",
      "placeholder": "​",
      "style": "IPY_MODEL_6369d4b7cee64ca7bb13d62dde23770c",
      "value": "100%"
     }
    },
    "477c431f0db243f9b2c17bc584facb00": {
     "model_module": "@jupyter-widgets/base",
     "model_module_version": "1.2.0",
     "model_name": "LayoutModel",
     "state": {
      "_model_module": "@jupyter-widgets/base",
      "_model_module_version": "1.2.0",
      "_model_name": "LayoutModel",
      "_view_count": null,
      "_view_module": "@jupyter-widgets/base",
      "_view_module_version": "1.2.0",
      "_view_name": "LayoutView",
      "align_content": null,
      "align_items": null,
      "align_self": null,
      "border": null,
      "bottom": null,
      "display": null,
      "flex": null,
      "flex_flow": null,
      "grid_area": null,
      "grid_auto_columns": null,
      "grid_auto_flow": null,
      "grid_auto_rows": null,
      "grid_column": null,
      "grid_gap": null,
      "grid_row": null,
      "grid_template_areas": null,
      "grid_template_columns": null,
      "grid_template_rows": null,
      "height": null,
      "justify_content": null,
      "justify_items": null,
      "left": null,
      "margin": null,
      "max_height": null,
      "max_width": null,
      "min_height": null,
      "min_width": null,
      "object_fit": null,
      "object_position": null,
      "order": null,
      "overflow": null,
      "overflow_x": null,
      "overflow_y": null,
      "padding": null,
      "right": null,
      "top": null,
      "visibility": null,
      "width": null
     }
    },
    "482a86fad8e24d9ba6e0366bbb5ce461": {
     "model_module": "@jupyter-widgets/base",
     "model_module_version": "1.2.0",
     "model_name": "LayoutModel",
     "state": {
      "_model_module": "@jupyter-widgets/base",
      "_model_module_version": "1.2.0",
      "_model_name": "LayoutModel",
      "_view_count": null,
      "_view_module": "@jupyter-widgets/base",
      "_view_module_version": "1.2.0",
      "_view_name": "LayoutView",
      "align_content": null,
      "align_items": null,
      "align_self": null,
      "border": null,
      "bottom": null,
      "display": null,
      "flex": null,
      "flex_flow": null,
      "grid_area": null,
      "grid_auto_columns": null,
      "grid_auto_flow": null,
      "grid_auto_rows": null,
      "grid_column": null,
      "grid_gap": null,
      "grid_row": null,
      "grid_template_areas": null,
      "grid_template_columns": null,
      "grid_template_rows": null,
      "height": null,
      "justify_content": null,
      "justify_items": null,
      "left": null,
      "margin": null,
      "max_height": null,
      "max_width": null,
      "min_height": null,
      "min_width": null,
      "object_fit": null,
      "object_position": null,
      "order": null,
      "overflow": null,
      "overflow_x": null,
      "overflow_y": null,
      "padding": null,
      "right": null,
      "top": null,
      "visibility": null,
      "width": null
     }
    },
    "48c78126b491430eb8961b8219dd6695": {
     "model_module": "@jupyter-widgets/base",
     "model_module_version": "1.2.0",
     "model_name": "LayoutModel",
     "state": {
      "_model_module": "@jupyter-widgets/base",
      "_model_module_version": "1.2.0",
      "_model_name": "LayoutModel",
      "_view_count": null,
      "_view_module": "@jupyter-widgets/base",
      "_view_module_version": "1.2.0",
      "_view_name": "LayoutView",
      "align_content": null,
      "align_items": null,
      "align_self": null,
      "border": null,
      "bottom": null,
      "display": null,
      "flex": null,
      "flex_flow": null,
      "grid_area": null,
      "grid_auto_columns": null,
      "grid_auto_flow": null,
      "grid_auto_rows": null,
      "grid_column": null,
      "grid_gap": null,
      "grid_row": null,
      "grid_template_areas": null,
      "grid_template_columns": null,
      "grid_template_rows": null,
      "height": null,
      "justify_content": null,
      "justify_items": null,
      "left": null,
      "margin": null,
      "max_height": null,
      "max_width": null,
      "min_height": null,
      "min_width": null,
      "object_fit": null,
      "object_position": null,
      "order": null,
      "overflow": null,
      "overflow_x": null,
      "overflow_y": null,
      "padding": null,
      "right": null,
      "top": null,
      "visibility": null,
      "width": null
     }
    },
    "4ea59b08bd86496692904e26589ef017": {
     "model_module": "@jupyter-widgets/controls",
     "model_module_version": "1.5.0",
     "model_name": "DescriptionStyleModel",
     "state": {
      "_model_module": "@jupyter-widgets/controls",
      "_model_module_version": "1.5.0",
      "_model_name": "DescriptionStyleModel",
      "_view_count": null,
      "_view_module": "@jupyter-widgets/base",
      "_view_module_version": "1.2.0",
      "_view_name": "StyleView",
      "description_width": ""
     }
    },
    "5316e0bf097948dc81363cd0b2f00197": {
     "model_module": "@jupyter-widgets/controls",
     "model_module_version": "1.5.0",
     "model_name": "FloatProgressModel",
     "state": {
      "_dom_classes": [],
      "_model_module": "@jupyter-widgets/controls",
      "_model_module_version": "1.5.0",
      "_model_name": "FloatProgressModel",
      "_view_count": null,
      "_view_module": "@jupyter-widgets/controls",
      "_view_module_version": "1.5.0",
      "_view_name": "ProgressView",
      "bar_style": "success",
      "description": "",
      "description_tooltip": null,
      "layout": "IPY_MODEL_c1636d6d2ecd4f4bae1a299616825efe",
      "max": 3700,
      "min": 0,
      "orientation": "horizontal",
      "style": "IPY_MODEL_58fb556d59cd4f8f8791d30d5a3e1dfb",
      "value": 3700
     }
    },
    "55affb20b0e64ba3bd18d3cbfeb22dcf": {
     "model_module": "@jupyter-widgets/base",
     "model_module_version": "1.2.0",
     "model_name": "LayoutModel",
     "state": {
      "_model_module": "@jupyter-widgets/base",
      "_model_module_version": "1.2.0",
      "_model_name": "LayoutModel",
      "_view_count": null,
      "_view_module": "@jupyter-widgets/base",
      "_view_module_version": "1.2.0",
      "_view_name": "LayoutView",
      "align_content": null,
      "align_items": null,
      "align_self": null,
      "border": null,
      "bottom": null,
      "display": null,
      "flex": null,
      "flex_flow": null,
      "grid_area": null,
      "grid_auto_columns": null,
      "grid_auto_flow": null,
      "grid_auto_rows": null,
      "grid_column": null,
      "grid_gap": null,
      "grid_row": null,
      "grid_template_areas": null,
      "grid_template_columns": null,
      "grid_template_rows": null,
      "height": null,
      "justify_content": null,
      "justify_items": null,
      "left": null,
      "margin": null,
      "max_height": null,
      "max_width": null,
      "min_height": null,
      "min_width": null,
      "object_fit": null,
      "object_position": null,
      "order": null,
      "overflow": null,
      "overflow_x": null,
      "overflow_y": null,
      "padding": null,
      "right": null,
      "top": null,
      "visibility": null,
      "width": null
     }
    },
    "56cd5d067da84f5fa9527c57116243b9": {
     "model_module": "@jupyter-widgets/controls",
     "model_module_version": "1.5.0",
     "model_name": "HTMLModel",
     "state": {
      "_dom_classes": [],
      "_model_module": "@jupyter-widgets/controls",
      "_model_module_version": "1.5.0",
      "_model_name": "HTMLModel",
      "_view_count": null,
      "_view_module": "@jupyter-widgets/controls",
      "_view_module_version": "1.5.0",
      "_view_name": "HTMLView",
      "description": "",
      "description_tooltip": null,
      "layout": "IPY_MODEL_0f15081fa8ac4261b5c0a3d71ef98c6c",
      "placeholder": "​",
      "style": "IPY_MODEL_2fc2ab75410d400381cc1ffe8d78c1e1",
      "value": " 3700/3700 [02:50&lt;00:00, 22.60it/s]"
     }
    },
    "58fb556d59cd4f8f8791d30d5a3e1dfb": {
     "model_module": "@jupyter-widgets/controls",
     "model_module_version": "1.5.0",
     "model_name": "ProgressStyleModel",
     "state": {
      "_model_module": "@jupyter-widgets/controls",
      "_model_module_version": "1.5.0",
      "_model_name": "ProgressStyleModel",
      "_view_count": null,
      "_view_module": "@jupyter-widgets/base",
      "_view_module_version": "1.2.0",
      "_view_name": "StyleView",
      "bar_color": null,
      "description_width": ""
     }
    },
    "5b7ecfadc3b94c33a450c6ce9ac7c09b": {
     "model_module": "@jupyter-widgets/controls",
     "model_module_version": "1.5.0",
     "model_name": "HBoxModel",
     "state": {
      "_dom_classes": [],
      "_model_module": "@jupyter-widgets/controls",
      "_model_module_version": "1.5.0",
      "_model_name": "HBoxModel",
      "_view_count": null,
      "_view_module": "@jupyter-widgets/controls",
      "_view_module_version": "1.5.0",
      "_view_name": "HBoxView",
      "box_style": "",
      "children": [
       "IPY_MODEL_105bef8f0e4e4a0198f496a45bb8835b",
       "IPY_MODEL_dcaec88bba114d3ab10d92dbf82debe2",
       "IPY_MODEL_7daf0d7969fa4ea0acc71eca17d55df4"
      ],
      "layout": "IPY_MODEL_5ba962cd9df748b5b0d525464c40701f"
     }
    },
    "5ba962cd9df748b5b0d525464c40701f": {
     "model_module": "@jupyter-widgets/base",
     "model_module_version": "1.2.0",
     "model_name": "LayoutModel",
     "state": {
      "_model_module": "@jupyter-widgets/base",
      "_model_module_version": "1.2.0",
      "_model_name": "LayoutModel",
      "_view_count": null,
      "_view_module": "@jupyter-widgets/base",
      "_view_module_version": "1.2.0",
      "_view_name": "LayoutView",
      "align_content": null,
      "align_items": null,
      "align_self": null,
      "border": null,
      "bottom": null,
      "display": null,
      "flex": null,
      "flex_flow": null,
      "grid_area": null,
      "grid_auto_columns": null,
      "grid_auto_flow": null,
      "grid_auto_rows": null,
      "grid_column": null,
      "grid_gap": null,
      "grid_row": null,
      "grid_template_areas": null,
      "grid_template_columns": null,
      "grid_template_rows": null,
      "height": null,
      "justify_content": null,
      "justify_items": null,
      "left": null,
      "margin": null,
      "max_height": null,
      "max_width": null,
      "min_height": null,
      "min_width": null,
      "object_fit": null,
      "object_position": null,
      "order": null,
      "overflow": null,
      "overflow_x": null,
      "overflow_y": null,
      "padding": null,
      "right": null,
      "top": null,
      "visibility": null,
      "width": null
     }
    },
    "5bcc8c276c6c43ff99f5adcbcb5405a0": {
     "model_module": "@jupyter-widgets/controls",
     "model_module_version": "1.5.0",
     "model_name": "FloatProgressModel",
     "state": {
      "_dom_classes": [],
      "_model_module": "@jupyter-widgets/controls",
      "_model_module_version": "1.5.0",
      "_model_name": "FloatProgressModel",
      "_view_count": null,
      "_view_module": "@jupyter-widgets/controls",
      "_view_module_version": "1.5.0",
      "_view_name": "ProgressView",
      "bar_style": "success",
      "description": "",
      "description_tooltip": null,
      "layout": "IPY_MODEL_e72cab1d94f74126933cd8e3cd2c0b7d",
      "max": 3603,
      "min": 0,
      "orientation": "horizontal",
      "style": "IPY_MODEL_ccf284246aee46edbde52756fc46b6b9",
      "value": 3603
     }
    },
    "615697fcd2044142a3e6d17ae6201876": {
     "model_module": "@jupyter-widgets/controls",
     "model_module_version": "1.5.0",
     "model_name": "FloatProgressModel",
     "state": {
      "_dom_classes": [],
      "_model_module": "@jupyter-widgets/controls",
      "_model_module_version": "1.5.0",
      "_model_name": "FloatProgressModel",
      "_view_count": null,
      "_view_module": "@jupyter-widgets/controls",
      "_view_module_version": "1.5.0",
      "_view_name": "ProgressView",
      "bar_style": "success",
      "description": "",
      "description_tooltip": null,
      "layout": "IPY_MODEL_55affb20b0e64ba3bd18d3cbfeb22dcf",
      "max": 3681,
      "min": 0,
      "orientation": "horizontal",
      "style": "IPY_MODEL_3de590e0ecdb45da82c3d9a69d48e768",
      "value": 3681
     }
    },
    "6178620286344a7da8fd7eeb0b565b3e": {
     "model_module": "@jupyter-widgets/base",
     "model_module_version": "1.2.0",
     "model_name": "LayoutModel",
     "state": {
      "_model_module": "@jupyter-widgets/base",
      "_model_module_version": "1.2.0",
      "_model_name": "LayoutModel",
      "_view_count": null,
      "_view_module": "@jupyter-widgets/base",
      "_view_module_version": "1.2.0",
      "_view_name": "LayoutView",
      "align_content": null,
      "align_items": null,
      "align_self": null,
      "border": null,
      "bottom": null,
      "display": null,
      "flex": null,
      "flex_flow": null,
      "grid_area": null,
      "grid_auto_columns": null,
      "grid_auto_flow": null,
      "grid_auto_rows": null,
      "grid_column": null,
      "grid_gap": null,
      "grid_row": null,
      "grid_template_areas": null,
      "grid_template_columns": null,
      "grid_template_rows": null,
      "height": null,
      "justify_content": null,
      "justify_items": null,
      "left": null,
      "margin": null,
      "max_height": null,
      "max_width": null,
      "min_height": null,
      "min_width": null,
      "object_fit": null,
      "object_position": null,
      "order": null,
      "overflow": null,
      "overflow_x": null,
      "overflow_y": null,
      "padding": null,
      "right": null,
      "top": null,
      "visibility": null,
      "width": null
     }
    },
    "6369d4b7cee64ca7bb13d62dde23770c": {
     "model_module": "@jupyter-widgets/controls",
     "model_module_version": "1.5.0",
     "model_name": "DescriptionStyleModel",
     "state": {
      "_model_module": "@jupyter-widgets/controls",
      "_model_module_version": "1.5.0",
      "_model_name": "DescriptionStyleModel",
      "_view_count": null,
      "_view_module": "@jupyter-widgets/base",
      "_view_module_version": "1.2.0",
      "_view_name": "StyleView",
      "description_width": ""
     }
    },
    "6872638959614a82bab98c0f043a6208": {
     "model_module": "@jupyter-widgets/base",
     "model_module_version": "1.2.0",
     "model_name": "LayoutModel",
     "state": {
      "_model_module": "@jupyter-widgets/base",
      "_model_module_version": "1.2.0",
      "_model_name": "LayoutModel",
      "_view_count": null,
      "_view_module": "@jupyter-widgets/base",
      "_view_module_version": "1.2.0",
      "_view_name": "LayoutView",
      "align_content": null,
      "align_items": null,
      "align_self": null,
      "border": null,
      "bottom": null,
      "display": null,
      "flex": null,
      "flex_flow": null,
      "grid_area": null,
      "grid_auto_columns": null,
      "grid_auto_flow": null,
      "grid_auto_rows": null,
      "grid_column": null,
      "grid_gap": null,
      "grid_row": null,
      "grid_template_areas": null,
      "grid_template_columns": null,
      "grid_template_rows": null,
      "height": null,
      "justify_content": null,
      "justify_items": null,
      "left": null,
      "margin": null,
      "max_height": null,
      "max_width": null,
      "min_height": null,
      "min_width": null,
      "object_fit": null,
      "object_position": null,
      "order": null,
      "overflow": null,
      "overflow_x": null,
      "overflow_y": null,
      "padding": null,
      "right": null,
      "top": null,
      "visibility": null,
      "width": null
     }
    },
    "6cb40d1a9db644d5ac55a0ee434245e8": {
     "model_module": "@jupyter-widgets/controls",
     "model_module_version": "1.5.0",
     "model_name": "DescriptionStyleModel",
     "state": {
      "_model_module": "@jupyter-widgets/controls",
      "_model_module_version": "1.5.0",
      "_model_name": "DescriptionStyleModel",
      "_view_count": null,
      "_view_module": "@jupyter-widgets/base",
      "_view_module_version": "1.2.0",
      "_view_name": "StyleView",
      "description_width": ""
     }
    },
    "6e14b5065fbb486a825bcfc570e27c02": {
     "model_module": "@jupyter-widgets/controls",
     "model_module_version": "1.5.0",
     "model_name": "ProgressStyleModel",
     "state": {
      "_model_module": "@jupyter-widgets/controls",
      "_model_module_version": "1.5.0",
      "_model_name": "ProgressStyleModel",
      "_view_count": null,
      "_view_module": "@jupyter-widgets/base",
      "_view_module_version": "1.2.0",
      "_view_name": "StyleView",
      "bar_color": null,
      "description_width": ""
     }
    },
    "75a8f87de1194e219b54d31a558288e8": {
     "model_module": "@jupyter-widgets/base",
     "model_module_version": "1.2.0",
     "model_name": "LayoutModel",
     "state": {
      "_model_module": "@jupyter-widgets/base",
      "_model_module_version": "1.2.0",
      "_model_name": "LayoutModel",
      "_view_count": null,
      "_view_module": "@jupyter-widgets/base",
      "_view_module_version": "1.2.0",
      "_view_name": "LayoutView",
      "align_content": null,
      "align_items": null,
      "align_self": null,
      "border": null,
      "bottom": null,
      "display": null,
      "flex": null,
      "flex_flow": null,
      "grid_area": null,
      "grid_auto_columns": null,
      "grid_auto_flow": null,
      "grid_auto_rows": null,
      "grid_column": null,
      "grid_gap": null,
      "grid_row": null,
      "grid_template_areas": null,
      "grid_template_columns": null,
      "grid_template_rows": null,
      "height": null,
      "justify_content": null,
      "justify_items": null,
      "left": null,
      "margin": null,
      "max_height": null,
      "max_width": null,
      "min_height": null,
      "min_width": null,
      "object_fit": null,
      "object_position": null,
      "order": null,
      "overflow": null,
      "overflow_x": null,
      "overflow_y": null,
      "padding": null,
      "right": null,
      "top": null,
      "visibility": null,
      "width": null
     }
    },
    "79e6606f66a3405f92fccda71bcec97c": {
     "model_module": "@jupyter-widgets/base",
     "model_module_version": "1.2.0",
     "model_name": "LayoutModel",
     "state": {
      "_model_module": "@jupyter-widgets/base",
      "_model_module_version": "1.2.0",
      "_model_name": "LayoutModel",
      "_view_count": null,
      "_view_module": "@jupyter-widgets/base",
      "_view_module_version": "1.2.0",
      "_view_name": "LayoutView",
      "align_content": null,
      "align_items": null,
      "align_self": null,
      "border": null,
      "bottom": null,
      "display": null,
      "flex": null,
      "flex_flow": null,
      "grid_area": null,
      "grid_auto_columns": null,
      "grid_auto_flow": null,
      "grid_auto_rows": null,
      "grid_column": null,
      "grid_gap": null,
      "grid_row": null,
      "grid_template_areas": null,
      "grid_template_columns": null,
      "grid_template_rows": null,
      "height": null,
      "justify_content": null,
      "justify_items": null,
      "left": null,
      "margin": null,
      "max_height": null,
      "max_width": null,
      "min_height": null,
      "min_width": null,
      "object_fit": null,
      "object_position": null,
      "order": null,
      "overflow": null,
      "overflow_x": null,
      "overflow_y": null,
      "padding": null,
      "right": null,
      "top": null,
      "visibility": null,
      "width": null
     }
    },
    "7ab4e8525cc641e3b2b4cbbdb3b4b3d5": {
     "model_module": "@jupyter-widgets/controls",
     "model_module_version": "1.5.0",
     "model_name": "HBoxModel",
     "state": {
      "_dom_classes": [],
      "_model_module": "@jupyter-widgets/controls",
      "_model_module_version": "1.5.0",
      "_model_name": "HBoxModel",
      "_view_count": null,
      "_view_module": "@jupyter-widgets/controls",
      "_view_module_version": "1.5.0",
      "_view_name": "HBoxView",
      "box_style": "",
      "children": [
       "IPY_MODEL_fa27ce29b30d4060bf3a71193957ae4f",
       "IPY_MODEL_5316e0bf097948dc81363cd0b2f00197",
       "IPY_MODEL_56cd5d067da84f5fa9527c57116243b9"
      ],
      "layout": "IPY_MODEL_25aabe0876d94784b6b195f70db9e32b"
     }
    },
    "7daf0d7969fa4ea0acc71eca17d55df4": {
     "model_module": "@jupyter-widgets/controls",
     "model_module_version": "1.5.0",
     "model_name": "HTMLModel",
     "state": {
      "_dom_classes": [],
      "_model_module": "@jupyter-widgets/controls",
      "_model_module_version": "1.5.0",
      "_model_name": "HTMLModel",
      "_view_count": null,
      "_view_module": "@jupyter-widgets/controls",
      "_view_module_version": "1.5.0",
      "_view_name": "HTMLView",
      "description": "",
      "description_tooltip": null,
      "layout": "IPY_MODEL_878971d8611d46bf8f4c27f16c2ef42b",
      "placeholder": "​",
      "style": "IPY_MODEL_4ea59b08bd86496692904e26589ef017",
      "value": " 3684/3684 [02:46&lt;00:00, 23.63it/s]"
     }
    },
    "818084fddff042d09233e49e8ce21825": {
     "model_module": "@jupyter-widgets/controls",
     "model_module_version": "1.5.0",
     "model_name": "ProgressStyleModel",
     "state": {
      "_model_module": "@jupyter-widgets/controls",
      "_model_module_version": "1.5.0",
      "_model_name": "ProgressStyleModel",
      "_view_count": null,
      "_view_module": "@jupyter-widgets/base",
      "_view_module_version": "1.2.0",
      "_view_name": "StyleView",
      "bar_color": null,
      "description_width": ""
     }
    },
    "8534924832054f2287aa0f018603d148": {
     "model_module": "@jupyter-widgets/base",
     "model_module_version": "1.2.0",
     "model_name": "LayoutModel",
     "state": {
      "_model_module": "@jupyter-widgets/base",
      "_model_module_version": "1.2.0",
      "_model_name": "LayoutModel",
      "_view_count": null,
      "_view_module": "@jupyter-widgets/base",
      "_view_module_version": "1.2.0",
      "_view_name": "LayoutView",
      "align_content": null,
      "align_items": null,
      "align_self": null,
      "border": null,
      "bottom": null,
      "display": null,
      "flex": null,
      "flex_flow": null,
      "grid_area": null,
      "grid_auto_columns": null,
      "grid_auto_flow": null,
      "grid_auto_rows": null,
      "grid_column": null,
      "grid_gap": null,
      "grid_row": null,
      "grid_template_areas": null,
      "grid_template_columns": null,
      "grid_template_rows": null,
      "height": null,
      "justify_content": null,
      "justify_items": null,
      "left": null,
      "margin": null,
      "max_height": null,
      "max_width": null,
      "min_height": null,
      "min_width": null,
      "object_fit": null,
      "object_position": null,
      "order": null,
      "overflow": null,
      "overflow_x": null,
      "overflow_y": null,
      "padding": null,
      "right": null,
      "top": null,
      "visibility": null,
      "width": null
     }
    },
    "878971d8611d46bf8f4c27f16c2ef42b": {
     "model_module": "@jupyter-widgets/base",
     "model_module_version": "1.2.0",
     "model_name": "LayoutModel",
     "state": {
      "_model_module": "@jupyter-widgets/base",
      "_model_module_version": "1.2.0",
      "_model_name": "LayoutModel",
      "_view_count": null,
      "_view_module": "@jupyter-widgets/base",
      "_view_module_version": "1.2.0",
      "_view_name": "LayoutView",
      "align_content": null,
      "align_items": null,
      "align_self": null,
      "border": null,
      "bottom": null,
      "display": null,
      "flex": null,
      "flex_flow": null,
      "grid_area": null,
      "grid_auto_columns": null,
      "grid_auto_flow": null,
      "grid_auto_rows": null,
      "grid_column": null,
      "grid_gap": null,
      "grid_row": null,
      "grid_template_areas": null,
      "grid_template_columns": null,
      "grid_template_rows": null,
      "height": null,
      "justify_content": null,
      "justify_items": null,
      "left": null,
      "margin": null,
      "max_height": null,
      "max_width": null,
      "min_height": null,
      "min_width": null,
      "object_fit": null,
      "object_position": null,
      "order": null,
      "overflow": null,
      "overflow_x": null,
      "overflow_y": null,
      "padding": null,
      "right": null,
      "top": null,
      "visibility": null,
      "width": null
     }
    },
    "88fe62a7e73d4e2bb8713d4ed08b1ba2": {
     "model_module": "@jupyter-widgets/base",
     "model_module_version": "1.2.0",
     "model_name": "LayoutModel",
     "state": {
      "_model_module": "@jupyter-widgets/base",
      "_model_module_version": "1.2.0",
      "_model_name": "LayoutModel",
      "_view_count": null,
      "_view_module": "@jupyter-widgets/base",
      "_view_module_version": "1.2.0",
      "_view_name": "LayoutView",
      "align_content": null,
      "align_items": null,
      "align_self": null,
      "border": null,
      "bottom": null,
      "display": null,
      "flex": null,
      "flex_flow": null,
      "grid_area": null,
      "grid_auto_columns": null,
      "grid_auto_flow": null,
      "grid_auto_rows": null,
      "grid_column": null,
      "grid_gap": null,
      "grid_row": null,
      "grid_template_areas": null,
      "grid_template_columns": null,
      "grid_template_rows": null,
      "height": null,
      "justify_content": null,
      "justify_items": null,
      "left": null,
      "margin": null,
      "max_height": null,
      "max_width": null,
      "min_height": null,
      "min_width": null,
      "object_fit": null,
      "object_position": null,
      "order": null,
      "overflow": null,
      "overflow_x": null,
      "overflow_y": null,
      "padding": null,
      "right": null,
      "top": null,
      "visibility": null,
      "width": null
     }
    },
    "8a446552cb924a0b8a103283b7526cf8": {
     "model_module": "@jupyter-widgets/base",
     "model_module_version": "1.2.0",
     "model_name": "LayoutModel",
     "state": {
      "_model_module": "@jupyter-widgets/base",
      "_model_module_version": "1.2.0",
      "_model_name": "LayoutModel",
      "_view_count": null,
      "_view_module": "@jupyter-widgets/base",
      "_view_module_version": "1.2.0",
      "_view_name": "LayoutView",
      "align_content": null,
      "align_items": null,
      "align_self": null,
      "border": null,
      "bottom": null,
      "display": null,
      "flex": null,
      "flex_flow": null,
      "grid_area": null,
      "grid_auto_columns": null,
      "grid_auto_flow": null,
      "grid_auto_rows": null,
      "grid_column": null,
      "grid_gap": null,
      "grid_row": null,
      "grid_template_areas": null,
      "grid_template_columns": null,
      "grid_template_rows": null,
      "height": null,
      "justify_content": null,
      "justify_items": null,
      "left": null,
      "margin": null,
      "max_height": null,
      "max_width": null,
      "min_height": null,
      "min_width": null,
      "object_fit": null,
      "object_position": null,
      "order": null,
      "overflow": null,
      "overflow_x": null,
      "overflow_y": null,
      "padding": null,
      "right": null,
      "top": null,
      "visibility": null,
      "width": null
     }
    },
    "8a4bae93e69b46c28f8a4074698b0d69": {
     "model_module": "@jupyter-widgets/controls",
     "model_module_version": "1.5.0",
     "model_name": "HTMLModel",
     "state": {
      "_dom_classes": [],
      "_model_module": "@jupyter-widgets/controls",
      "_model_module_version": "1.5.0",
      "_model_name": "HTMLModel",
      "_view_count": null,
      "_view_module": "@jupyter-widgets/controls",
      "_view_module_version": "1.5.0",
      "_view_name": "HTMLView",
      "description": "",
      "description_tooltip": null,
      "layout": "IPY_MODEL_48c78126b491430eb8961b8219dd6695",
      "placeholder": "​",
      "style": "IPY_MODEL_f71b5fae382c404ab0b61da81d9202ee",
      "value": "100%"
     }
    },
    "8c269607846649029d0edaa7d6cce6b8": {
     "model_module": "@jupyter-widgets/controls",
     "model_module_version": "1.5.0",
     "model_name": "DescriptionStyleModel",
     "state": {
      "_model_module": "@jupyter-widgets/controls",
      "_model_module_version": "1.5.0",
      "_model_name": "DescriptionStyleModel",
      "_view_count": null,
      "_view_module": "@jupyter-widgets/base",
      "_view_module_version": "1.2.0",
      "_view_name": "StyleView",
      "description_width": ""
     }
    },
    "9259a160e41a454a99e05b690ecae678": {
     "model_module": "@jupyter-widgets/controls",
     "model_module_version": "1.5.0",
     "model_name": "DescriptionStyleModel",
     "state": {
      "_model_module": "@jupyter-widgets/controls",
      "_model_module_version": "1.5.0",
      "_model_name": "DescriptionStyleModel",
      "_view_count": null,
      "_view_module": "@jupyter-widgets/base",
      "_view_module_version": "1.2.0",
      "_view_name": "StyleView",
      "description_width": ""
     }
    },
    "95129fba38964dbfbd5c6003cf31cf69": {
     "model_module": "@jupyter-widgets/base",
     "model_module_version": "1.2.0",
     "model_name": "LayoutModel",
     "state": {
      "_model_module": "@jupyter-widgets/base",
      "_model_module_version": "1.2.0",
      "_model_name": "LayoutModel",
      "_view_count": null,
      "_view_module": "@jupyter-widgets/base",
      "_view_module_version": "1.2.0",
      "_view_name": "LayoutView",
      "align_content": null,
      "align_items": null,
      "align_self": null,
      "border": null,
      "bottom": null,
      "display": null,
      "flex": null,
      "flex_flow": null,
      "grid_area": null,
      "grid_auto_columns": null,
      "grid_auto_flow": null,
      "grid_auto_rows": null,
      "grid_column": null,
      "grid_gap": null,
      "grid_row": null,
      "grid_template_areas": null,
      "grid_template_columns": null,
      "grid_template_rows": null,
      "height": null,
      "justify_content": null,
      "justify_items": null,
      "left": null,
      "margin": null,
      "max_height": null,
      "max_width": null,
      "min_height": null,
      "min_width": null,
      "object_fit": null,
      "object_position": null,
      "order": null,
      "overflow": null,
      "overflow_x": null,
      "overflow_y": null,
      "padding": null,
      "right": null,
      "top": null,
      "visibility": null,
      "width": null
     }
    },
    "9b7c09fdaa1d4f31a2085f6ffdbe52f7": {
     "model_module": "@jupyter-widgets/controls",
     "model_module_version": "1.5.0",
     "model_name": "HTMLModel",
     "state": {
      "_dom_classes": [],
      "_model_module": "@jupyter-widgets/controls",
      "_model_module_version": "1.5.0",
      "_model_name": "HTMLModel",
      "_view_count": null,
      "_view_module": "@jupyter-widgets/controls",
      "_view_module_version": "1.5.0",
      "_view_name": "HTMLView",
      "description": "",
      "description_tooltip": null,
      "layout": "IPY_MODEL_0c3ce6a1cf1943bdb1a5e16a25b2d46a",
      "placeholder": "​",
      "style": "IPY_MODEL_c229fcfcd5eb439fb77ad6419681ab77",
      "value": " 3681/3681 [02:48&lt;00:00, 22.11it/s]"
     }
    },
    "9ee780e0149f490cbcf1b2148dabf0e4": {
     "model_module": "@jupyter-widgets/controls",
     "model_module_version": "1.5.0",
     "model_name": "DescriptionStyleModel",
     "state": {
      "_model_module": "@jupyter-widgets/controls",
      "_model_module_version": "1.5.0",
      "_model_name": "DescriptionStyleModel",
      "_view_count": null,
      "_view_module": "@jupyter-widgets/base",
      "_view_module_version": "1.2.0",
      "_view_name": "StyleView",
      "description_width": ""
     }
    },
    "a12d19f1324c4250a55c8758738086c9": {
     "model_module": "@jupyter-widgets/base",
     "model_module_version": "1.2.0",
     "model_name": "LayoutModel",
     "state": {
      "_model_module": "@jupyter-widgets/base",
      "_model_module_version": "1.2.0",
      "_model_name": "LayoutModel",
      "_view_count": null,
      "_view_module": "@jupyter-widgets/base",
      "_view_module_version": "1.2.0",
      "_view_name": "LayoutView",
      "align_content": null,
      "align_items": null,
      "align_self": null,
      "border": null,
      "bottom": null,
      "display": null,
      "flex": null,
      "flex_flow": null,
      "grid_area": null,
      "grid_auto_columns": null,
      "grid_auto_flow": null,
      "grid_auto_rows": null,
      "grid_column": null,
      "grid_gap": null,
      "grid_row": null,
      "grid_template_areas": null,
      "grid_template_columns": null,
      "grid_template_rows": null,
      "height": null,
      "justify_content": null,
      "justify_items": null,
      "left": null,
      "margin": null,
      "max_height": null,
      "max_width": null,
      "min_height": null,
      "min_width": null,
      "object_fit": null,
      "object_position": null,
      "order": null,
      "overflow": null,
      "overflow_x": null,
      "overflow_y": null,
      "padding": null,
      "right": null,
      "top": null,
      "visibility": null,
      "width": null
     }
    },
    "a7548e1f8df34a0dbb3533fe9ec24502": {
     "model_module": "@jupyter-widgets/controls",
     "model_module_version": "1.5.0",
     "model_name": "HTMLModel",
     "state": {
      "_dom_classes": [],
      "_model_module": "@jupyter-widgets/controls",
      "_model_module_version": "1.5.0",
      "_model_name": "HTMLModel",
      "_view_count": null,
      "_view_module": "@jupyter-widgets/controls",
      "_view_module_version": "1.5.0",
      "_view_name": "HTMLView",
      "description": "",
      "description_tooltip": null,
      "layout": "IPY_MODEL_0343ae758c904bc5997108ea3eec84d4",
      "placeholder": "​",
      "style": "IPY_MODEL_e15ca3dbfd474b97955ce14febd2c441",
      "value": "100%"
     }
    },
    "a75696d8492f4e20abcdfa73c5a9977e": {
     "model_module": "@jupyter-widgets/base",
     "model_module_version": "1.2.0",
     "model_name": "LayoutModel",
     "state": {
      "_model_module": "@jupyter-widgets/base",
      "_model_module_version": "1.2.0",
      "_model_name": "LayoutModel",
      "_view_count": null,
      "_view_module": "@jupyter-widgets/base",
      "_view_module_version": "1.2.0",
      "_view_name": "LayoutView",
      "align_content": null,
      "align_items": null,
      "align_self": null,
      "border": null,
      "bottom": null,
      "display": null,
      "flex": null,
      "flex_flow": null,
      "grid_area": null,
      "grid_auto_columns": null,
      "grid_auto_flow": null,
      "grid_auto_rows": null,
      "grid_column": null,
      "grid_gap": null,
      "grid_row": null,
      "grid_template_areas": null,
      "grid_template_columns": null,
      "grid_template_rows": null,
      "height": null,
      "justify_content": null,
      "justify_items": null,
      "left": null,
      "margin": null,
      "max_height": null,
      "max_width": null,
      "min_height": null,
      "min_width": null,
      "object_fit": null,
      "object_position": null,
      "order": null,
      "overflow": null,
      "overflow_x": null,
      "overflow_y": null,
      "padding": null,
      "right": null,
      "top": null,
      "visibility": null,
      "width": null
     }
    },
    "ac1a53837ef046018baf9129191409b4": {
     "model_module": "@jupyter-widgets/controls",
     "model_module_version": "1.5.0",
     "model_name": "HTMLModel",
     "state": {
      "_dom_classes": [],
      "_model_module": "@jupyter-widgets/controls",
      "_model_module_version": "1.5.0",
      "_model_name": "HTMLModel",
      "_view_count": null,
      "_view_module": "@jupyter-widgets/controls",
      "_view_module_version": "1.5.0",
      "_view_name": "HTMLView",
      "description": "",
      "description_tooltip": null,
      "layout": "IPY_MODEL_ca53f69ee8d24e8e9cec4c6b861fd2fb",
      "placeholder": "​",
      "style": "IPY_MODEL_33c175b24a4a4637b312ecfbea4f5322",
      "value": " 3955/3955 [03:01&lt;00:00, 21.61it/s]"
     }
    },
    "ac772255f3b3456aaa997aae7f4cb0e0": {
     "model_module": "@jupyter-widgets/controls",
     "model_module_version": "1.5.0",
     "model_name": "FloatProgressModel",
     "state": {
      "_dom_classes": [],
      "_model_module": "@jupyter-widgets/controls",
      "_model_module_version": "1.5.0",
      "_model_name": "FloatProgressModel",
      "_view_count": null,
      "_view_module": "@jupyter-widgets/controls",
      "_view_module_version": "1.5.0",
      "_view_name": "ProgressView",
      "bar_style": "success",
      "description": "",
      "description_tooltip": null,
      "layout": "IPY_MODEL_fba13cb3a16c40b5b2ab6e70a8db7d35",
      "max": 3955,
      "min": 0,
      "orientation": "horizontal",
      "style": "IPY_MODEL_27242e6f037e474891a38b3f4cec52e0",
      "value": 3955
     }
    },
    "afbaf31aa5074f789fbab2136a8978ca": {
     "model_module": "@jupyter-widgets/controls",
     "model_module_version": "1.5.0",
     "model_name": "DescriptionStyleModel",
     "state": {
      "_model_module": "@jupyter-widgets/controls",
      "_model_module_version": "1.5.0",
      "_model_name": "DescriptionStyleModel",
      "_view_count": null,
      "_view_module": "@jupyter-widgets/base",
      "_view_module_version": "1.2.0",
      "_view_name": "StyleView",
      "description_width": ""
     }
    },
    "b22c0a2d95054f3cae3dff89d5417d76": {
     "model_module": "@jupyter-widgets/base",
     "model_module_version": "1.2.0",
     "model_name": "LayoutModel",
     "state": {
      "_model_module": "@jupyter-widgets/base",
      "_model_module_version": "1.2.0",
      "_model_name": "LayoutModel",
      "_view_count": null,
      "_view_module": "@jupyter-widgets/base",
      "_view_module_version": "1.2.0",
      "_view_name": "LayoutView",
      "align_content": null,
      "align_items": null,
      "align_self": null,
      "border": null,
      "bottom": null,
      "display": null,
      "flex": null,
      "flex_flow": null,
      "grid_area": null,
      "grid_auto_columns": null,
      "grid_auto_flow": null,
      "grid_auto_rows": null,
      "grid_column": null,
      "grid_gap": null,
      "grid_row": null,
      "grid_template_areas": null,
      "grid_template_columns": null,
      "grid_template_rows": null,
      "height": null,
      "justify_content": null,
      "justify_items": null,
      "left": null,
      "margin": null,
      "max_height": null,
      "max_width": null,
      "min_height": null,
      "min_width": null,
      "object_fit": null,
      "object_position": null,
      "order": null,
      "overflow": null,
      "overflow_x": null,
      "overflow_y": null,
      "padding": null,
      "right": null,
      "top": null,
      "visibility": null,
      "width": null
     }
    },
    "b37ddb880f44414c8e2eda8f108f5ea8": {
     "model_module": "@jupyter-widgets/controls",
     "model_module_version": "1.5.0",
     "model_name": "ProgressStyleModel",
     "state": {
      "_model_module": "@jupyter-widgets/controls",
      "_model_module_version": "1.5.0",
      "_model_name": "ProgressStyleModel",
      "_view_count": null,
      "_view_module": "@jupyter-widgets/base",
      "_view_module_version": "1.2.0",
      "_view_name": "StyleView",
      "bar_color": null,
      "description_width": ""
     }
    },
    "b5091535720c4edfb470c723fcc3e9b1": {
     "model_module": "@jupyter-widgets/controls",
     "model_module_version": "1.5.0",
     "model_name": "DescriptionStyleModel",
     "state": {
      "_model_module": "@jupyter-widgets/controls",
      "_model_module_version": "1.5.0",
      "_model_name": "DescriptionStyleModel",
      "_view_count": null,
      "_view_module": "@jupyter-widgets/base",
      "_view_module_version": "1.2.0",
      "_view_name": "StyleView",
      "description_width": ""
     }
    },
    "b68bd593ff5847f2ae2b2fe5bf84b682": {
     "model_module": "@jupyter-widgets/controls",
     "model_module_version": "1.5.0",
     "model_name": "HBoxModel",
     "state": {
      "_dom_classes": [],
      "_model_module": "@jupyter-widgets/controls",
      "_model_module_version": "1.5.0",
      "_model_name": "HBoxModel",
      "_view_count": null,
      "_view_module": "@jupyter-widgets/controls",
      "_view_module_version": "1.5.0",
      "_view_name": "HBoxView",
      "box_style": "",
      "children": [
       "IPY_MODEL_8a4bae93e69b46c28f8a4074698b0d69",
       "IPY_MODEL_c1f2de98efc9427a9bedcd4f07793c1e",
       "IPY_MODEL_2ad4168a1db34d23b65ae2c197c1dad9"
      ],
      "layout": "IPY_MODEL_8a446552cb924a0b8a103283b7526cf8"
     }
    },
    "bb29543d4e5442ec8a103c5ae0884a35": {
     "model_module": "@jupyter-widgets/controls",
     "model_module_version": "1.5.0",
     "model_name": "ProgressStyleModel",
     "state": {
      "_model_module": "@jupyter-widgets/controls",
      "_model_module_version": "1.5.0",
      "_model_name": "ProgressStyleModel",
      "_view_count": null,
      "_view_module": "@jupyter-widgets/base",
      "_view_module_version": "1.2.0",
      "_view_name": "StyleView",
      "bar_color": null,
      "description_width": ""
     }
    },
    "c033471bec514913a04768a16bcfb68c": {
     "model_module": "@jupyter-widgets/controls",
     "model_module_version": "1.5.0",
     "model_name": "HTMLModel",
     "state": {
      "_dom_classes": [],
      "_model_module": "@jupyter-widgets/controls",
      "_model_module_version": "1.5.0",
      "_model_name": "HTMLModel",
      "_view_count": null,
      "_view_module": "@jupyter-widgets/controls",
      "_view_module_version": "1.5.0",
      "_view_name": "HTMLView",
      "description": "",
      "description_tooltip": null,
      "layout": "IPY_MODEL_6178620286344a7da8fd7eeb0b565b3e",
      "placeholder": "​",
      "style": "IPY_MODEL_6cb40d1a9db644d5ac55a0ee434245e8",
      "value": "100%"
     }
    },
    "c1636d6d2ecd4f4bae1a299616825efe": {
     "model_module": "@jupyter-widgets/base",
     "model_module_version": "1.2.0",
     "model_name": "LayoutModel",
     "state": {
      "_model_module": "@jupyter-widgets/base",
      "_model_module_version": "1.2.0",
      "_model_name": "LayoutModel",
      "_view_count": null,
      "_view_module": "@jupyter-widgets/base",
      "_view_module_version": "1.2.0",
      "_view_name": "LayoutView",
      "align_content": null,
      "align_items": null,
      "align_self": null,
      "border": null,
      "bottom": null,
      "display": null,
      "flex": null,
      "flex_flow": null,
      "grid_area": null,
      "grid_auto_columns": null,
      "grid_auto_flow": null,
      "grid_auto_rows": null,
      "grid_column": null,
      "grid_gap": null,
      "grid_row": null,
      "grid_template_areas": null,
      "grid_template_columns": null,
      "grid_template_rows": null,
      "height": null,
      "justify_content": null,
      "justify_items": null,
      "left": null,
      "margin": null,
      "max_height": null,
      "max_width": null,
      "min_height": null,
      "min_width": null,
      "object_fit": null,
      "object_position": null,
      "order": null,
      "overflow": null,
      "overflow_x": null,
      "overflow_y": null,
      "padding": null,
      "right": null,
      "top": null,
      "visibility": null,
      "width": null
     }
    },
    "c1d33f65ea7d4008a29f6e4df6be1d16": {
     "model_module": "@jupyter-widgets/controls",
     "model_module_version": "1.5.0",
     "model_name": "FloatProgressModel",
     "state": {
      "_dom_classes": [],
      "_model_module": "@jupyter-widgets/controls",
      "_model_module_version": "1.5.0",
      "_model_name": "FloatProgressModel",
      "_view_count": null,
      "_view_module": "@jupyter-widgets/controls",
      "_view_module_version": "1.5.0",
      "_view_name": "ProgressView",
      "bar_style": "success",
      "description": "",
      "description_tooltip": null,
      "layout": "IPY_MODEL_1c2154257f4444f38347f902eda306b0",
      "max": 3654,
      "min": 0,
      "orientation": "horizontal",
      "style": "IPY_MODEL_bb29543d4e5442ec8a103c5ae0884a35",
      "value": 3654
     }
    },
    "c1f2de98efc9427a9bedcd4f07793c1e": {
     "model_module": "@jupyter-widgets/controls",
     "model_module_version": "1.5.0",
     "model_name": "FloatProgressModel",
     "state": {
      "_dom_classes": [],
      "_model_module": "@jupyter-widgets/controls",
      "_model_module_version": "1.5.0",
      "_model_name": "FloatProgressModel",
      "_view_count": null,
      "_view_module": "@jupyter-widgets/controls",
      "_view_module_version": "1.5.0",
      "_view_name": "ProgressView",
      "bar_style": "success",
      "description": "",
      "description_tooltip": null,
      "layout": "IPY_MODEL_2653778299384d10995f62fc586ac9c3",
      "max": 3807,
      "min": 0,
      "orientation": "horizontal",
      "style": "IPY_MODEL_d0caca00f0df4b68b58334fc35974d36",
      "value": 3807
     }
    },
    "c229fcfcd5eb439fb77ad6419681ab77": {
     "model_module": "@jupyter-widgets/controls",
     "model_module_version": "1.5.0",
     "model_name": "DescriptionStyleModel",
     "state": {
      "_model_module": "@jupyter-widgets/controls",
      "_model_module_version": "1.5.0",
      "_model_name": "DescriptionStyleModel",
      "_view_count": null,
      "_view_module": "@jupyter-widgets/base",
      "_view_module_version": "1.2.0",
      "_view_name": "StyleView",
      "description_width": ""
     }
    },
    "c890c18a97844b53be12f5b2ec41916a": {
     "model_module": "@jupyter-widgets/controls",
     "model_module_version": "1.5.0",
     "model_name": "HBoxModel",
     "state": {
      "_dom_classes": [],
      "_model_module": "@jupyter-widgets/controls",
      "_model_module_version": "1.5.0",
      "_model_name": "HBoxModel",
      "_view_count": null,
      "_view_module": "@jupyter-widgets/controls",
      "_view_module_version": "1.5.0",
      "_view_name": "HBoxView",
      "box_style": "",
      "children": [
       "IPY_MODEL_eb86299ae0cf412484ec8beb461f7cf2",
       "IPY_MODEL_d4284480528347e19b5038a4326bd6b4",
       "IPY_MODEL_01559f1e6e0a439499b8acf03d716d6e"
      ],
      "layout": "IPY_MODEL_e3bf4fcfe2bc464cbc6aec320a77e779"
     }
    },
    "ca53f69ee8d24e8e9cec4c6b861fd2fb": {
     "model_module": "@jupyter-widgets/base",
     "model_module_version": "1.2.0",
     "model_name": "LayoutModel",
     "state": {
      "_model_module": "@jupyter-widgets/base",
      "_model_module_version": "1.2.0",
      "_model_name": "LayoutModel",
      "_view_count": null,
      "_view_module": "@jupyter-widgets/base",
      "_view_module_version": "1.2.0",
      "_view_name": "LayoutView",
      "align_content": null,
      "align_items": null,
      "align_self": null,
      "border": null,
      "bottom": null,
      "display": null,
      "flex": null,
      "flex_flow": null,
      "grid_area": null,
      "grid_auto_columns": null,
      "grid_auto_flow": null,
      "grid_auto_rows": null,
      "grid_column": null,
      "grid_gap": null,
      "grid_row": null,
      "grid_template_areas": null,
      "grid_template_columns": null,
      "grid_template_rows": null,
      "height": null,
      "justify_content": null,
      "justify_items": null,
      "left": null,
      "margin": null,
      "max_height": null,
      "max_width": null,
      "min_height": null,
      "min_width": null,
      "object_fit": null,
      "object_position": null,
      "order": null,
      "overflow": null,
      "overflow_x": null,
      "overflow_y": null,
      "padding": null,
      "right": null,
      "top": null,
      "visibility": null,
      "width": null
     }
    },
    "ccf284246aee46edbde52756fc46b6b9": {
     "model_module": "@jupyter-widgets/controls",
     "model_module_version": "1.5.0",
     "model_name": "ProgressStyleModel",
     "state": {
      "_model_module": "@jupyter-widgets/controls",
      "_model_module_version": "1.5.0",
      "_model_name": "ProgressStyleModel",
      "_view_count": null,
      "_view_module": "@jupyter-widgets/base",
      "_view_module_version": "1.2.0",
      "_view_name": "StyleView",
      "bar_color": null,
      "description_width": ""
     }
    },
    "cd7428e54e944ec8b3b0274600709225": {
     "model_module": "@jupyter-widgets/controls",
     "model_module_version": "1.5.0",
     "model_name": "HBoxModel",
     "state": {
      "_dom_classes": [],
      "_model_module": "@jupyter-widgets/controls",
      "_model_module_version": "1.5.0",
      "_model_name": "HBoxModel",
      "_view_count": null,
      "_view_module": "@jupyter-widgets/controls",
      "_view_module_version": "1.5.0",
      "_view_name": "HBoxView",
      "box_style": "",
      "children": [
       "IPY_MODEL_c033471bec514913a04768a16bcfb68c",
       "IPY_MODEL_615697fcd2044142a3e6d17ae6201876",
       "IPY_MODEL_9b7c09fdaa1d4f31a2085f6ffdbe52f7"
      ],
      "layout": "IPY_MODEL_95129fba38964dbfbd5c6003cf31cf69"
     }
    },
    "cdc24b11a19f444794bc74b12d600603": {
     "model_module": "@jupyter-widgets/controls",
     "model_module_version": "1.5.0",
     "model_name": "HBoxModel",
     "state": {
      "_dom_classes": [],
      "_model_module": "@jupyter-widgets/controls",
      "_model_module_version": "1.5.0",
      "_model_name": "HBoxModel",
      "_view_count": null,
      "_view_module": "@jupyter-widgets/controls",
      "_view_module_version": "1.5.0",
      "_view_name": "HBoxView",
      "box_style": "",
      "children": [
       "IPY_MODEL_038cddf0546442c6aa8fa86079731d06",
       "IPY_MODEL_ac772255f3b3456aaa997aae7f4cb0e0",
       "IPY_MODEL_ac1a53837ef046018baf9129191409b4"
      ],
      "layout": "IPY_MODEL_79e6606f66a3405f92fccda71bcec97c"
     }
    },
    "cec408d4face48deb6f353928b126919": {
     "model_module": "@jupyter-widgets/base",
     "model_module_version": "1.2.0",
     "model_name": "LayoutModel",
     "state": {
      "_model_module": "@jupyter-widgets/base",
      "_model_module_version": "1.2.0",
      "_model_name": "LayoutModel",
      "_view_count": null,
      "_view_module": "@jupyter-widgets/base",
      "_view_module_version": "1.2.0",
      "_view_name": "LayoutView",
      "align_content": null,
      "align_items": null,
      "align_self": null,
      "border": null,
      "bottom": null,
      "display": null,
      "flex": null,
      "flex_flow": null,
      "grid_area": null,
      "grid_auto_columns": null,
      "grid_auto_flow": null,
      "grid_auto_rows": null,
      "grid_column": null,
      "grid_gap": null,
      "grid_row": null,
      "grid_template_areas": null,
      "grid_template_columns": null,
      "grid_template_rows": null,
      "height": null,
      "justify_content": null,
      "justify_items": null,
      "left": null,
      "margin": null,
      "max_height": null,
      "max_width": null,
      "min_height": null,
      "min_width": null,
      "object_fit": null,
      "object_position": null,
      "order": null,
      "overflow": null,
      "overflow_x": null,
      "overflow_y": null,
      "padding": null,
      "right": null,
      "top": null,
      "visibility": null,
      "width": null
     }
    },
    "d01c885a2a134cfe98bbd9a0b780644c": {
     "model_module": "@jupyter-widgets/controls",
     "model_module_version": "1.5.0",
     "model_name": "HTMLModel",
     "state": {
      "_dom_classes": [],
      "_model_module": "@jupyter-widgets/controls",
      "_model_module_version": "1.5.0",
      "_model_name": "HTMLModel",
      "_view_count": null,
      "_view_module": "@jupyter-widgets/controls",
      "_view_module_version": "1.5.0",
      "_view_name": "HTMLView",
      "description": "",
      "description_tooltip": null,
      "layout": "IPY_MODEL_88fe62a7e73d4e2bb8713d4ed08b1ba2",
      "placeholder": "​",
      "style": "IPY_MODEL_17f856f38279404aaf485fd566ea5e1e",
      "value": "100%"
     }
    },
    "d0caca00f0df4b68b58334fc35974d36": {
     "model_module": "@jupyter-widgets/controls",
     "model_module_version": "1.5.0",
     "model_name": "ProgressStyleModel",
     "state": {
      "_model_module": "@jupyter-widgets/controls",
      "_model_module_version": "1.5.0",
      "_model_name": "ProgressStyleModel",
      "_view_count": null,
      "_view_module": "@jupyter-widgets/base",
      "_view_module_version": "1.2.0",
      "_view_name": "StyleView",
      "bar_color": null,
      "description_width": ""
     }
    },
    "d4284480528347e19b5038a4326bd6b4": {
     "model_module": "@jupyter-widgets/controls",
     "model_module_version": "1.5.0",
     "model_name": "FloatProgressModel",
     "state": {
      "_dom_classes": [],
      "_model_module": "@jupyter-widgets/controls",
      "_model_module_version": "1.5.0",
      "_model_name": "FloatProgressModel",
      "_view_count": null,
      "_view_module": "@jupyter-widgets/controls",
      "_view_module_version": "1.5.0",
      "_view_name": "ProgressView",
      "bar_style": "success",
      "description": "",
      "description_tooltip": null,
      "layout": "IPY_MODEL_482a86fad8e24d9ba6e0366bbb5ce461",
      "max": 3697,
      "min": 0,
      "orientation": "horizontal",
      "style": "IPY_MODEL_06de928639a54866b9c009e4c7f14b36",
      "value": 3697
     }
    },
    "d6df7079085d40d6bc1195e21b76dd6e": {
     "model_module": "@jupyter-widgets/base",
     "model_module_version": "1.2.0",
     "model_name": "LayoutModel",
     "state": {
      "_model_module": "@jupyter-widgets/base",
      "_model_module_version": "1.2.0",
      "_model_name": "LayoutModel",
      "_view_count": null,
      "_view_module": "@jupyter-widgets/base",
      "_view_module_version": "1.2.0",
      "_view_name": "LayoutView",
      "align_content": null,
      "align_items": null,
      "align_self": null,
      "border": null,
      "bottom": null,
      "display": null,
      "flex": null,
      "flex_flow": null,
      "grid_area": null,
      "grid_auto_columns": null,
      "grid_auto_flow": null,
      "grid_auto_rows": null,
      "grid_column": null,
      "grid_gap": null,
      "grid_row": null,
      "grid_template_areas": null,
      "grid_template_columns": null,
      "grid_template_rows": null,
      "height": null,
      "justify_content": null,
      "justify_items": null,
      "left": null,
      "margin": null,
      "max_height": null,
      "max_width": null,
      "min_height": null,
      "min_width": null,
      "object_fit": null,
      "object_position": null,
      "order": null,
      "overflow": null,
      "overflow_x": null,
      "overflow_y": null,
      "padding": null,
      "right": null,
      "top": null,
      "visibility": null,
      "width": null
     }
    },
    "d9259e12945d42de82322ec38ae75745": {
     "model_module": "@jupyter-widgets/controls",
     "model_module_version": "1.5.0",
     "model_name": "HBoxModel",
     "state": {
      "_dom_classes": [],
      "_model_module": "@jupyter-widgets/controls",
      "_model_module_version": "1.5.0",
      "_model_name": "HBoxModel",
      "_view_count": null,
      "_view_module": "@jupyter-widgets/controls",
      "_view_module_version": "1.5.0",
      "_view_name": "HBoxView",
      "box_style": "",
      "children": [
       "IPY_MODEL_a7548e1f8df34a0dbb3533fe9ec24502",
       "IPY_MODEL_c1d33f65ea7d4008a29f6e4df6be1d16",
       "IPY_MODEL_efbecbe193504c959fe7a03b352996f3"
      ],
      "layout": "IPY_MODEL_3dd968a197754d42aa6abaf76562c0a0"
     }
    },
    "dcaec88bba114d3ab10d92dbf82debe2": {
     "model_module": "@jupyter-widgets/controls",
     "model_module_version": "1.5.0",
     "model_name": "FloatProgressModel",
     "state": {
      "_dom_classes": [],
      "_model_module": "@jupyter-widgets/controls",
      "_model_module_version": "1.5.0",
      "_model_name": "FloatProgressModel",
      "_view_count": null,
      "_view_module": "@jupyter-widgets/controls",
      "_view_module_version": "1.5.0",
      "_view_name": "ProgressView",
      "bar_style": "success",
      "description": "",
      "description_tooltip": null,
      "layout": "IPY_MODEL_cec408d4face48deb6f353928b126919",
      "max": 3684,
      "min": 0,
      "orientation": "horizontal",
      "style": "IPY_MODEL_818084fddff042d09233e49e8ce21825",
      "value": 3684
     }
    },
    "dea97b4e41114e40930cd59e259504e9": {
     "model_module": "@jupyter-widgets/controls",
     "model_module_version": "1.5.0",
     "model_name": "FloatProgressModel",
     "state": {
      "_dom_classes": [],
      "_model_module": "@jupyter-widgets/controls",
      "_model_module_version": "1.5.0",
      "_model_name": "FloatProgressModel",
      "_view_count": null,
      "_view_module": "@jupyter-widgets/controls",
      "_view_module_version": "1.5.0",
      "_view_name": "ProgressView",
      "bar_style": "success",
      "description": "",
      "description_tooltip": null,
      "layout": "IPY_MODEL_d6df7079085d40d6bc1195e21b76dd6e",
      "max": 3589,
      "min": 0,
      "orientation": "horizontal",
      "style": "IPY_MODEL_b37ddb880f44414c8e2eda8f108f5ea8",
      "value": 3589
     }
    },
    "e15ca3dbfd474b97955ce14febd2c441": {
     "model_module": "@jupyter-widgets/controls",
     "model_module_version": "1.5.0",
     "model_name": "DescriptionStyleModel",
     "state": {
      "_model_module": "@jupyter-widgets/controls",
      "_model_module_version": "1.5.0",
      "_model_name": "DescriptionStyleModel",
      "_view_count": null,
      "_view_module": "@jupyter-widgets/base",
      "_view_module_version": "1.2.0",
      "_view_name": "StyleView",
      "description_width": ""
     }
    },
    "e3bf4fcfe2bc464cbc6aec320a77e779": {
     "model_module": "@jupyter-widgets/base",
     "model_module_version": "1.2.0",
     "model_name": "LayoutModel",
     "state": {
      "_model_module": "@jupyter-widgets/base",
      "_model_module_version": "1.2.0",
      "_model_name": "LayoutModel",
      "_view_count": null,
      "_view_module": "@jupyter-widgets/base",
      "_view_module_version": "1.2.0",
      "_view_name": "LayoutView",
      "align_content": null,
      "align_items": null,
      "align_self": null,
      "border": null,
      "bottom": null,
      "display": null,
      "flex": null,
      "flex_flow": null,
      "grid_area": null,
      "grid_auto_columns": null,
      "grid_auto_flow": null,
      "grid_auto_rows": null,
      "grid_column": null,
      "grid_gap": null,
      "grid_row": null,
      "grid_template_areas": null,
      "grid_template_columns": null,
      "grid_template_rows": null,
      "height": null,
      "justify_content": null,
      "justify_items": null,
      "left": null,
      "margin": null,
      "max_height": null,
      "max_width": null,
      "min_height": null,
      "min_width": null,
      "object_fit": null,
      "object_position": null,
      "order": null,
      "overflow": null,
      "overflow_x": null,
      "overflow_y": null,
      "padding": null,
      "right": null,
      "top": null,
      "visibility": null,
      "width": null
     }
    },
    "e581a58cd2484a8492dcdbc10abe70fd": {
     "model_module": "@jupyter-widgets/controls",
     "model_module_version": "1.5.0",
     "model_name": "HBoxModel",
     "state": {
      "_dom_classes": [],
      "_model_module": "@jupyter-widgets/controls",
      "_model_module_version": "1.5.0",
      "_model_name": "HBoxModel",
      "_view_count": null,
      "_view_module": "@jupyter-widgets/controls",
      "_view_module_version": "1.5.0",
      "_view_name": "HBoxView",
      "box_style": "",
      "children": [
       "IPY_MODEL_45b0ab9978eb46f28eb1865dfa760c54",
       "IPY_MODEL_dea97b4e41114e40930cd59e259504e9",
       "IPY_MODEL_053e2d2200d943979096adba1a75e17b"
      ],
      "layout": "IPY_MODEL_a75696d8492f4e20abcdfa73c5a9977e"
     }
    },
    "e64739148ec34292a21821cd43bf8733": {
     "model_module": "@jupyter-widgets/controls",
     "model_module_version": "1.5.0",
     "model_name": "HBoxModel",
     "state": {
      "_dom_classes": [],
      "_model_module": "@jupyter-widgets/controls",
      "_model_module_version": "1.5.0",
      "_model_name": "HBoxModel",
      "_view_count": null,
      "_view_module": "@jupyter-widgets/controls",
      "_view_module_version": "1.5.0",
      "_view_name": "HBoxView",
      "box_style": "",
      "children": [
       "IPY_MODEL_2e17c3bab5be457a83fb8fd1c32832a3",
       "IPY_MODEL_5bcc8c276c6c43ff99f5adcbcb5405a0",
       "IPY_MODEL_370b41e5f54c48d4ad16aad77ce5212e"
      ],
      "layout": "IPY_MODEL_477c431f0db243f9b2c17bc584facb00"
     }
    },
    "e72cab1d94f74126933cd8e3cd2c0b7d": {
     "model_module": "@jupyter-widgets/base",
     "model_module_version": "1.2.0",
     "model_name": "LayoutModel",
     "state": {
      "_model_module": "@jupyter-widgets/base",
      "_model_module_version": "1.2.0",
      "_model_name": "LayoutModel",
      "_view_count": null,
      "_view_module": "@jupyter-widgets/base",
      "_view_module_version": "1.2.0",
      "_view_name": "LayoutView",
      "align_content": null,
      "align_items": null,
      "align_self": null,
      "border": null,
      "bottom": null,
      "display": null,
      "flex": null,
      "flex_flow": null,
      "grid_area": null,
      "grid_auto_columns": null,
      "grid_auto_flow": null,
      "grid_auto_rows": null,
      "grid_column": null,
      "grid_gap": null,
      "grid_row": null,
      "grid_template_areas": null,
      "grid_template_columns": null,
      "grid_template_rows": null,
      "height": null,
      "justify_content": null,
      "justify_items": null,
      "left": null,
      "margin": null,
      "max_height": null,
      "max_width": null,
      "min_height": null,
      "min_width": null,
      "object_fit": null,
      "object_position": null,
      "order": null,
      "overflow": null,
      "overflow_x": null,
      "overflow_y": null,
      "padding": null,
      "right": null,
      "top": null,
      "visibility": null,
      "width": null
     }
    },
    "eb86299ae0cf412484ec8beb461f7cf2": {
     "model_module": "@jupyter-widgets/controls",
     "model_module_version": "1.5.0",
     "model_name": "HTMLModel",
     "state": {
      "_dom_classes": [],
      "_model_module": "@jupyter-widgets/controls",
      "_model_module_version": "1.5.0",
      "_model_name": "HTMLModel",
      "_view_count": null,
      "_view_module": "@jupyter-widgets/controls",
      "_view_module_version": "1.5.0",
      "_view_name": "HTMLView",
      "description": "",
      "description_tooltip": null,
      "layout": "IPY_MODEL_249d4ef9000e46f0ad6327d98ac84695",
      "placeholder": "​",
      "style": "IPY_MODEL_17ab4a2a7fbd4fab8169c560193a6709",
      "value": "100%"
     }
    },
    "efbecbe193504c959fe7a03b352996f3": {
     "model_module": "@jupyter-widgets/controls",
     "model_module_version": "1.5.0",
     "model_name": "HTMLModel",
     "state": {
      "_dom_classes": [],
      "_model_module": "@jupyter-widgets/controls",
      "_model_module_version": "1.5.0",
      "_model_name": "HTMLModel",
      "_view_count": null,
      "_view_module": "@jupyter-widgets/controls",
      "_view_module_version": "1.5.0",
      "_view_name": "HTMLView",
      "description": "",
      "description_tooltip": null,
      "layout": "IPY_MODEL_ff29c87a6c314f8392dcdbda968acc4c",
      "placeholder": "​",
      "style": "IPY_MODEL_1524d5b94e68491db558dc6f95293eeb",
      "value": " 3654/3654 [02:48&lt;00:00, 22.43it/s]"
     }
    },
    "f47c2f0816f14dbfbfcbaa4a82cab2f7": {
     "model_module": "@jupyter-widgets/controls",
     "model_module_version": "1.5.0",
     "model_name": "HTMLModel",
     "state": {
      "_dom_classes": [],
      "_model_module": "@jupyter-widgets/controls",
      "_model_module_version": "1.5.0",
      "_model_name": "HTMLModel",
      "_view_count": null,
      "_view_module": "@jupyter-widgets/controls",
      "_view_module_version": "1.5.0",
      "_view_name": "HTMLView",
      "description": "",
      "description_tooltip": null,
      "layout": "IPY_MODEL_0fd0781674a749e08fe7630267648db4",
      "placeholder": "​",
      "style": "IPY_MODEL_9ee780e0149f490cbcf1b2148dabf0e4",
      "value": " 3693/3693 [02:48&lt;00:00, 21.55it/s]"
     }
    },
    "f71b5fae382c404ab0b61da81d9202ee": {
     "model_module": "@jupyter-widgets/controls",
     "model_module_version": "1.5.0",
     "model_name": "DescriptionStyleModel",
     "state": {
      "_model_module": "@jupyter-widgets/controls",
      "_model_module_version": "1.5.0",
      "_model_name": "DescriptionStyleModel",
      "_view_count": null,
      "_view_module": "@jupyter-widgets/base",
      "_view_module_version": "1.2.0",
      "_view_name": "StyleView",
      "description_width": ""
     }
    },
    "fa27ce29b30d4060bf3a71193957ae4f": {
     "model_module": "@jupyter-widgets/controls",
     "model_module_version": "1.5.0",
     "model_name": "HTMLModel",
     "state": {
      "_dom_classes": [],
      "_model_module": "@jupyter-widgets/controls",
      "_model_module_version": "1.5.0",
      "_model_name": "HTMLModel",
      "_view_count": null,
      "_view_module": "@jupyter-widgets/controls",
      "_view_module_version": "1.5.0",
      "_view_name": "HTMLView",
      "description": "",
      "description_tooltip": null,
      "layout": "IPY_MODEL_b22c0a2d95054f3cae3dff89d5417d76",
      "placeholder": "​",
      "style": "IPY_MODEL_0bc5b2b3e409435d9e16dba78f3ce223",
      "value": "100%"
     }
    },
    "fba13cb3a16c40b5b2ab6e70a8db7d35": {
     "model_module": "@jupyter-widgets/base",
     "model_module_version": "1.2.0",
     "model_name": "LayoutModel",
     "state": {
      "_model_module": "@jupyter-widgets/base",
      "_model_module_version": "1.2.0",
      "_model_name": "LayoutModel",
      "_view_count": null,
      "_view_module": "@jupyter-widgets/base",
      "_view_module_version": "1.2.0",
      "_view_name": "LayoutView",
      "align_content": null,
      "align_items": null,
      "align_self": null,
      "border": null,
      "bottom": null,
      "display": null,
      "flex": null,
      "flex_flow": null,
      "grid_area": null,
      "grid_auto_columns": null,
      "grid_auto_flow": null,
      "grid_auto_rows": null,
      "grid_column": null,
      "grid_gap": null,
      "grid_row": null,
      "grid_template_areas": null,
      "grid_template_columns": null,
      "grid_template_rows": null,
      "height": null,
      "justify_content": null,
      "justify_items": null,
      "left": null,
      "margin": null,
      "max_height": null,
      "max_width": null,
      "min_height": null,
      "min_width": null,
      "object_fit": null,
      "object_position": null,
      "order": null,
      "overflow": null,
      "overflow_x": null,
      "overflow_y": null,
      "padding": null,
      "right": null,
      "top": null,
      "visibility": null,
      "width": null
     }
    },
    "ff29c87a6c314f8392dcdbda968acc4c": {
     "model_module": "@jupyter-widgets/base",
     "model_module_version": "1.2.0",
     "model_name": "LayoutModel",
     "state": {
      "_model_module": "@jupyter-widgets/base",
      "_model_module_version": "1.2.0",
      "_model_name": "LayoutModel",
      "_view_count": null,
      "_view_module": "@jupyter-widgets/base",
      "_view_module_version": "1.2.0",
      "_view_name": "LayoutView",
      "align_content": null,
      "align_items": null,
      "align_self": null,
      "border": null,
      "bottom": null,
      "display": null,
      "flex": null,
      "flex_flow": null,
      "grid_area": null,
      "grid_auto_columns": null,
      "grid_auto_flow": null,
      "grid_auto_rows": null,
      "grid_column": null,
      "grid_gap": null,
      "grid_row": null,
      "grid_template_areas": null,
      "grid_template_columns": null,
      "grid_template_rows": null,
      "height": null,
      "justify_content": null,
      "justify_items": null,
      "left": null,
      "margin": null,
      "max_height": null,
      "max_width": null,
      "min_height": null,
      "min_width": null,
      "object_fit": null,
      "object_position": null,
      "order": null,
      "overflow": null,
      "overflow_x": null,
      "overflow_y": null,
      "padding": null,
      "right": null,
      "top": null,
      "visibility": null,
      "width": null
     }
    }
   }
  }
 },
 "nbformat": 4,
 "nbformat_minor": 1
}

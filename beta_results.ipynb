{
 "cells": [
  {
   "cell_type": "code",
   "execution_count": 1,
   "metadata": {
    "colab": {
     "base_uri": "https://localhost:8080/"
    },
    "id": "TN3PLjwi0HBJ",
    "outputId": "187bde8b-5808-498f-d2d7-e43e705f7690"
   },
   "outputs": [],
   "source": [
    "#install nfl_data_py package\n",
    "#!pip install nfl_data_py\n"
   ]
  },
  {
   "cell_type": "code",
   "execution_count": 2,
   "metadata": {
    "id": "udvjIMAC0HBM"
   },
   "outputs": [],
   "source": [
    "import nfl_data_py as nfl\n"
   ]
  },
  {
   "cell_type": "code",
   "execution_count": 3,
   "metadata": {
    "colab": {
     "base_uri": "https://localhost:8080/"
    },
    "id": "b10qDIuU1NcT",
    "outputId": "e6d2012f-a98e-43a5-b185-2c24fdae149a"
   },
   "outputs": [
    {
     "name": "stderr",
     "output_type": "stream",
     "text": [
      "C:\\Users\\src15\\anaconda3\\lib\\site-packages\\scipy\\__init__.py:138: UserWarning: A NumPy version >=1.16.5 and <1.23.0 is required for this version of SciPy (detected version 1.23.5)\n",
      "  warnings.warn(f\"A NumPy version >={np_minversion} and <{np_maxversion} is required for this version of \"\n",
      "C:\\Users\\src15\\anaconda3\\lib\\site-packages\\statsmodels\\tsa\\base\\tsa_model.py:7: FutureWarning: pandas.Int64Index is deprecated and will be removed from pandas in a future version. Use pandas.Index with the appropriate dtype instead.\n",
      "  from pandas import (to_datetime, Int64Index, DatetimeIndex, Period,\n",
      "C:\\Users\\src15\\anaconda3\\lib\\site-packages\\statsmodels\\tsa\\base\\tsa_model.py:7: FutureWarning: pandas.Float64Index is deprecated and will be removed from pandas in a future version. Use pandas.Index with the appropriate dtype instead.\n",
      "  from pandas import (to_datetime, Int64Index, DatetimeIndex, Period,\n"
     ]
    }
   ],
   "source": [
    "import pandas as pd\n",
    "import numpy as np\n",
    "import matplotlib.pyplot as plt\n",
    "import sklearn\n",
    "import numpy as np\n",
    "from sklearn.linear_model import LinearRegression\n",
    "import statsmodels.api as sm\n",
    "\n",
    "from sklearn.metrics import r2_score\n",
    "from sklearn.model_selection import train_test_split \n",
    "from sklearn import metrics\n",
    "from tqdm import tqdm\n",
    "\n",
    "import nfl_data_py as nfl\n",
    "\n",
    "%matplotlib inline"
   ]
  },
  {
   "cell_type": "code",
   "execution_count": 4,
   "metadata": {},
   "outputs": [],
   "source": [
    "from sklearn.metrics import mean_absolute_error"
   ]
  },
  {
   "cell_type": "code",
   "execution_count": 5,
   "metadata": {
    "id": "vWk8E8MI1k0L"
   },
   "outputs": [],
   "source": [
    "#Calculate the market-implied team total, derived the betting lines\n",
    "\n",
    "def total_finder(home_or_away,home_total,away_total):\n",
    "    if home_or_away == 'home':\n",
    "        total = home_total\n",
    "    else:\n",
    "        total = away_total \n",
    "    return total"
   ]
  },
  {
   "cell_type": "code",
   "execution_count": 6,
   "metadata": {
    "id": "0avmM4QUYS2k"
   },
   "outputs": [],
   "source": [
    "def last_name(full):\n",
    "  if full == 'DanielThomas':\n",
    "    return 'Thomas'\n",
    "  elif full == 'JulioJones':\n",
    "    return 'Jones'\n",
    "  elif '.' not in full:\n",
    "    print(full)\n",
    "    return full\n",
    "  else:\n",
    "    return full.split(\".\",1)[1]"
   ]
  },
  {
   "cell_type": "code",
   "execution_count": 7,
   "metadata": {
    "id": "2cBv-GSzYTko"
   },
   "outputs": [],
   "source": [
    "def team_fixer(team):\n",
    "    if team == 'SD':\n",
    "        return 'LAC'\n",
    "    elif team == 'OAK':\n",
    "        return 'LV'\n",
    "    elif team == 'STL':\n",
    "        return 'LA'\n",
    "    else:\n",
    "        return team"
   ]
  },
  {
   "cell_type": "code",
   "execution_count": 8,
   "metadata": {
    "id": "03TiQXiLYWMr"
   },
   "outputs": [],
   "source": [
    "def snap_name_changer(player):\n",
    "    if 'Jr.' in player:\n",
    "        return player.split(' Jr.')[0]\n",
    "        #return 'D.J. Davis'\n",
    "    elif 'II' in player:\n",
    "        return player.split(' II')[0]\n",
    "    else:\n",
    "        return player"
   ]
  },
  {
   "cell_type": "code",
   "execution_count": 9,
   "metadata": {},
   "outputs": [],
   "source": [
    "def position_handler(pos):\n",
    "  if pos in ['WR','RB','TE','FB']:\n",
    "    return pos\n",
    "  elif pos == 'RB/W':\n",
    "    return 'RB'\n",
    "  elif pos == 'WR/R':\n",
    "    return 'WR'\n",
    "  elif pos == 'HB':\n",
    "    return 'RB'\n",
    "  else:\n",
    "    return 'other'"
   ]
  },
  {
   "cell_type": "code",
   "execution_count": 10,
   "metadata": {},
   "outputs": [],
   "source": [
    "import joblib\n",
    "import pickle\n",
    "\n",
    "\n",
    "play_by_play_model = pickle.load(open('play_by_play.pkl', 'rb'))\n"
   ]
  },
  {
   "cell_type": "code",
   "execution_count": 11,
   "metadata": {},
   "outputs": [
    {
     "name": "stderr",
     "output_type": "stream",
     "text": [
      "C:\\Users\\src15\\anaconda3\\lib\\site-packages\\sklearn\\base.py:310: UserWarning: Trying to unpickle estimator DummyRegressor from version 1.0.2 when using version 0.24.1. This might lead to breaking code or invalid results. Use at your own risk.\n",
      "  warnings.warn(\n",
      "C:\\Users\\src15\\anaconda3\\lib\\site-packages\\sklearn\\base.py:310: UserWarning: Trying to unpickle estimator DecisionTreeRegressor from version 1.0.2 when using version 0.24.1. This might lead to breaking code or invalid results. Use at your own risk.\n",
      "  warnings.warn(\n",
      "C:\\Users\\src15\\anaconda3\\lib\\site-packages\\sklearn\\base.py:310: UserWarning: Trying to unpickle estimator GradientBoostingRegressor from version 1.0.2 when using version 0.24.1. This might lead to breaking code or invalid results. Use at your own risk.\n",
      "  warnings.warn(\n"
     ]
    }
   ],
   "source": [
    "in_season_model = pickle.load(open('beta_model.pkl', 'rb'))"
   ]
  },
  {
   "cell_type": "code",
   "execution_count": 12,
   "metadata": {},
   "outputs": [],
   "source": [
    "linear_model = pickle.load(open('linear_model.pkl', 'rb'))"
   ]
  },
  {
   "cell_type": "code",
   "execution_count": 13,
   "metadata": {},
   "outputs": [],
   "source": [
    "from tqdm import tqdm\n",
    "import tqdm.notebook as tq\n",
    "import warnings\n",
    "warnings.filterwarnings('ignore')"
   ]
  },
  {
   "cell_type": "markdown",
   "metadata": {
    "id": "hwP1AQu1UzAv"
   },
   "source": [
    "# Apply Model"
   ]
  },
  {
   "cell_type": "code",
   "execution_count": 14,
   "metadata": {
    "colab": {
     "base_uri": "https://localhost:8080/"
    },
    "id": "dLfyHa7L0HB_",
    "outputId": "430d3466-81fc-47be-bf8a-354aeaeb1972"
   },
   "outputs": [
    {
     "name": "stderr",
     "output_type": "stream",
     "text": [
      "\r",
      "  0%|          | 0/1 [00:00<?, ?it/s]"
     ]
    },
    {
     "name": "stdout",
     "output_type": "stream",
     "text": [
      "2022\n"
     ]
    },
    {
     "name": "stderr",
     "output_type": "stream",
     "text": [
      "\n",
      "  0%|          | 0/18 [00:00<?, ?it/s]\u001b[A"
     ]
    },
    {
     "name": "stdout",
     "output_type": "stream",
     "text": [
      "1\n",
      "2\n"
     ]
    },
    {
     "name": "stderr",
     "output_type": "stream",
     "text": [
      "\n",
      " 11%|█         | 2/18 [00:02<00:20,  1.31s/it]\u001b[A"
     ]
    },
    {
     "name": "stdout",
     "output_type": "stream",
     "text": [
      "3\n"
     ]
    },
    {
     "name": "stderr",
     "output_type": "stream",
     "text": [
      "\n",
      " 17%|█▋        | 3/18 [00:05<00:30,  2.03s/it]\u001b[A"
     ]
    },
    {
     "name": "stdout",
     "output_type": "stream",
     "text": [
      "4\n"
     ]
    },
    {
     "name": "stderr",
     "output_type": "stream",
     "text": [
      "\n",
      " 22%|██▏       | 4/18 [00:09<00:36,  2.64s/it]\u001b[A"
     ]
    },
    {
     "name": "stdout",
     "output_type": "stream",
     "text": [
      "5\n"
     ]
    },
    {
     "name": "stderr",
     "output_type": "stream",
     "text": [
      "\n",
      " 28%|██▊       | 5/18 [00:13<00:41,  3.18s/it]\u001b[A"
     ]
    },
    {
     "name": "stdout",
     "output_type": "stream",
     "text": [
      "6\n"
     ]
    },
    {
     "name": "stderr",
     "output_type": "stream",
     "text": [
      "\n",
      " 33%|███▎      | 6/18 [00:17<00:42,  3.54s/it]\u001b[A"
     ]
    },
    {
     "name": "stdout",
     "output_type": "stream",
     "text": [
      "7\n"
     ]
    },
    {
     "name": "stderr",
     "output_type": "stream",
     "text": [
      "\n",
      " 39%|███▉      | 7/18 [00:22<00:41,  3.82s/it]\u001b[A"
     ]
    },
    {
     "name": "stdout",
     "output_type": "stream",
     "text": [
      "8\n"
     ]
    },
    {
     "name": "stderr",
     "output_type": "stream",
     "text": [
      "\n",
      " 44%|████▍     | 8/18 [00:27<00:41,  4.16s/it]\u001b[A"
     ]
    },
    {
     "name": "stdout",
     "output_type": "stream",
     "text": [
      "9\n"
     ]
    },
    {
     "name": "stderr",
     "output_type": "stream",
     "text": [
      "\n",
      " 50%|█████     | 9/18 [00:31<00:39,  4.34s/it]\u001b[A"
     ]
    },
    {
     "name": "stdout",
     "output_type": "stream",
     "text": [
      "10\n"
     ]
    },
    {
     "name": "stderr",
     "output_type": "stream",
     "text": [
      "\n",
      " 56%|█████▌    | 10/18 [00:36<00:36,  4.57s/it]\u001b[A"
     ]
    },
    {
     "name": "stdout",
     "output_type": "stream",
     "text": [
      "11\n"
     ]
    },
    {
     "name": "stderr",
     "output_type": "stream",
     "text": [
      "\n",
      " 61%|██████    | 11/18 [00:41<00:32,  4.71s/it]\u001b[A"
     ]
    },
    {
     "name": "stdout",
     "output_type": "stream",
     "text": [
      "12\n"
     ]
    },
    {
     "name": "stderr",
     "output_type": "stream",
     "text": [
      "\n",
      " 67%|██████▋   | 12/18 [00:47<00:29,  4.95s/it]\u001b[A"
     ]
    },
    {
     "name": "stdout",
     "output_type": "stream",
     "text": [
      "13\n"
     ]
    },
    {
     "name": "stderr",
     "output_type": "stream",
     "text": [
      "\n",
      " 72%|███████▏  | 13/18 [00:52<00:25,  5.08s/it]\u001b[A"
     ]
    },
    {
     "name": "stdout",
     "output_type": "stream",
     "text": [
      "14\n"
     ]
    },
    {
     "name": "stderr",
     "output_type": "stream",
     "text": [
      "\n",
      " 78%|███████▊  | 14/18 [00:58<00:21,  5.39s/it]\u001b[A"
     ]
    },
    {
     "name": "stdout",
     "output_type": "stream",
     "text": [
      "15\n"
     ]
    },
    {
     "name": "stderr",
     "output_type": "stream",
     "text": [
      "\n",
      " 83%|████████▎ | 15/18 [01:04<00:16,  5.35s/it]\u001b[A"
     ]
    },
    {
     "name": "stdout",
     "output_type": "stream",
     "text": [
      "16\n"
     ]
    },
    {
     "name": "stderr",
     "output_type": "stream",
     "text": [
      "\n",
      " 89%|████████▉ | 16/18 [01:09<00:10,  5.37s/it]\u001b[A"
     ]
    },
    {
     "name": "stdout",
     "output_type": "stream",
     "text": [
      "17\n"
     ]
    },
    {
     "name": "stderr",
     "output_type": "stream",
     "text": [
      "\n",
      " 94%|█████████▍| 17/18 [01:15<00:05,  5.64s/it]\u001b[A"
     ]
    },
    {
     "name": "stdout",
     "output_type": "stream",
     "text": [
      "18\n"
     ]
    },
    {
     "name": "stderr",
     "output_type": "stream",
     "text": [
      "\n",
      "100%|██████████| 18/18 [01:21<00:00,  4.52s/it]\u001b[A\n",
      "100%|██████████| 1/1 [02:05<00:00, 125.10s/it]\n"
     ]
    }
   ],
   "source": [
    "#load in data for NFL pass attempts\n",
    "\n",
    "szn_receivers=[]\n",
    "target_list=[]\n",
    "  \n",
    "df_list = []\n",
    "weekly_list = []\n",
    "target_week = [1,2,3,4,5,6,7,8,9,10,11,12,13,14,15,16,17,18]\n",
    "week_list1= []\n",
    "\n",
    "\n",
    "all_throws = []\n",
    "n_szn = []\n",
    "plus_1_szn = []\n",
    "\n",
    "for YEAR in tqdm(range(2022,2023)):\n",
    "    print(YEAR)\n",
    "    data = pd.read_csv('https://github.com/nflverse/nflverse-data/releases/download/pbp/' \\\n",
    "                   'play_by_play_' + str(YEAR) + '.csv.gz',\n",
    "                   compression= 'gzip', low_memory= False)\n",
    "\n",
    "    data = data.loc[data.season_type=='REG']\n",
    "    data['season'] = YEAR\n",
    "    data = data.loc[(data.play_type.isin(['no_play','pass','run'])) & (data.epa.isna()==False)]\n",
    "\n",
    "    data = data[data['posteam_type'].isna()==False]\n",
    "\n",
    "    data.loc[data['pass']==1, 'play_type'] = 'pass'\n",
    "    data.loc[data.rush==1, 'play_type'] = 'run'\n",
    "\n",
    "    data.reset_index(drop=True, inplace=True)\n",
    "\n",
    "    data = data[data['two_point_attempt']==0]\n",
    "\n",
    "    data['home_implied_total'] = abs(data['total_line']/2 + data['spread_line']/2)\n",
    "    data['away_implied_total'] = abs(data['total_line']/2 - data['spread_line']/2)\n",
    "    implied_list = []\n",
    "    for num in data.index:\n",
    "        home_number = data.loc[num]['home_implied_total']\n",
    "        away_number = data.loc[num]['away_implied_total']\n",
    "        has_ball = data.loc[num]['posteam_type']\n",
    "        number = total_finder(has_ball,home_number,away_number)\n",
    "        implied_list.append(number)\n",
    "\n",
    "    data['implied_posteam_total'] = implied_list\n",
    "    throws = data[data['air_yards'].isna()==False]\n",
    "    df = throws[['receiver_player_name','week','posteam','game_id','complete_pass','air_yards','yardline_100','ydstogo','implied_posteam_total','yards_gained','pass_touchdown','down','pass_location','season','home_implied_total','away_implied_total','posteam_type','cp','xyac_mean_yardage','qb_hit','yards_after_catch']]\n",
    "\n",
    "    current_szn_df = df.dropna(subset=['receiver_player_name'])\n",
    "\n",
    "  #Create column for throws to the middle (1 for throws to middle, 0 for throws elsewhere)                               \n",
    "    current_szn_df['middle'] = (current_szn_df['pass_location']=='middle')*1 \n",
    "    current_szn_df['goal_to_go'] = (current_szn_df['yardline_100']<=10)*1 \n",
    "\n",
    "    current_szn_df = current_szn_df[['receiver_player_name','week','posteam','yards_gained','down','yardline_100','ydstogo','implied_posteam_total','air_yards','middle','qb_hit','complete_pass','yards_after_catch','cp','xyac_mean_yardage','goal_to_go']].set_index(['receiver_player_name','posteam'])\n",
    "    current_szn_df['year'] = YEAR\n",
    "  #apply model to the season's stats\n",
    "    current_x = current_szn_df.drop(['yards_gained','year','week','goal_to_go','complete_pass','yards_after_catch','cp','xyac_mean_yardage'],axis=1)\n",
    "    current_szn_df['xYards']=play_by_play_model.predict(current_x)\n",
    "    current_szn_df = current_szn_df.reset_index()\n",
    "  \n",
    "    \n",
    "    yac_df = current_szn_df[current_szn_df['complete_pass']==1]\n",
    "    weekly_yac = yac_df.groupby(['receiver_player_name','posteam','week']).agg({'complete_pass':'sum','yards_after_catch':'sum','xyac_mean_yardage':'sum'})\n",
    "    \n",
    "    \n",
    "    \n",
    "    weekly_pass_offense=current_szn_df.groupby(['posteam','week']).agg({'week':'count','air_yards':'sum'})\n",
    "    weekly_pass_offense.rename(columns={'week':'team_attempts','air_yards':'team_air_yards'},inplace=True)\n",
    "    team_attempts=weekly_pass_offense.reset_index()[['posteam','week','team_attempts','team_air_yards']]\n",
    "    team_attempts.set_index(['posteam','week'],inplace=True)\n",
    "    weekly_rec_group = current_szn_df.groupby(['receiver_player_name','posteam','week']).agg({'week':'max','down':'count','complete_pass':'sum','yards_gained':'sum','air_yards':'sum','xYards':'sum','cp':'sum','implied_posteam_total':'max','goal_to_go':'sum','qb_hit':'sum','middle':'sum','goal_to_go':'sum'})\n",
    "    weekly_rec_group.rename(columns={'week':'week#','down':'targets'},inplace=True)\n",
    "    weekly_rec_group = weekly_rec_group.merge(weekly_yac[['yards_after_catch','xyac_mean_yardage']],right_index=True,left_index=True)\n",
    "    \n",
    "    \n",
    "    feature_receivers = weekly_rec_group.reset_index().set_index(['posteam','week']).merge(team_attempts,right_index=True,left_index=True)\n",
    "    feature_receivers = feature_receivers.reset_index().set_index(['receiver_player_name','posteam','week'])\n",
    "    feature_receivers['szn'] = YEAR\n",
    "    \n",
    "    week_df1 = feature_receivers.copy()\n",
    "    week_df = week_df1.copy()\n",
    "    week_df = week_df.reset_index().set_index(['receiver_player_name','posteam'])\n",
    "    feature_df = feature_receivers.copy()\n",
    "    \n",
    "    for target in tqdm(target_week):\n",
    "        feature_receivers = feature_df[feature_df['week#']<target]\n",
    "    \n",
    "        player_list = []\n",
    "\n",
    "        for x in feature_receivers.reset_index().set_index(['receiver_player_name','posteam']).index:\n",
    "            player_list.append(x)\n",
    "    \n",
    "    \n",
    "        players = list(set(player_list))\n",
    "\n",
    "        print(target)\n",
    "        for player in players:\n",
    "            feature_receivers['xYards_median'] = feature_receivers['xYards']\n",
    "            weekly_player = pd.DataFrame(feature_receivers.loc[player].sort_values('week#',ascending=False).head(6).agg({'yards_gained':'sum','targets':'sum','complete_pass':'sum','week#':'count','szn':'max','air_yards':'sum','xYards':'sum','cp':'sum','goal_to_go':'sum','qb_hit':'sum','middle':'sum','goal_to_go':'sum','team_attempts':'sum','team_air_yards':'sum','yards_after_catch':'sum','xyac_mean_yardage':'sum','xYards_median':'median'})).transpose()\n",
    "            weekly_player['player'] = player[0]\n",
    "            weekly_player['team'] = player[1]\n",
    "            weekly_player['target_week'] = target\n",
    "            weekly_player.set_index(['player','team','target_week','szn'],inplace=True)\n",
    "            \n",
    "          \n",
    "            df_list.append(weekly_player)\n",
    "        \n",
    "        week_df = week_df1.copy()\n",
    "        \n",
    "        week_df = week_df[week_df['week#']==target]\n",
    "        week_df = week_df.reset_index().rename(columns={'week':'target_week','receiver_player_name':'player','posteam':'team'})\n",
    "        week_df = week_df.set_index(['player','team','target_week','szn'])\n",
    "\n",
    "        week_list1.append(week_df)\n",
    "        \n",
    "        \n",
    "        \n",
    "        \n",
    "        \n",
    "weekly_receivers = pd.concat(df_list)\n",
    "weekly_targets = pd.concat(week_list1)\n",
    "        \n",
    "        #weekly_receivers['aDOT']=weekly_receivers['air_yards']/weekly_receivers['targets']\n",
    "        #weekly_receivers['AY_share']=round(weekly_receivers['air_yards']/weekly_receivers['team_air_yards'],3)\n",
    "        #weekly_receivers['target_share']=round(weekly_receivers['targets']/weekly_receivers['team_attempts'],3)\n",
    "        #weekly_receivers['yac/rec']=round(weekly_receivers['yards_after_catch']/weekly_receivers['complete_pass'],3)\n",
    "        #weekly_receivers['xyac/rec']=round(weekly_receivers['xyac_mean_yardage']/weekly_receivers['complete_pass'],3)\n",
    "\n",
    "\n",
    "        \n",
    "        "
   ]
  },
  {
   "cell_type": "code",
   "execution_count": 15,
   "metadata": {
    "id": "jrkupyDKPJ9W"
   },
   "outputs": [],
   "source": [
    "feature_df['target_week'] = feature_df['week#']+1\n",
    "\n",
    "feature_df.drop(('A.St. Brown','DET',7),inplace=True)"
   ]
  },
  {
   "cell_type": "code",
   "execution_count": 16,
   "metadata": {
    "colab": {
     "base_uri": "https://localhost:8080/",
     "height": 490
    },
    "id": "R4V14Yzic0_q",
    "outputId": "e2a312f1-1847-4143-d101-2f53dc5273e6"
   },
   "outputs": [
    {
     "data": {
      "text/html": [
       "<div>\n",
       "<style scoped>\n",
       "    .dataframe tbody tr th:only-of-type {\n",
       "        vertical-align: middle;\n",
       "    }\n",
       "\n",
       "    .dataframe tbody tr th {\n",
       "        vertical-align: top;\n",
       "    }\n",
       "\n",
       "    .dataframe thead th {\n",
       "        text-align: right;\n",
       "    }\n",
       "</style>\n",
       "<table border=\"1\" class=\"dataframe\">\n",
       "  <thead>\n",
       "    <tr style=\"text-align: right;\">\n",
       "      <th></th>\n",
       "      <th></th>\n",
       "      <th>week#</th>\n",
       "      <th>targets</th>\n",
       "      <th>complete_pass</th>\n",
       "      <th>yards_gained</th>\n",
       "      <th>air_yards</th>\n",
       "      <th>xYards</th>\n",
       "      <th>cp</th>\n",
       "      <th>implied_posteam_total</th>\n",
       "      <th>goal_to_go</th>\n",
       "      <th>qb_hit</th>\n",
       "      <th>middle</th>\n",
       "      <th>yards_after_catch</th>\n",
       "      <th>xyac_mean_yardage</th>\n",
       "      <th>team_attempts</th>\n",
       "      <th>team_air_yards</th>\n",
       "      <th>szn</th>\n",
       "      <th>target_week</th>\n",
       "    </tr>\n",
       "    <tr>\n",
       "      <th>posteam</th>\n",
       "      <th>week</th>\n",
       "      <th></th>\n",
       "      <th></th>\n",
       "      <th></th>\n",
       "      <th></th>\n",
       "      <th></th>\n",
       "      <th></th>\n",
       "      <th></th>\n",
       "      <th></th>\n",
       "      <th></th>\n",
       "      <th></th>\n",
       "      <th></th>\n",
       "      <th></th>\n",
       "      <th></th>\n",
       "      <th></th>\n",
       "      <th></th>\n",
       "      <th></th>\n",
       "      <th></th>\n",
       "    </tr>\n",
       "  </thead>\n",
       "  <tbody>\n",
       "    <tr>\n",
       "      <th rowspan=\"14\" valign=\"top\">SEA</th>\n",
       "      <th>1</th>\n",
       "      <td>1</td>\n",
       "      <td>4</td>\n",
       "      <td>3.0</td>\n",
       "      <td>28.0</td>\n",
       "      <td>29.0</td>\n",
       "      <td>29.970425</td>\n",
       "      <td>2.799239</td>\n",
       "      <td>19.00</td>\n",
       "      <td>0</td>\n",
       "      <td>0.0</td>\n",
       "      <td>1</td>\n",
       "      <td>5.0</td>\n",
       "      <td>15.557277</td>\n",
       "      <td>27</td>\n",
       "      <td>135.0</td>\n",
       "      <td>2022</td>\n",
       "      <td>2</td>\n",
       "    </tr>\n",
       "    <tr>\n",
       "      <th>2</th>\n",
       "      <td>2</td>\n",
       "      <td>11</td>\n",
       "      <td>9.0</td>\n",
       "      <td>107.0</td>\n",
       "      <td>118.0</td>\n",
       "      <td>80.492153</td>\n",
       "      <td>6.903809</td>\n",
       "      <td>15.75</td>\n",
       "      <td>0</td>\n",
       "      <td>2.0</td>\n",
       "      <td>3</td>\n",
       "      <td>22.0</td>\n",
       "      <td>36.641333</td>\n",
       "      <td>30</td>\n",
       "      <td>170.0</td>\n",
       "      <td>2022</td>\n",
       "      <td>3</td>\n",
       "    </tr>\n",
       "    <tr>\n",
       "      <th>3</th>\n",
       "      <td>3</td>\n",
       "      <td>11</td>\n",
       "      <td>9.0</td>\n",
       "      <td>76.0</td>\n",
       "      <td>123.0</td>\n",
       "      <td>84.512757</td>\n",
       "      <td>6.664902</td>\n",
       "      <td>22.00</td>\n",
       "      <td>0</td>\n",
       "      <td>1.0</td>\n",
       "      <td>0</td>\n",
       "      <td>3.0</td>\n",
       "      <td>34.271528</td>\n",
       "      <td>44</td>\n",
       "      <td>412.0</td>\n",
       "      <td>2022</td>\n",
       "      <td>4</td>\n",
       "    </tr>\n",
       "    <tr>\n",
       "      <th>4</th>\n",
       "      <td>4</td>\n",
       "      <td>8</td>\n",
       "      <td>6.0</td>\n",
       "      <td>91.0</td>\n",
       "      <td>122.0</td>\n",
       "      <td>65.110391</td>\n",
       "      <td>4.626942</td>\n",
       "      <td>22.75</td>\n",
       "      <td>1</td>\n",
       "      <td>2.0</td>\n",
       "      <td>2</td>\n",
       "      <td>11.0</td>\n",
       "      <td>22.844684</td>\n",
       "      <td>29</td>\n",
       "      <td>319.0</td>\n",
       "      <td>2022</td>\n",
       "      <td>5</td>\n",
       "    </tr>\n",
       "    <tr>\n",
       "      <th>5</th>\n",
       "      <td>5</td>\n",
       "      <td>6</td>\n",
       "      <td>5.0</td>\n",
       "      <td>104.0</td>\n",
       "      <td>135.0</td>\n",
       "      <td>51.207771</td>\n",
       "      <td>3.103960</td>\n",
       "      <td>20.00</td>\n",
       "      <td>0</td>\n",
       "      <td>2.0</td>\n",
       "      <td>2</td>\n",
       "      <td>5.0</td>\n",
       "      <td>10.438336</td>\n",
       "      <td>24</td>\n",
       "      <td>300.0</td>\n",
       "      <td>2022</td>\n",
       "      <td>6</td>\n",
       "    </tr>\n",
       "    <tr>\n",
       "      <th>6</th>\n",
       "      <td>6</td>\n",
       "      <td>5</td>\n",
       "      <td>2.0</td>\n",
       "      <td>17.0</td>\n",
       "      <td>62.0</td>\n",
       "      <td>39.778139</td>\n",
       "      <td>3.077915</td>\n",
       "      <td>23.75</td>\n",
       "      <td>0</td>\n",
       "      <td>0.0</td>\n",
       "      <td>2</td>\n",
       "      <td>8.0</td>\n",
       "      <td>7.939587</td>\n",
       "      <td>30</td>\n",
       "      <td>204.0</td>\n",
       "      <td>2022</td>\n",
       "      <td>7</td>\n",
       "    </tr>\n",
       "    <tr>\n",
       "      <th>7</th>\n",
       "      <td>7</td>\n",
       "      <td>8</td>\n",
       "      <td>7.0</td>\n",
       "      <td>45.0</td>\n",
       "      <td>43.0</td>\n",
       "      <td>52.408489</td>\n",
       "      <td>5.625344</td>\n",
       "      <td>23.00</td>\n",
       "      <td>0</td>\n",
       "      <td>1.0</td>\n",
       "      <td>1</td>\n",
       "      <td>9.0</td>\n",
       "      <td>34.396273</td>\n",
       "      <td>26</td>\n",
       "      <td>209.0</td>\n",
       "      <td>2022</td>\n",
       "      <td>8</td>\n",
       "    </tr>\n",
       "    <tr>\n",
       "      <th>8</th>\n",
       "      <td>8</td>\n",
       "      <td>8</td>\n",
       "      <td>5.0</td>\n",
       "      <td>63.0</td>\n",
       "      <td>84.0</td>\n",
       "      <td>51.552411</td>\n",
       "      <td>4.539161</td>\n",
       "      <td>23.75</td>\n",
       "      <td>0</td>\n",
       "      <td>2.0</td>\n",
       "      <td>0</td>\n",
       "      <td>28.0</td>\n",
       "      <td>27.092477</td>\n",
       "      <td>33</td>\n",
       "      <td>261.0</td>\n",
       "      <td>2022</td>\n",
       "      <td>9</td>\n",
       "    </tr>\n",
       "    <tr>\n",
       "      <th>9</th>\n",
       "      <td>9</td>\n",
       "      <td>5</td>\n",
       "      <td>5.0</td>\n",
       "      <td>67.0</td>\n",
       "      <td>24.0</td>\n",
       "      <td>31.774134</td>\n",
       "      <td>3.406899</td>\n",
       "      <td>24.00</td>\n",
       "      <td>1</td>\n",
       "      <td>1.0</td>\n",
       "      <td>1</td>\n",
       "      <td>43.0</td>\n",
       "      <td>27.223590</td>\n",
       "      <td>32</td>\n",
       "      <td>75.0</td>\n",
       "      <td>2022</td>\n",
       "      <td>10</td>\n",
       "    </tr>\n",
       "    <tr>\n",
       "      <th>10</th>\n",
       "      <td>10</td>\n",
       "      <td>5</td>\n",
       "      <td>3.0</td>\n",
       "      <td>42.0</td>\n",
       "      <td>53.0</td>\n",
       "      <td>37.522324</td>\n",
       "      <td>3.040777</td>\n",
       "      <td>21.25</td>\n",
       "      <td>0</td>\n",
       "      <td>0.0</td>\n",
       "      <td>1</td>\n",
       "      <td>9.0</td>\n",
       "      <td>8.453819</td>\n",
       "      <td>33</td>\n",
       "      <td>248.0</td>\n",
       "      <td>2022</td>\n",
       "      <td>11</td>\n",
       "    </tr>\n",
       "    <tr>\n",
       "      <th>12</th>\n",
       "      <td>12</td>\n",
       "      <td>7</td>\n",
       "      <td>3.0</td>\n",
       "      <td>68.0</td>\n",
       "      <td>90.0</td>\n",
       "      <td>64.875953</td>\n",
       "      <td>4.536230</td>\n",
       "      <td>25.75</td>\n",
       "      <td>0</td>\n",
       "      <td>1.0</td>\n",
       "      <td>5</td>\n",
       "      <td>24.0</td>\n",
       "      <td>9.173747</td>\n",
       "      <td>37</td>\n",
       "      <td>294.0</td>\n",
       "      <td>2022</td>\n",
       "      <td>13</td>\n",
       "    </tr>\n",
       "    <tr>\n",
       "      <th>13</th>\n",
       "      <td>13</td>\n",
       "      <td>12</td>\n",
       "      <td>9.0</td>\n",
       "      <td>128.0</td>\n",
       "      <td>89.0</td>\n",
       "      <td>89.451189</td>\n",
       "      <td>8.285791</td>\n",
       "      <td>24.00</td>\n",
       "      <td>1</td>\n",
       "      <td>1.0</td>\n",
       "      <td>2</td>\n",
       "      <td>68.0</td>\n",
       "      <td>43.275493</td>\n",
       "      <td>37</td>\n",
       "      <td>270.0</td>\n",
       "      <td>2022</td>\n",
       "      <td>14</td>\n",
       "    </tr>\n",
       "    <tr>\n",
       "      <th>14</th>\n",
       "      <td>14</td>\n",
       "      <td>9</td>\n",
       "      <td>5.0</td>\n",
       "      <td>60.0</td>\n",
       "      <td>97.0</td>\n",
       "      <td>72.222910</td>\n",
       "      <td>5.002261</td>\n",
       "      <td>24.00</td>\n",
       "      <td>1</td>\n",
       "      <td>1.0</td>\n",
       "      <td>0</td>\n",
       "      <td>1.0</td>\n",
       "      <td>18.435113</td>\n",
       "      <td>36</td>\n",
       "      <td>394.0</td>\n",
       "      <td>2022</td>\n",
       "      <td>15</td>\n",
       "    </tr>\n",
       "    <tr>\n",
       "      <th>15</th>\n",
       "      <td>15</td>\n",
       "      <td>9</td>\n",
       "      <td>7.0</td>\n",
       "      <td>68.0</td>\n",
       "      <td>67.0</td>\n",
       "      <td>66.285869</td>\n",
       "      <td>6.362094</td>\n",
       "      <td>20.00</td>\n",
       "      <td>0</td>\n",
       "      <td>0.0</td>\n",
       "      <td>1</td>\n",
       "      <td>21.0</td>\n",
       "      <td>31.932819</td>\n",
       "      <td>41</td>\n",
       "      <td>196.0</td>\n",
       "      <td>2022</td>\n",
       "      <td>16</td>\n",
       "    </tr>\n",
       "  </tbody>\n",
       "</table>\n",
       "</div>"
      ],
      "text/plain": [
       "              week#  targets  complete_pass  yards_gained  air_yards  \\\n",
       "posteam week                                                           \n",
       "SEA     1         1        4            3.0          28.0       29.0   \n",
       "        2         2       11            9.0         107.0      118.0   \n",
       "        3         3       11            9.0          76.0      123.0   \n",
       "        4         4        8            6.0          91.0      122.0   \n",
       "        5         5        6            5.0         104.0      135.0   \n",
       "        6         6        5            2.0          17.0       62.0   \n",
       "        7         7        8            7.0          45.0       43.0   \n",
       "        8         8        8            5.0          63.0       84.0   \n",
       "        9         9        5            5.0          67.0       24.0   \n",
       "        10       10        5            3.0          42.0       53.0   \n",
       "        12       12        7            3.0          68.0       90.0   \n",
       "        13       13       12            9.0         128.0       89.0   \n",
       "        14       14        9            5.0          60.0       97.0   \n",
       "        15       15        9            7.0          68.0       67.0   \n",
       "\n",
       "                 xYards        cp  implied_posteam_total  goal_to_go  qb_hit  \\\n",
       "posteam week                                                                   \n",
       "SEA     1     29.970425  2.799239                  19.00           0     0.0   \n",
       "        2     80.492153  6.903809                  15.75           0     2.0   \n",
       "        3     84.512757  6.664902                  22.00           0     1.0   \n",
       "        4     65.110391  4.626942                  22.75           1     2.0   \n",
       "        5     51.207771  3.103960                  20.00           0     2.0   \n",
       "        6     39.778139  3.077915                  23.75           0     0.0   \n",
       "        7     52.408489  5.625344                  23.00           0     1.0   \n",
       "        8     51.552411  4.539161                  23.75           0     2.0   \n",
       "        9     31.774134  3.406899                  24.00           1     1.0   \n",
       "        10    37.522324  3.040777                  21.25           0     0.0   \n",
       "        12    64.875953  4.536230                  25.75           0     1.0   \n",
       "        13    89.451189  8.285791                  24.00           1     1.0   \n",
       "        14    72.222910  5.002261                  24.00           1     1.0   \n",
       "        15    66.285869  6.362094                  20.00           0     0.0   \n",
       "\n",
       "              middle  yards_after_catch  xyac_mean_yardage  team_attempts  \\\n",
       "posteam week                                                                \n",
       "SEA     1          1                5.0          15.557277             27   \n",
       "        2          3               22.0          36.641333             30   \n",
       "        3          0                3.0          34.271528             44   \n",
       "        4          2               11.0          22.844684             29   \n",
       "        5          2                5.0          10.438336             24   \n",
       "        6          2                8.0           7.939587             30   \n",
       "        7          1                9.0          34.396273             26   \n",
       "        8          0               28.0          27.092477             33   \n",
       "        9          1               43.0          27.223590             32   \n",
       "        10         1                9.0           8.453819             33   \n",
       "        12         5               24.0           9.173747             37   \n",
       "        13         2               68.0          43.275493             37   \n",
       "        14         0                1.0          18.435113             36   \n",
       "        15         1               21.0          31.932819             41   \n",
       "\n",
       "              team_air_yards   szn  target_week  \n",
       "posteam week                                     \n",
       "SEA     1              135.0  2022            2  \n",
       "        2              170.0  2022            3  \n",
       "        3              412.0  2022            4  \n",
       "        4              319.0  2022            5  \n",
       "        5              300.0  2022            6  \n",
       "        6              204.0  2022            7  \n",
       "        7              209.0  2022            8  \n",
       "        8              261.0  2022            9  \n",
       "        9               75.0  2022           10  \n",
       "        10             248.0  2022           11  \n",
       "        12             294.0  2022           13  \n",
       "        13             270.0  2022           14  \n",
       "        14             394.0  2022           15  \n",
       "        15             196.0  2022           16  "
      ]
     },
     "execution_count": 16,
     "metadata": {},
     "output_type": "execute_result"
    }
   ],
   "source": [
    "feature_df.loc['T.Lockett']"
   ]
  },
  {
   "cell_type": "code",
   "execution_count": 17,
   "metadata": {
    "id": "60qLJzg4Tp1m"
   },
   "outputs": [],
   "source": [
    "    YEAR=2022\n",
    "    \n",
    "    \n",
    "    snap_df = nfl.import_snap_counts([YEAR])\n",
    "    snap_df['team'] = snap_df['team'].apply(lambda x: team_fixer(x))\n",
    "    snap_df = snap_df[snap_df['game_type']=='REG']\n",
    "    snap_df = snap_df[['pfr_player_id','player','offense_snaps','offense_pct','week','team','game_id','position']]\n",
    "    snap_df['player_copy'] = snap_df['player']\n",
    "    snap_df.rename(columns={'player_copy':'full_name'},inplace=True)\n",
    "    snap_df['full_name'] = snap_df['full_name'].apply(lambda x: snap_name_changer(x))\n",
    "    \n",
    "    \n",
    "    snap_df['week#'] = snap_df['week']\n",
    "    #snap_df = snap_df.set_index(['receiver_player_id','team','week'])\n",
    "    snap_df = snap_df[snap_df['offense_snaps']>0]\n",
    "\n",
    "    snap_df['last_name'] = snap_df['full_name'].apply(lambda x: x.split(\" \",1)[1])\n",
    "    snap_df['identifier'] = (snap_df['full_name']).str[0]+\".\"+snap_df['last_name']+\"_\"+snap_df['team']+\"_\"+(snap_df['week'].astype(str))\n",
    "    snap_df = snap_df[['full_name','identifier','offense_snaps','position','team']]\n",
    "\n",
    "\n"
   ]
  },
  {
   "cell_type": "code",
   "execution_count": 18,
   "metadata": {
    "id": "lks2_G3uc-X-"
   },
   "outputs": [],
   "source": [
    "snap_df = snap_df[snap_df['identifier']!='A.St. Brown_DET_7']\n",
    "\n",
    "snap_df = snap_df[snap_df['identifier']!='D.Metcalf_SEA_7']"
   ]
  },
  {
   "cell_type": "code",
   "execution_count": 19,
   "metadata": {
    "id": "w7PpIqarkCIE"
   },
   "outputs": [],
   "source": [
    "snap_df = snap_df[snap_df['identifier']!='M.Andrews_BAL_8']\n"
   ]
  },
  {
   "cell_type": "code",
   "execution_count": 20,
   "metadata": {
    "colab": {
     "base_uri": "https://localhost:8080/",
     "height": 49,
     "referenced_widgets": [
      "ed1892cf70e64ad9afd6ad32e4cdb721",
      "b471a4e03d074c3eb76f82d1974ae717",
      "512de06c21d24f2488cce8df0e898158",
      "41d249fa71f44a3ab1d1cd6570dd1b47",
      "0e7fb50b5cbd45ea8239cec1a24a352e",
      "c447349c853e418b947cc963e23dc5f4",
      "e631402ce883472590495a7cf0cd66b8",
      "a8f9e903f4ba475da8dc5ef57ab8680a",
      "ad18b080b7664c6daa8338c015ef22cb",
      "1022e089c02b4b01917194f5f8db5064",
      "e295016ca79749369f9fa2261a1c82dd"
     ]
    },
    "id": "yWperbCfAEqs",
    "outputId": "50698b88-29bd-45de-bca4-908e5e5d583f"
   },
   "outputs": [
    {
     "data": {
      "application/vnd.jupyter.widget-view+json": {
       "model_id": "68fe2e48da294163bfc8918bf01310b0",
       "version_major": 2,
       "version_minor": 0
      },
      "text/plain": [
       "  0%|          | 0/3174 [00:00<?, ?it/s]"
      ]
     },
     "metadata": {},
     "output_type": "display_data"
    }
   ],
   "source": [
    "player_df_list = []\n",
    "\n",
    "\n",
    "\n",
    "for player_id in tq.tqdm(feature_df.index):\n",
    "\n",
    "  player = player_id[0:2]\n",
    "  player_df = feature_df.loc[player]\n",
    "  week_df=pd.DataFrame()\n",
    "  week_df['week#']=[1,2,3,4,5,6,7,8,9,10,11,12,13,14,15,16,17,18]\n",
    "  player_df = player_df.merge(week_df,how='right')\n",
    "  player_df['receiver_player_name'] = player[0]\n",
    "  \n",
    "  player_df['posteam'] = player[1]\n",
    "  player_df['last'] = player_df['receiver_player_name'].apply(lambda x: last_name(x))\n",
    "  player_df['identifier'] = (player_df['receiver_player_name']).str[0]+\".\"+player_df['last']+\"_\"+player_df['posteam']+\"_\"+player_df['week#'].astype(str)\n",
    "  player_df = player_df.merge(snap_df,on='identifier')\n",
    "\n",
    "\n",
    "\n",
    "  player_df.fillna(0,inplace=True)\n",
    "\n",
    "  player_df['xYards_median'] = player_df['xYards'].rolling(6,min_periods=6).median()\n",
    "  player_df['xYards/game'] = player_df['xYards'].rolling(6,min_periods=6).mean()\n",
    "\n",
    "  player_df['xYards_sum'] = player_df['xYards'].rolling(6,min_periods=6).sum()\n",
    "  player_df['yards_sum'] = player_df['yards_gained'].rolling(6,min_periods=6).sum()\n",
    "  player_df['yards/game'] = player_df['yards_gained'].rolling(6,min_periods=6).mean()\n",
    "  player_df['games'] = player_df['week#'].rolling(6,min_periods=1).count()\n",
    "  player_df.rename(columns={'week#':'week'},inplace=True)\n",
    "  target_df1 = pd.DataFrame()\n",
    "\n",
    "\n",
    "  player_df['target_week'] = player_df['week']+1\n",
    "\n",
    "  target_df1['target_week']=[2,3,4,5,6,7,8,9,10,11,12,13,14,15,16,17,18]\n",
    "\n",
    "  player_df = player_df.merge(target_df1,how='right').sort_values('target_week')\n",
    "\n",
    "\n",
    "\n",
    "\n",
    "  player_df = player_df.fillna(method='ffill')\n",
    "\n",
    "  player_df_list.append(player_df)\n",
    "\n",
    "\n"
   ]
  },
  {
   "cell_type": "code",
   "execution_count": 21,
   "metadata": {
    "id": "GxYL3vZPh_Qs"
   },
   "outputs": [],
   "source": [
    "trailing_weeks = pd.concat(player_df_list)\n"
   ]
  },
  {
   "cell_type": "code",
   "execution_count": 22,
   "metadata": {},
   "outputs": [],
   "source": [
    "new_df = trailing_weeks[['receiver_player_name','full_name','xYards','yards_gained','week','posteam']].drop_duplicates()\n",
    "\n"
   ]
  },
  {
   "cell_type": "code",
   "execution_count": 23,
   "metadata": {},
   "outputs": [],
   "source": [
    "new_df = new_df[new_df['receiver_player_name'].isna()==False]"
   ]
  },
  {
   "cell_type": "markdown",
   "metadata": {
    "id": "amb1gu8z1jk7"
   },
   "source": [
    "## 5. Actual Results"
   ]
  },
  {
   "cell_type": "markdown",
   "metadata": {
    "id": "kaiX21cc1lMh"
   },
   "source": [
    "### Week 8"
   ]
  },
  {
   "cell_type": "code",
   "execution_count": 24,
   "metadata": {},
   "outputs": [
    {
     "ename": "AttributeError",
     "evalue": "'GradientBoostingRegressor' object has no attribute 'n_features_'",
     "output_type": "error",
     "traceback": [
      "\u001b[1;31m---------------------------------------------------------------------------\u001b[0m",
      "\u001b[1;31mAttributeError\u001b[0m                            Traceback (most recent call last)",
      "\u001b[1;32m<ipython-input-24-5ac6d0c5b389>\u001b[0m in \u001b[0;36m<module>\u001b[1;34m\u001b[0m\n\u001b[0;32m     48\u001b[0m \u001b[1;33m\u001b[0m\u001b[0m\n\u001b[0;32m     49\u001b[0m \u001b[1;33m\u001b[0m\u001b[0m\n\u001b[1;32m---> 50\u001b[1;33m \u001b[0mtrailing_weeks\u001b[0m\u001b[1;33m[\u001b[0m\u001b[1;34m'pYards'\u001b[0m\u001b[1;33m]\u001b[0m \u001b[1;33m=\u001b[0m \u001b[0min_season_model\u001b[0m\u001b[1;33m.\u001b[0m\u001b[0mpredict\u001b[0m\u001b[1;33m(\u001b[0m\u001b[0mtrailing_weeks\u001b[0m\u001b[1;33m[\u001b[0m\u001b[1;33m[\u001b[0m\u001b[1;36m1\u001b[0m\u001b[1;33m,\u001b[0m\u001b[1;36m2\u001b[0m\u001b[1;33m,\u001b[0m\u001b[1;36m3\u001b[0m\u001b[1;33m,\u001b[0m\u001b[1;36m4\u001b[0m\u001b[1;33m,\u001b[0m\u001b[1;36m5\u001b[0m\u001b[1;33m,\u001b[0m\u001b[1;36m6\u001b[0m\u001b[1;33m,\u001b[0m\u001b[1;34m'1a'\u001b[0m\u001b[1;33m,\u001b[0m\u001b[1;34m'2a'\u001b[0m\u001b[1;33m,\u001b[0m\u001b[1;34m'3a'\u001b[0m\u001b[1;33m,\u001b[0m\u001b[1;34m'4a'\u001b[0m\u001b[1;33m,\u001b[0m\u001b[1;34m'5a'\u001b[0m\u001b[1;33m,\u001b[0m\u001b[1;34m'6a'\u001b[0m\u001b[1;33m,\u001b[0m\u001b[1;34m'xYards/game'\u001b[0m\u001b[1;33m,\u001b[0m\u001b[1;34m'yards/game'\u001b[0m\u001b[1;33m]\u001b[0m\u001b[1;33m]\u001b[0m\u001b[1;33m)\u001b[0m\u001b[1;33m\u001b[0m\u001b[1;33m\u001b[0m\u001b[0m\n\u001b[0m\u001b[0;32m     51\u001b[0m \u001b[1;33m\u001b[0m\u001b[0m\n\u001b[0;32m     52\u001b[0m \u001b[1;31m#trailing_weeks['pYards'] = in_season_model.predict(trailing_weeks[[1,2,3,4,5,6]])\u001b[0m\u001b[1;33m\u001b[0m\u001b[1;33m\u001b[0m\u001b[1;33m\u001b[0m\u001b[0m\n",
      "\u001b[1;32m~\\anaconda3\\lib\\site-packages\\sklearn\\ensemble\\_gb.py\u001b[0m in \u001b[0;36mpredict\u001b[1;34m(self, X)\u001b[0m\n\u001b[0;32m   1650\u001b[0m         \u001b[0mX\u001b[0m \u001b[1;33m=\u001b[0m \u001b[0mcheck_array\u001b[0m\u001b[1;33m(\u001b[0m\u001b[0mX\u001b[0m\u001b[1;33m,\u001b[0m \u001b[0mdtype\u001b[0m\u001b[1;33m=\u001b[0m\u001b[0mDTYPE\u001b[0m\u001b[1;33m,\u001b[0m \u001b[0morder\u001b[0m\u001b[1;33m=\u001b[0m\u001b[1;34m\"C\"\u001b[0m\u001b[1;33m,\u001b[0m \u001b[0maccept_sparse\u001b[0m\u001b[1;33m=\u001b[0m\u001b[1;34m'csr'\u001b[0m\u001b[1;33m)\u001b[0m\u001b[1;33m\u001b[0m\u001b[1;33m\u001b[0m\u001b[0m\n\u001b[0;32m   1651\u001b[0m         \u001b[1;31m# In regression we can directly return the raw value from the trees.\u001b[0m\u001b[1;33m\u001b[0m\u001b[1;33m\u001b[0m\u001b[1;33m\u001b[0m\u001b[0m\n\u001b[1;32m-> 1652\u001b[1;33m         \u001b[1;32mreturn\u001b[0m \u001b[0mself\u001b[0m\u001b[1;33m.\u001b[0m\u001b[0m_raw_predict\u001b[0m\u001b[1;33m(\u001b[0m\u001b[0mX\u001b[0m\u001b[1;33m)\u001b[0m\u001b[1;33m.\u001b[0m\u001b[0mravel\u001b[0m\u001b[1;33m(\u001b[0m\u001b[1;33m)\u001b[0m\u001b[1;33m\u001b[0m\u001b[1;33m\u001b[0m\u001b[0m\n\u001b[0m\u001b[0;32m   1653\u001b[0m \u001b[1;33m\u001b[0m\u001b[0m\n\u001b[0;32m   1654\u001b[0m     \u001b[1;32mdef\u001b[0m \u001b[0mstaged_predict\u001b[0m\u001b[1;33m(\u001b[0m\u001b[0mself\u001b[0m\u001b[1;33m,\u001b[0m \u001b[0mX\u001b[0m\u001b[1;33m)\u001b[0m\u001b[1;33m:\u001b[0m\u001b[1;33m\u001b[0m\u001b[1;33m\u001b[0m\u001b[0m\n",
      "\u001b[1;32m~\\anaconda3\\lib\\site-packages\\sklearn\\ensemble\\_gb.py\u001b[0m in \u001b[0;36m_raw_predict\u001b[1;34m(self, X)\u001b[0m\n\u001b[0;32m    622\u001b[0m     \u001b[1;32mdef\u001b[0m \u001b[0m_raw_predict\u001b[0m\u001b[1;33m(\u001b[0m\u001b[0mself\u001b[0m\u001b[1;33m,\u001b[0m \u001b[0mX\u001b[0m\u001b[1;33m)\u001b[0m\u001b[1;33m:\u001b[0m\u001b[1;33m\u001b[0m\u001b[1;33m\u001b[0m\u001b[0m\n\u001b[0;32m    623\u001b[0m         \u001b[1;34m\"\"\"Return the sum of the trees raw predictions (+ init estimator).\"\"\"\u001b[0m\u001b[1;33m\u001b[0m\u001b[1;33m\u001b[0m\u001b[0m\n\u001b[1;32m--> 624\u001b[1;33m         \u001b[0mraw_predictions\u001b[0m \u001b[1;33m=\u001b[0m \u001b[0mself\u001b[0m\u001b[1;33m.\u001b[0m\u001b[0m_raw_predict_init\u001b[0m\u001b[1;33m(\u001b[0m\u001b[0mX\u001b[0m\u001b[1;33m)\u001b[0m\u001b[1;33m\u001b[0m\u001b[1;33m\u001b[0m\u001b[0m\n\u001b[0m\u001b[0;32m    625\u001b[0m         predict_stages(self.estimators_, X, self.learning_rate,\n\u001b[0;32m    626\u001b[0m                        raw_predictions)\n",
      "\u001b[1;32m~\\anaconda3\\lib\\site-packages\\sklearn\\ensemble\\_gb.py\u001b[0m in \u001b[0;36m_raw_predict_init\u001b[1;34m(self, X)\u001b[0m\n\u001b[0;32m    609\u001b[0m         \u001b[0mself\u001b[0m\u001b[1;33m.\u001b[0m\u001b[0m_check_initialized\u001b[0m\u001b[1;33m(\u001b[0m\u001b[1;33m)\u001b[0m\u001b[1;33m\u001b[0m\u001b[1;33m\u001b[0m\u001b[0m\n\u001b[0;32m    610\u001b[0m         \u001b[0mX\u001b[0m \u001b[1;33m=\u001b[0m \u001b[0mself\u001b[0m\u001b[1;33m.\u001b[0m\u001b[0mestimators_\u001b[0m\u001b[1;33m[\u001b[0m\u001b[1;36m0\u001b[0m\u001b[1;33m,\u001b[0m \u001b[1;36m0\u001b[0m\u001b[1;33m]\u001b[0m\u001b[1;33m.\u001b[0m\u001b[0m_validate_X_predict\u001b[0m\u001b[1;33m(\u001b[0m\u001b[0mX\u001b[0m\u001b[1;33m,\u001b[0m \u001b[0mcheck_input\u001b[0m\u001b[1;33m=\u001b[0m\u001b[1;32mTrue\u001b[0m\u001b[1;33m)\u001b[0m\u001b[1;33m\u001b[0m\u001b[1;33m\u001b[0m\u001b[0m\n\u001b[1;32m--> 611\u001b[1;33m         \u001b[1;32mif\u001b[0m \u001b[0mX\u001b[0m\u001b[1;33m.\u001b[0m\u001b[0mshape\u001b[0m\u001b[1;33m[\u001b[0m\u001b[1;36m1\u001b[0m\u001b[1;33m]\u001b[0m \u001b[1;33m!=\u001b[0m \u001b[0mself\u001b[0m\u001b[1;33m.\u001b[0m\u001b[0mn_features_\u001b[0m\u001b[1;33m:\u001b[0m\u001b[1;33m\u001b[0m\u001b[1;33m\u001b[0m\u001b[0m\n\u001b[0m\u001b[0;32m    612\u001b[0m             raise ValueError(\"X.shape[1] should be {0:d}, not {1:d}.\".format(\n\u001b[0;32m    613\u001b[0m                 self.n_features_, X.shape[1]))\n",
      "\u001b[1;31mAttributeError\u001b[0m: 'GradientBoostingRegressor' object has no attribute 'n_features_'"
     ]
    }
   ],
   "source": [
    "week=8\n",
    "\n",
    "weekly_player_list = []\n",
    "weekly_yard_list = []\n",
    "\n",
    "for player in new_df['full_name'].unique():\n",
    "    df_df = new_df[new_df['full_name']==player]\n",
    "    yds = df_df.copy()\n",
    "    name = list(df_df['receiver_player_name'])[0]\n",
    "    team = list(df_df['posteam'])[0]\n",
    "\n",
    "    df_df = df_df[df_df['week']<week].tail(6)[['xYards']]\n",
    "    df_df.rename(columns={'xYards':name},inplace=True)\n",
    "    df_df = df_df.transpose()\n",
    "    if len(list(df_df.columns))==6:\n",
    "        df_df.columns = [1,2,3,4,5,6]\n",
    "        df_df['team']=team\n",
    "        weekly_player_list.append(df_df)\n",
    "    \n",
    "    yd_df = yds[yds['week']<week].tail(6)[['yards_gained']] \n",
    "    yd_df.rename(columns={'yards_gained':name},inplace=True)\n",
    "    yd_df = yd_df.transpose()\n",
    "    if len(list(yd_df.columns))==6:\n",
    "        \n",
    "        yd_df.columns = ['1a','2a','3a','4a','5a','6a']\n",
    "        yd_df['team']=team\n",
    "\n",
    "        weekly_yard_list.append(yd_df)\n",
    "\n",
    "\n",
    "\n",
    "trailing_weeks = pd.concat(weekly_player_list)\n",
    "\n",
    "yardage_trailing = pd.concat(weekly_yard_list)\n",
    "\n",
    "\n",
    "trailing_weeks =  trailing_weeks.reset_index().rename(columns={'index':'player'})\n",
    "\n",
    "yardage_trailing = yardage_trailing.reset_index().rename(columns={'index':'player'})\n",
    "\n",
    "trailing_weeks['xYards/game']=(trailing_weeks[1]+trailing_weeks[2]+trailing_weeks[3]+trailing_weeks[4]+trailing_weeks[5]+trailing_weeks[6])/6\n",
    "\n",
    "\n",
    "trailing_weeks = trailing_weeks.merge(yardage_trailing, on=['player','team'])\n",
    "\n",
    "\n",
    "trailing_weeks['yards/game']=(trailing_weeks['1a']+trailing_weeks['2a']+trailing_weeks['3a']+trailing_weeks['4a']+trailing_weeks['5a']+trailing_weeks['6a'])/6\n",
    "\n",
    "\n",
    "trailing_weeks['pYards'] = in_season_model.predict(trailing_weeks[[1,2,3,4,5,6,'1a','2a','3a','4a','5a','6a','xYards/game','yards/game']])\n",
    "\n",
    "#trailing_weeks['pYards'] = in_season_model.predict(trailing_weeks[[1,2,3,4,5,6]])\n",
    "\n",
    "\n",
    "trailing_weeks"
   ]
  },
  {
   "cell_type": "code",
   "execution_count": null,
   "metadata": {},
   "outputs": [],
   "source": [
    "yardage_trailing.reset_index().rename(columns={'index':'player'})\n"
   ]
  },
  {
   "cell_type": "code",
   "execution_count": null,
   "metadata": {},
   "outputs": [],
   "source": []
  },
  {
   "cell_type": "code",
   "execution_count": null,
   "metadata": {
    "id": "zGocceoEtZ9i"
   },
   "outputs": [],
   "source": [
    "projections = trailing_weeks.sort_values('pYards',ascending=False)\n",
    "\n",
    "#[['player','team','pYards','Yards/game','games','target_share_x','aDOT','xYards/game','team_attempts_x']]"
   ]
  },
  {
   "cell_type": "code",
   "execution_count": null,
   "metadata": {
    "colab": {
     "base_uri": "https://localhost:8080/",
     "height": 174
    },
    "id": "bcan8AmD0HCF",
    "outputId": "b182f0a7-8747-4205-d449-3b3013e39675"
   },
   "outputs": [],
   "source": []
  },
  {
   "cell_type": "code",
   "execution_count": null,
   "metadata": {
    "id": "ZkTHzamVwyXj"
   },
   "outputs": [],
   "source": [
    "df=pd.read_csv('betting_lines/nfl-best-bets.csv')\n",
    "df = df[df['team']!='CLV']\n",
    "\n",
    "mnf=pd.read_csv('betting_lines/nfl-best-bets (1).csv')"
   ]
  },
  {
   "cell_type": "code",
   "execution_count": null,
   "metadata": {
    "id": "IYt8TdIG5qWU"
   },
   "outputs": [],
   "source": [
    "df = df.append(mnf)"
   ]
  },
  {
   "cell_type": "code",
   "execution_count": null,
   "metadata": {
    "id": "0eyj5yAYxvwH"
   },
   "outputs": [],
   "source": [
    "projections.reset_index(inplace=True)\n",
    "\n",
    "#projections.rename(columns={'index':'player'},inplace=True)"
   ]
  },
  {
   "cell_type": "code",
   "execution_count": null,
   "metadata": {
    "id": "_wzNS_dM1yyX"
   },
   "outputs": [],
   "source": [
    "names_to_change = ['M.Jones Jr','E.St','I.Smith Jr','A.St','T.Marshall Jr','A.Robinson II','M.Pittman Jr','K.Walker III','M.Gordon III']\n",
    "\n",
    "def name_changer(name):\n",
    "    if name in names_to_change:\n",
    "        if name == 'M.Jones Jr':\n",
    "            return 'M.Jones'\n",
    "        if name == 'E.St':\n",
    "            return 'E.St. Brown'\n",
    "        if name == 'I.Smith Jr':\n",
    "            return 'I.Smith'\n",
    "        if name == 'A.St':\n",
    "            return 'A.St. Brown'\n",
    "        if name == 'T.Marshall Jr':\n",
    "            return 'T.Marshall'\n",
    "        if name == 'A.Robinson II':\n",
    "            return 'Al.Robinson'\n",
    "        if name == 'M.Pittman Jr':\n",
    "            return 'M.Pittman'\n",
    "        if name == 'K.Walker III':\n",
    "            return 'K.Walker'\n",
    "        if name == 'M.Gordon III':\n",
    "            return 'M.Gordon'\n",
    "    if name not in names_to_change:\n",
    "        return name"
   ]
  },
  {
   "cell_type": "code",
   "execution_count": null,
   "metadata": {
    "id": "rvUV_zPlw_eD"
   },
   "outputs": [],
   "source": [
    "odds = df[['player','team','line']]\n",
    "\n",
    "def team_changer(name):\n",
    "    if name == 'HST':\n",
    "        return 'HOU'\n",
    "    elif name == 'CLV':\n",
    "        return 'CLE'\n",
    "    elif name == 'ARZ':\n",
    "        return 'ARI'\n",
    "    elif name == 'BLT':\n",
    "        return 'BAL'\n",
    "    else:\n",
    "        return name\n",
    "\n",
    "odds['team'] = odds['team'].apply(lambda x:team_changer(x))\n",
    "\n",
    "\n",
    "odds['player'] = odds['player'].apply(lambda x: x.split(\".\")[0])+\".\"+odds['player'].apply(lambda x: x.split(\".\")[1][1:])\n",
    "\n",
    "\n",
    "odds['player'] = odds['player'].apply(lambda x:name_changer(x))\n",
    "\n",
    "\n",
    "\n",
    "odds\n"
   ]
  },
  {
   "cell_type": "code",
   "execution_count": null,
   "metadata": {},
   "outputs": [],
   "source": [
    "odds"
   ]
  },
  {
   "cell_type": "code",
   "execution_count": null,
   "metadata": {},
   "outputs": [],
   "source": [
    "projections"
   ]
  },
  {
   "cell_type": "code",
   "execution_count": null,
   "metadata": {},
   "outputs": [],
   "source": [
    "projections"
   ]
  },
  {
   "cell_type": "code",
   "execution_count": null,
   "metadata": {},
   "outputs": [],
   "source": [
    "table = odds.merge(projections,on=['player','team'])\n",
    "\n",
    "table = table.round(2)\n",
    "\n",
    "table['diff'] = table['pYards'] - table['line']\n",
    "\n",
    "\n",
    "\n",
    "\n",
    "table['abs_diff'] = abs(table['diff'])"
   ]
  },
  {
   "cell_type": "code",
   "execution_count": null,
   "metadata": {
    "colab": {
     "base_uri": "https://localhost:8080/",
     "height": 1000
    },
    "id": "Kvxe2G4s2uE_",
    "outputId": "c1d058b6-d0eb-4252-f4e7-37637134ec5f"
   },
   "outputs": [],
   "source": [
    "table.sort_values('pYards',ascending=False).head(50)"
   ]
  },
  {
   "cell_type": "code",
   "execution_count": null,
   "metadata": {
    "colab": {
     "base_uri": "https://localhost:8080/"
    },
    "id": "EkERHBaqvpJh",
    "outputId": "258c6c8e-894d-4132-c996-f6b1c647ff73"
   },
   "outputs": [],
   "source": [
    "for YEAR in tqdm(range(2022,2023)):\n",
    "    data = pd.read_csv('https://github.com/nflverse/nflverse-data/releases/download/pbp/' \\\n",
    "                   'play_by_play_' + str(YEAR) + '.csv.gz',\n",
    "                   compression= 'gzip', low_memory= False)\n",
    "\n",
    "    data = data.loc[data.season_type=='REG']\n",
    "    data['season'] = YEAR\n",
    "    data = data.loc[(data.play_type.isin(['no_play','pass','run'])) & (data.epa.isna()==False)]\n",
    "\n",
    "    data = data[data['posteam_type'].isna()==False]\n",
    "\n",
    "    data.loc[data['pass']==1, 'play_type'] = 'pass'\n",
    "    data.loc[data.rush==1, 'play_type'] = 'run'\n",
    "\n",
    "    data.reset_index(drop=True, inplace=True)\n",
    "\n",
    "    data = data[data['two_point_attempt']==0]\n",
    "\n",
    "  "
   ]
  },
  {
   "cell_type": "code",
   "execution_count": null,
   "metadata": {
    "id": "tOQNpofvzw3s"
   },
   "outputs": [],
   "source": [
    "#table.shape[0]\n",
    "\n",
    "\n",
    "table = table.drop_duplicates()"
   ]
  },
  {
   "cell_type": "code",
   "execution_count": null,
   "metadata": {
    "colab": {
     "base_uri": "https://localhost:8080/"
    },
    "id": "SVDJhZ7f0qYP",
    "outputId": "8d0a928e-e7ea-41df-c2c7-72eae16567a6"
   },
   "outputs": [],
   "source": [
    "table['pYards'].corr(table['line'])\n"
   ]
  },
  {
   "cell_type": "code",
   "execution_count": null,
   "metadata": {
    "colab": {
     "base_uri": "https://localhost:8080/"
    },
    "id": "bKvFyJ0_wAE6",
    "outputId": "fdf9e3db-b191-4945-ee5a-ae9363dca22e"
   },
   "outputs": [],
   "source": [
    "for YEAR in tqdm(range(2022,2023)):\n",
    "    data = pd.read_csv('https://github.com/nflverse/nflverse-data/releases/download/pbp/' \\\n",
    "                   'play_by_play_' + str(YEAR) + '.csv.gz',\n",
    "                   compression= 'gzip', low_memory= False)\n",
    "\n",
    "    data = data.loc[data.season_type=='REG']\n",
    "    data['season'] = YEAR\n",
    "    data = data.loc[(data.play_type.isin(['no_play','pass','run'])) & (data.epa.isna()==False)]\n",
    "\n",
    "    data = data[data['posteam_type'].isna()==False]\n",
    "\n",
    "    data.loc[data['pass']==1, 'play_type'] = 'pass'\n",
    "    data.loc[data.rush==1, 'play_type'] = 'run'\n",
    "\n",
    "    data.reset_index(drop=True, inplace=True)\n",
    "\n",
    "    data = data[data['two_point_attempt']==0]\n",
    "    results = data[data['week']==8]\n",
    "\n"
   ]
  },
  {
   "cell_type": "code",
   "execution_count": null,
   "metadata": {
    "id": "Yc-izIebwPO7"
   },
   "outputs": [],
   "source": [
    "weekly_Rec = results.groupby('receiver_player_name').agg({'yards_gained':'sum','pass':'count','complete_pass':'sum'}).reset_index().rename(columns={'receiver_player_name':'player'})"
   ]
  },
  {
   "cell_type": "code",
   "execution_count": null,
   "metadata": {},
   "outputs": [],
   "source": [
    "weekly_Rec"
   ]
  },
  {
   "cell_type": "code",
   "execution_count": null,
   "metadata": {},
   "outputs": [],
   "source": [
    "table"
   ]
  },
  {
   "cell_type": "code",
   "execution_count": null,
   "metadata": {
    "id": "waVFlpZPwVSY"
   },
   "outputs": [],
   "source": [
    "#table.drop(columns={'yards_gained'},inplace=True)"
   ]
  },
  {
   "cell_type": "code",
   "execution_count": null,
   "metadata": {
    "id": "czjHTIXGwb4Q"
   },
   "outputs": [],
   "source": [
    "smash_table = table[table['abs_diff']>=10]\n",
    "\n",
    "results = table.merge(weekly_Rec,on='player')\n"
   ]
  },
  {
   "cell_type": "code",
   "execution_count": null,
   "metadata": {
    "id": "5SK34KgGvP-d"
   },
   "outputs": [],
   "source": [
    "results=results.dropna()\n",
    "\n"
   ]
  },
  {
   "cell_type": "code",
   "execution_count": null,
   "metadata": {
    "id": "0brj3ouixtsp"
   },
   "outputs": [],
   "source": [
    "results['Over_Picked'] =results['pYards']>results['line']"
   ]
  },
  {
   "cell_type": "code",
   "execution_count": null,
   "metadata": {
    "id": "lwth2pTBwQsT"
   },
   "outputs": [],
   "source": [
    "results['Over_Result'] = results['yards_gained'] > results['line']\n",
    "\n",
    "results['Correct'] = results['Over_Picked'] == results['Over_Result']"
   ]
  },
  {
   "cell_type": "code",
   "execution_count": null,
   "metadata": {
    "id": "Y8dz_DLb0HCL"
   },
   "outputs": [],
   "source": [
    "w8_results = results[['player','team','line','pYards','yards_gained','Over_Picked','Over_Result','Correct']]\n",
    "\n",
    "w8_results['week'] = 8\n",
    "\n",
    "w8_results = w8_results[['player','team','line','pYards','yards_gained','Over_Picked','Over_Result','Correct']]\n"
   ]
  },
  {
   "cell_type": "code",
   "execution_count": null,
   "metadata": {
    "colab": {
     "base_uri": "https://localhost:8080/"
    },
    "id": "ZqaWRg0Nxg5c",
    "outputId": "9323937e-780f-4361-af2d-a1f1fd16c261"
   },
   "outputs": [],
   "source": [
    "results['yards_gained'].corr(results['pYards'])"
   ]
  },
  {
   "cell_type": "code",
   "execution_count": null,
   "metadata": {
    "id": "oDOjwE552Sp_"
   },
   "outputs": [],
   "source": [
    "#0.5860590594191387"
   ]
  },
  {
   "cell_type": "code",
   "execution_count": null,
   "metadata": {
    "colab": {
     "base_uri": "https://localhost:8080/"
    },
    "id": "pe2REaPTxzJj",
    "outputId": "7f48996b-b69c-4733-92bd-424dfa1c552e"
   },
   "outputs": [],
   "source": [
    "import math\n",
    "MSE = np.square(np.subtract(results['yards_gained'],results['pYards'])).mean() \n",
    " \n",
    "RMSE = math.sqrt(MSE)\n",
    "print(\"Root Mean Square Error (players w/ listed odds):\\n\")\n",
    "print(RMSE)\n",
    "\n",
    "print('-------------')\n",
    "\n",
    "weekly_all  = weekly_Rec.merge(projections)[['player','pYards','yards_gained']]\n",
    "\n",
    "MSE = np.square(np.subtract(weekly_all['yards_gained'],weekly_all['pYards'])).mean() \n",
    " \n",
    "RMSE = math.sqrt(MSE)\n",
    "print(\"Root Mean Square Error (all players):\\n\")\n",
    "print(RMSE)"
   ]
  },
  {
   "cell_type": "code",
   "execution_count": null,
   "metadata": {
    "id": "EtdOiJC-2MIl"
   },
   "outputs": [],
   "source": [
    "#30.880608939504032\n",
    "#-------------\n",
    "\n",
    "#30.24493362852292"
   ]
  },
  {
   "cell_type": "code",
   "execution_count": null,
   "metadata": {
    "colab": {
     "base_uri": "https://localhost:8080/"
    },
    "id": "YrrWn_zryux9",
    "outputId": "c3967cc5-a922-427f-8eb0-1acdcfc1db95"
   },
   "outputs": [],
   "source": [
    "#overall\n",
    "results['Correct'].value_counts()"
   ]
  },
  {
   "cell_type": "code",
   "execution_count": null,
   "metadata": {
    "colab": {
     "base_uri": "https://localhost:8080/"
    },
    "id": "ymZMU25qyyJZ",
    "outputId": "47ab8229-97a8-4c09-c342-0ecd0d78425c"
   },
   "outputs": [],
   "source": [
    "smash_results = results[results['abs_diff']>=10]\n",
    "\n",
    "smash_results['Correct'].value_counts()"
   ]
  },
  {
   "cell_type": "code",
   "execution_count": null,
   "metadata": {
    "colab": {
     "base_uri": "https://localhost:8080/",
     "height": 457
    },
    "id": "Xf-dWpT4zS9F",
    "outputId": "0cae665a-a78e-434d-a839-c6f29d033288"
   },
   "outputs": [],
   "source": [
    "smash_results[['player','line','xYards/game','pYards','abs_diff','yards_gained','Over_Picked','Over_Result','Correct']].sort_values('abs_diff',ascending=False)"
   ]
  },
  {
   "cell_type": "code",
   "execution_count": null,
   "metadata": {
    "colab": {
     "base_uri": "https://localhost:8080/"
    },
    "id": "om5ekj-h0ll5",
    "outputId": "e45ea30b-72a1-4c32-f796-d1da38d2dd43"
   },
   "outputs": [],
   "source": [
    "picked_overs = results[results['Over_Picked']==True]\n",
    "\n",
    "picked_overs['Correct'].value_counts()"
   ]
  },
  {
   "cell_type": "code",
   "execution_count": null,
   "metadata": {
    "colab": {
     "base_uri": "https://localhost:8080/"
    },
    "id": "85VZf-zP0yZC",
    "outputId": "eec1e440-83b3-4a00-9046-3072ad06588e"
   },
   "outputs": [],
   "source": [
    "picked_unders = results[results['Over_Picked']==False]\n",
    "\n",
    "picked_unders['Correct'].value_counts()"
   ]
  },
  {
   "cell_type": "code",
   "execution_count": null,
   "metadata": {
    "colab": {
     "base_uri": "https://localhost:8080/"
    },
    "id": "gigDp5jZ1JCh",
    "outputId": "27d3d442-2581-4b70-8819-894337510151"
   },
   "outputs": [],
   "source": [
    "results['Over_Result'].value_counts()"
   ]
  },
  {
   "cell_type": "code",
   "execution_count": null,
   "metadata": {
    "colab": {
     "base_uri": "https://localhost:8080/"
    },
    "id": "eSK5bWDtKufJ",
    "outputId": "12815ae8-3683-44f2-8058-ef4e80c636d6"
   },
   "outputs": [],
   "source": [
    "smash_overs = smash_results[smash_results['Over_Picked']==True]\n",
    "\n",
    "\n",
    "smash_overs['Correct'].value_counts()"
   ]
  },
  {
   "cell_type": "code",
   "execution_count": null,
   "metadata": {
    "colab": {
     "base_uri": "https://localhost:8080/"
    },
    "id": "uBfxxlw8LELR",
    "outputId": "19281391-7d27-4dc2-80fc-48476b6890a2"
   },
   "outputs": [],
   "source": [
    "smash_unders = smash_results[smash_results['Over_Picked']==False]\n",
    "\n",
    "\n",
    "smash_unders['Correct'].value_counts()"
   ]
  },
  {
   "cell_type": "code",
   "execution_count": null,
   "metadata": {
    "colab": {
     "base_uri": "https://localhost:8080/",
     "height": 317
    },
    "id": "WvAhpz4q2BsV",
    "outputId": "bc350a6f-a4dc-475b-8e06-a47990bffb54"
   },
   "outputs": [],
   "source": [
    "table[table['team']=='CLE']"
   ]
  },
  {
   "cell_type": "markdown",
   "metadata": {
    "id": "sRblGSGt1rf3"
   },
   "source": [
    "### Week 9"
   ]
  },
  {
   "cell_type": "code",
   "execution_count": null,
   "metadata": {
    "colab": {
     "background_save": true
    },
    "id": "RxBWCIBu1y7S"
   },
   "outputs": [],
   "source": [
    "week=9\n",
    "\n",
    "weekly_player_list = []\n",
    "weekly_yard_list = []\n",
    "\n",
    "for player in new_df['full_name'].unique():\n",
    "    df_df = new_df[new_df['full_name']==player]\n",
    "    yds = df_df.copy()\n",
    "    name = list(df_df['receiver_player_name'])[0]\n",
    "    team = list(df_df['posteam'])[0]\n",
    "\n",
    "    df_df = df_df[df_df['week']<week].tail(6)[['xYards']]\n",
    "    df_df.rename(columns={'xYards':name},inplace=True)\n",
    "    df_df = df_df.transpose()\n",
    "    if len(list(df_df.columns))==6:\n",
    "        df_df.columns = [1,2,3,4,5,6]\n",
    "        df_df['team']=team\n",
    "        weekly_player_list.append(df_df)\n",
    "    \n",
    "    yd_df = yds[yds['week']<week].tail(6)[['yards_gained']] \n",
    "    yd_df.rename(columns={'yards_gained':name},inplace=True)\n",
    "    yd_df = yd_df.transpose()\n",
    "    if len(list(yd_df.columns))==6:\n",
    "        \n",
    "        yd_df.columns = ['1a','2a','3a','4a','5a','6a']\n",
    "        yd_df['team']=team\n",
    "\n",
    "        weekly_yard_list.append(yd_df)\n",
    "\n",
    "\n",
    "\n",
    "trailing_weeks = pd.concat(weekly_player_list)\n",
    "\n",
    "yardage_trailing = pd.concat(weekly_yard_list)\n",
    "\n",
    "\n",
    "trailing_weeks =  trailing_weeks.reset_index().rename(columns={'index':'player'})\n",
    "\n",
    "yardage_trailing = yardage_trailing.reset_index().rename(columns={'index':'player'})\n",
    "\n",
    "trailing_weeks['xYards/game']=(trailing_weeks[1]+trailing_weeks[2]+trailing_weeks[3]+trailing_weeks[4]+trailing_weeks[5]+trailing_weeks[6])/6\n",
    "\n",
    "trailing_weeks = trailing_weeks.merge(yardage_trailing, on=['player','team'])\n",
    "\n",
    "\n",
    "trailing_weeks['yards/game']=(trailing_weeks['1a']+trailing_weeks['2a']+trailing_weeks['3a']+trailing_weeks['4a']+trailing_weeks['5a']+trailing_weeks['6a'])/6\n",
    "\n",
    "\n",
    "trailing_weeks['pYards'] = in_season_model.predict(trailing_weeks[[1,2,3,4,5,6,'1a','2a','3a','4a','5a','6a','xYards/game','yards/game']])\n",
    "#trailing_weeks['pYards'] = in_season_model.predict(trailing_weeks[[1,2,3,4,5,6]])\n",
    "\n",
    "trailing_weeks"
   ]
  },
  {
   "cell_type": "code",
   "execution_count": null,
   "metadata": {
    "colab": {
     "background_save": true,
     "base_uri": "https://localhost:8080/"
    },
    "id": "vnDIeb7_0HCR",
    "outputId": "f87f7bbc-7406-41de-b93c-d39242542749"
   },
   "outputs": [],
   "source": [
    "trailing_weeks.drop_duplicates().shape[0]"
   ]
  },
  {
   "cell_type": "code",
   "execution_count": null,
   "metadata": {},
   "outputs": [],
   "source": [
    "trailing_weeks"
   ]
  },
  {
   "cell_type": "code",
   "execution_count": null,
   "metadata": {
    "colab": {
     "background_save": true
    },
    "id": "_gn-MRF0VPGh"
   },
   "outputs": [],
   "source": [
    "w9_table = trailing_weeks.copy()\n"
   ]
  },
  {
   "cell_type": "code",
   "execution_count": null,
   "metadata": {
    "colab": {
     "background_save": true
    },
    "id": "Haep-fEM0HCS"
   },
   "outputs": [],
   "source": [
    "#w9_table = w9_table.reset_index().rename(columns={'index':'player'})"
   ]
  },
  {
   "cell_type": "code",
   "execution_count": null,
   "metadata": {
    "colab": {
     "background_save": true
    },
    "id": "WXf15t3a0HCS"
   },
   "outputs": [],
   "source": [
    "w9_table.set_index(['player','team'],inplace=True)"
   ]
  },
  {
   "cell_type": "code",
   "execution_count": null,
   "metadata": {
    "colab": {
     "background_save": true
    },
    "id": "5EF02nMx0HCU"
   },
   "outputs": [],
   "source": [
    "w9_odds = pd.read_csv('betting_lines/nfl-best-bets (3).csv').round(1)[['player','team','line']]\n",
    "w9_odds = w9_odds[w9_odds['team']!='BLT']\n",
    "w9_odds = w9_odds[w9_odds['team']!='NO']\n",
    "\n",
    "\n",
    "w9_odds = w9_odds.append(pd.read_csv('betting_lines/nfl-best-bets (4).csv').round(1)[['player','team','line']])\n",
    "\n",
    "\n",
    "\n",
    "odds = w9_odds.copy()\n",
    "\n",
    "odds['team'] = odds['team'].apply(lambda x:team_changer(x))\n",
    "\n",
    "\n",
    "odds['player'] = odds['player'].apply(lambda x: x.split(\".\")[0])+\".\"+odds['player'].apply(lambda x: x.split(\".\")[1][1:])\n",
    "\n",
    "\n",
    "odds['player'] = odds['player'].apply(lambda x:name_changer(x))\n"
   ]
  },
  {
   "cell_type": "code",
   "execution_count": null,
   "metadata": {
    "colab": {
     "background_save": true
    },
    "id": "KmFXliSE0HCU"
   },
   "outputs": [],
   "source": [
    "odds.set_index(['player','team'],inplace=True)"
   ]
  },
  {
   "cell_type": "code",
   "execution_count": null,
   "metadata": {
    "colab": {
     "background_save": true
    },
    "id": "iNDY0S1b0HCU"
   },
   "outputs": [],
   "source": [
    "\n",
    "w9_table = w9_table.merge(odds,right_index=True,left_index=True)\n",
    "w9_table = w9_table.reset_index()\n",
    "\n",
    "w9_table['abs. diff'] = abs(w9_table['pYards'] - w9_table['line'])\n",
    "\n",
    "w9_table = w9_table.round(1)\n",
    "\n",
    "w9_table['Over_Picked'] =w9_table['pYards']>w9_table ['line']\n",
    "\n",
    "#w9_table.sort_values('abs. diff',ascending=False).head(50)\n"
   ]
  },
  {
   "cell_type": "code",
   "execution_count": null,
   "metadata": {
    "colab": {
     "background_save": true,
     "base_uri": "https://localhost:8080/",
     "height": 175
    },
    "id": "9CT7VypB0HCU",
    "outputId": "907a0f32-bd03-4589-b47a-9c56a7e45de4"
   },
   "outputs": [],
   "source": [
    "w9_table[w9_table['team']=='BAL']"
   ]
  },
  {
   "cell_type": "code",
   "execution_count": null,
   "metadata": {
    "colab": {
     "background_save": true,
     "base_uri": "https://localhost:8080/"
    },
    "id": "ItnsjDR30HCV",
    "outputId": "e506ca08-b20c-4663-bcff-7e6ba8e47cdc"
   },
   "outputs": [],
   "source": [
    "for YEAR in tqdm(range(2022,2023)):\n",
    "    data = pd.read_csv('https://github.com/nflverse/nflverse-data/releases/download/pbp/' \\\n",
    "                   'play_by_play_' + str(YEAR) + '.csv.gz',\n",
    "                   compression= 'gzip', low_memory= False)\n",
    "\n",
    "    data = data.loc[data.season_type=='REG']\n",
    "    data['season'] = YEAR\n",
    "    data = data.loc[(data.play_type.isin(['no_play','pass','run'])) & (data.epa.isna()==False)]\n",
    "\n",
    "    data = data[data['posteam_type'].isna()==False]\n",
    "\n",
    "    data.loc[data['pass']==1, 'play_type'] = 'pass'\n",
    "    data.loc[data.rush==1, 'play_type'] = 'run'\n",
    "\n",
    "    data.reset_index(drop=True, inplace=True)\n",
    "\n",
    "    data = data[data['two_point_attempt']==0]\n",
    "    results = data[data['week']==9]\n"
   ]
  },
  {
   "cell_type": "code",
   "execution_count": null,
   "metadata": {
    "colab": {
     "background_save": true
    },
    "id": "6bqVXP5r0HCV"
   },
   "outputs": [],
   "source": [
    "results = results.groupby(['receiver_player_name','posteam']).agg({'yards_gained':'sum'}).reset_index().rename(columns={'receiver_player_name':'player','posteam':'team'})[['player','team','yards_gained']]\n",
    "\n",
    "w9_table = w9_table.merge(results)\n",
    "\n",
    "w9_table['Over_Result'] = w9_table['yards_gained']>w9_table['line']\n",
    "\n",
    "w9_table['Win'] = (w9_table['Over_Result'] == w9_table['Over_Picked'])*1\n",
    "\n"
   ]
  },
  {
   "cell_type": "code",
   "execution_count": null,
   "metadata": {
    "colab": {
     "background_save": true,
     "base_uri": "https://localhost:8080/"
    },
    "id": "00zbcpLO0HCV",
    "outputId": "2de7099b-c1f3-4a0c-bc34-bbb59ce0edf2"
   },
   "outputs": [],
   "source": [
    "\n",
    "import math\n",
    "MSE = np.square(np.subtract(w9_table['pYards'],w9_table['yards_gained'])).mean() \n",
    " \n",
    "RMSE = math.sqrt(MSE)\n",
    "print(\"Root Mean Square Error - Projections:\\n\")\n",
    "print(RMSE)\n",
    "\n",
    "import math\n",
    "MSE = np.square(np.subtract(w9_table['yards_gained'],w9_table['line'])).mean() \n",
    " \n",
    "print('-----')\n",
    "RMSE = math.sqrt(MSE)\n",
    "print(\"Root Mean Square Error - Betting Line:\\n\")\n",
    "print(RMSE)"
   ]
  },
  {
   "cell_type": "code",
   "execution_count": null,
   "metadata": {
    "colab": {
     "background_save": true
    },
    "id": "rb_wVYBJ0HCW"
   },
   "outputs": [],
   "source": [
    "w9_table['week'] = 9"
   ]
  },
  {
   "cell_type": "code",
   "execution_count": null,
   "metadata": {
    "colab": {
     "background_save": true
    },
    "id": "05evBXjq0HCX"
   },
   "outputs": [],
   "source": [
    "w8_results['Correct'] = w8_results['Correct']*1\n",
    "w8_results.rename(columns={'Correct':'Win'},inplace=True)"
   ]
  },
  {
   "cell_type": "code",
   "execution_count": null,
   "metadata": {
    "colab": {
     "background_save": true,
     "base_uri": "https://localhost:8080/",
     "height": 143
    },
    "id": "A0mxb3sO0HCX",
    "outputId": "e9d06f09-274b-404a-9c28-9c2b6cda61c5"
   },
   "outputs": [],
   "source": [
    "w8_results[w8_results['team']=='DET']"
   ]
  },
  {
   "cell_type": "code",
   "execution_count": null,
   "metadata": {
    "colab": {
     "background_save": true
    },
    "id": "DZf1R_aU0HCY"
   },
   "outputs": [],
   "source": [
    "w8_results['week']=8"
   ]
  },
  {
   "cell_type": "markdown",
   "metadata": {
    "id": "gn0TFKFj0HCY"
   },
   "source": [
    "### Week 10"
   ]
  },
  {
   "cell_type": "code",
   "execution_count": null,
   "metadata": {
    "colab": {
     "background_save": true
    },
    "id": "qvrpg_KJ0HCZ"
   },
   "outputs": [],
   "source": [
    "week=10\n",
    "\n",
    "weekly_player_list = []\n",
    "weekly_yard_list = []\n",
    "\n",
    "for player in new_df['full_name'].unique():\n",
    "    df_df = new_df[new_df['full_name']==player]\n",
    "    yds = df_df.copy()\n",
    "    name = list(df_df['receiver_player_name'])[0]\n",
    "    team = list(df_df['posteam'])[0]\n",
    "\n",
    "    df_df = df_df[df_df['week']<week].tail(6)[['xYards']]\n",
    "    df_df.rename(columns={'xYards':name},inplace=True)\n",
    "    df_df = df_df.transpose()\n",
    "    if len(list(df_df.columns))==6:\n",
    "        df_df.columns = [1,2,3,4,5,6]\n",
    "        df_df['team']=team\n",
    "        weekly_player_list.append(df_df)\n",
    "    \n",
    "    yd_df = yds[yds['week']<week].tail(6)[['yards_gained']] \n",
    "    yd_df.rename(columns={'yards_gained':name},inplace=True)\n",
    "    yd_df = yd_df.transpose()\n",
    "    if len(list(yd_df.columns))==6:\n",
    "        \n",
    "        yd_df.columns = ['1a','2a','3a','4a','5a','6a']\n",
    "        yd_df['team']=team\n",
    "\n",
    "        weekly_yard_list.append(yd_df)\n",
    "\n",
    "\n",
    "\n",
    "trailing_weeks = pd.concat(weekly_player_list)\n",
    "\n",
    "yardage_trailing = pd.concat(weekly_yard_list)\n",
    "\n",
    "\n",
    "trailing_weeks =  trailing_weeks.reset_index().rename(columns={'index':'player'})\n",
    "\n",
    "yardage_trailing = yardage_trailing.reset_index().rename(columns={'index':'player'})\n",
    "\n",
    "trailing_weeks['xYards/game']=(trailing_weeks[1]+trailing_weeks[2]+trailing_weeks[3]+trailing_weeks[4]+trailing_weeks[5]+trailing_weeks[6])/6\n",
    "\n",
    "trailing_weeks = trailing_weeks.merge(yardage_trailing, on=['player','team'])\n",
    "\n",
    "\n",
    "trailing_weeks['yards/game']=(trailing_weeks['1a']+trailing_weeks['2a']+trailing_weeks['3a']+trailing_weeks['4a']+trailing_weeks['5a']+trailing_weeks['6a'])/6\n",
    "\n",
    "\n",
    "\n",
    "trailing_weeks['yards/game']=(trailing_weeks['1a']+trailing_weeks['2a']+trailing_weeks['3a']+trailing_weeks['4a']+trailing_weeks['5a']+trailing_weeks['6a'])/6\n",
    "\n",
    "\n",
    "trailing_weeks['pYards'] = in_season_model.predict(trailing_weeks[[1,2,3,4,5,6,'1a','2a','3a','4a','5a','6a','xYards/game','yards/game']])\n",
    "#trailing_weeks['pYards'] = in_season_model.predict(trailing_weeks[[1,2,3,4,5,6]])\n",
    "\n",
    "trailing_weeks"
   ]
  },
  {
   "cell_type": "code",
   "execution_count": null,
   "metadata": {
    "colab": {
     "background_save": true
    },
    "id": "wl8P6ECt9TvT"
   },
   "outputs": [],
   "source": [
    "w10_table = trailing_weeks.copy()\n",
    "\n",
    "\n",
    "#w10_table = w10_table.reset_index().rename(columns={'index':'player'})"
   ]
  },
  {
   "cell_type": "code",
   "execution_count": null,
   "metadata": {
    "colab": {
     "background_save": true
    },
    "id": "X0oKMzw49k39"
   },
   "outputs": [],
   "source": [
    "w10_table.set_index(['player','team'],inplace=True)"
   ]
  },
  {
   "cell_type": "code",
   "execution_count": null,
   "metadata": {
    "colab": {
     "background_save": true,
     "base_uri": "https://localhost:8080/",
     "height": 833
    },
    "id": "9ouwoDf59_Yn",
    "outputId": "2dba3b6f-900b-4146-f37f-4e2fa2241e16"
   },
   "outputs": [],
   "source": [
    "w10_odds = pd.read_csv('betting_lines/nfl-best-bets (5).csv').round(1)[['player','team','line']]\n",
    "\n",
    "\n",
    "\n",
    "\n",
    "\n",
    "\n",
    "odds = w10_odds.copy()\n",
    "\n",
    "odds['team'] = odds['team'].apply(lambda x:team_changer(x))\n",
    "\n",
    "\n",
    "odds['player'] = odds['player'].apply(lambda x: x.split(\".\")[0])+\".\"+odds['player'].apply(lambda x: x.split(\".\")[1][1:])\n",
    "\n",
    "\n",
    "odds['player'] = odds['player'].apply(lambda x:name_changer(x))\n",
    "\n",
    "\n",
    "odds.set_index(['player','team'],inplace=True)\n",
    "\n",
    "w10_table = w10_table.merge(odds,right_index=True,left_index=True)\n",
    "w10_table = w10_table.reset_index()\n",
    "\n",
    "w10_table['abs. diff'] = abs(w10_table['pYards'] - w10_table['line'])\n",
    "\n",
    "w10_table = w10_table.round(1)\n",
    "\n",
    "w10_table['Over_Picked'] =w10_table['pYards']>w10_table ['line']\n",
    "\n",
    "w10_table.sort_values('abs. diff',ascending=True).tail(25)"
   ]
  },
  {
   "cell_type": "code",
   "execution_count": null,
   "metadata": {
    "colab": {
     "base_uri": "https://localhost:8080/"
    },
    "id": "JwVozQ6x4otp",
    "outputId": "bff46e72-41d3-4813-ddd8-aed477abbd38"
   },
   "outputs": [],
   "source": [
    "for YEAR in tqdm(range(2022,2023)):\n",
    "    data = pd.read_csv('https://github.com/nflverse/nflverse-data/releases/download/pbp/' \\\n",
    "                   'play_by_play_' + str(YEAR) + '.csv.gz',\n",
    "                   compression= 'gzip', low_memory= False)\n",
    "\n",
    "    data = data.loc[data.season_type=='REG']\n",
    "    data['season'] = YEAR\n",
    "    data = data.loc[(data.play_type.isin(['no_play','pass','run'])) & (data.epa.isna()==False)]\n",
    "\n",
    "    data = data[data['posteam_type'].isna()==False]\n",
    "\n",
    "    data.loc[data['pass']==1, 'play_type'] = 'pass'\n",
    "    data.loc[data.rush==1, 'play_type'] = 'run'\n",
    "\n",
    "    data.reset_index(drop=True, inplace=True)\n",
    "\n",
    "    data = data[data['two_point_attempt']==0]\n",
    "    results = data[data['week']==10]\n"
   ]
  },
  {
   "cell_type": "code",
   "execution_count": null,
   "metadata": {},
   "outputs": [],
   "source": [
    "results"
   ]
  },
  {
   "cell_type": "code",
   "execution_count": null,
   "metadata": {
    "id": "q_l30sIF4o0I"
   },
   "outputs": [],
   "source": [
    "results = results.groupby(['receiver_player_name','posteam']).agg({'yards_gained':'sum'}).reset_index().rename(columns={'receiver_player_name':'player','posteam':'team'})[['player','team','yards_gained']]\n",
    "\n",
    "w10_table = w10_table.merge(results)\n",
    "\n",
    "w10_table['Over_Result'] = w10_table['yards_gained']>w10_table['line']\n",
    "\n",
    "w10_table['Win'] = (w10_table['Over_Result'] == w10_table['Over_Picked'])*1\n",
    "\n",
    "\n",
    "w10_table['week'] = 10\n"
   ]
  },
  {
   "cell_type": "code",
   "execution_count": null,
   "metadata": {
    "colab": {
     "base_uri": "https://localhost:8080/"
    },
    "id": "my7NBqGv47H7",
    "outputId": "013b9179-f8e9-4d0a-8e5b-76d40c39edbb"
   },
   "outputs": [],
   "source": [
    "\n",
    "import math\n",
    "MSE = np.square(np.subtract(w10_table['pYards'],w10_table['yards_gained'])).mean() \n",
    " \n",
    "RMSE = math.sqrt(MSE)\n",
    "print(\"Root Mean Square Error - Projections:\\n\")\n",
    "print(RMSE)\n",
    "\n",
    "import math\n",
    "MSE = np.square(np.subtract(w10_table['yards_gained'],w10_table['line'])).mean() \n",
    " \n",
    "print('-----')\n",
    "RMSE = math.sqrt(MSE)\n",
    "print(\"Root Mean Square Error - Betting Line:\\n\")\n",
    "print(RMSE)"
   ]
  },
  {
   "cell_type": "code",
   "execution_count": null,
   "metadata": {
    "colab": {
     "base_uri": "https://localhost:8080/",
     "height": 175
    },
    "id": "GNckyuUa64-S",
    "outputId": "b98b0d56-4de6-4175-e9f6-2272b01f52b0"
   },
   "outputs": [],
   "source": [
    "w10_table[w10_table['team']=='IND']"
   ]
  },
  {
   "cell_type": "markdown",
   "metadata": {
    "id": "jzhrBS7FosFv"
   },
   "source": [
    "### Week 11"
   ]
  },
  {
   "cell_type": "code",
   "execution_count": null,
   "metadata": {
    "id": "yZE9hLCHovZM"
   },
   "outputs": [],
   "source": [
    "week=11\n",
    "\n",
    "weekly_player_list = []\n",
    "weekly_yard_list = []\n",
    "\n",
    "for player in new_df['full_name'].unique():\n",
    "    df_df = new_df[new_df['full_name']==player]\n",
    "    yds = df_df.copy()\n",
    "    name = list(df_df['receiver_player_name'])[0]\n",
    "    team = list(df_df['posteam'])[0]\n",
    "\n",
    "    df_df = df_df[df_df['week']<week].tail(6)[['xYards']]\n",
    "    df_df.rename(columns={'xYards':name},inplace=True)\n",
    "    df_df = df_df.transpose()\n",
    "    if len(list(df_df.columns))==6:\n",
    "        df_df.columns = [1,2,3,4,5,6]\n",
    "        df_df['team']=team\n",
    "        weekly_player_list.append(df_df)\n",
    "    \n",
    "    yd_df = yds[yds['week']<week].tail(6)[['yards_gained']] \n",
    "    yd_df.rename(columns={'yards_gained':name},inplace=True)\n",
    "    yd_df = yd_df.transpose()\n",
    "    if len(list(yd_df.columns))==6:\n",
    "        \n",
    "        yd_df.columns = ['1a','2a','3a','4a','5a','6a']\n",
    "        yd_df['team']=team\n",
    "\n",
    "        weekly_yard_list.append(yd_df)\n",
    "\n",
    "\n",
    "\n",
    "trailing_weeks = pd.concat(weekly_player_list)\n",
    "\n",
    "yardage_trailing = pd.concat(weekly_yard_list)\n",
    "\n",
    "\n",
    "trailing_weeks =  trailing_weeks.reset_index().rename(columns={'index':'player'})\n",
    "\n",
    "yardage_trailing = yardage_trailing.reset_index().rename(columns={'index':'player'})\n",
    "\n",
    "trailing_weeks['xYards/game']=(trailing_weeks[1]+trailing_weeks[2]+trailing_weeks[3]+trailing_weeks[4]+trailing_weeks[5]+trailing_weeks[6])/6\n",
    "\n",
    "trailing_weeks = trailing_weeks.merge(yardage_trailing, on=['player','team'])\n",
    "\n",
    "\n",
    "trailing_weeks['yards/game']=(trailing_weeks['1a']+trailing_weeks['2a']+trailing_weeks['3a']+trailing_weeks['4a']+trailing_weeks['5a']+trailing_weeks['6a'])/6\n",
    "\n",
    "\n",
    "\n",
    "trailing_weeks['yards/game']=(trailing_weeks['1a']+trailing_weeks['2a']+trailing_weeks['3a']+trailing_weeks['4a']+trailing_weeks['5a']+trailing_weeks['6a'])/6\n",
    "\n",
    "\n",
    "trailing_weeks['pYards'] = in_season_model.predict(trailing_weeks[[1,2,3,4,5,6,'1a','2a','3a','4a','5a','6a','xYards/game','yards/game']])\n",
    "#trailing_weeks['pYards'] = in_season_model.predict(trailing_weeks[[1,2,3,4,5,6]])\n",
    "\n",
    "trailing_weeks"
   ]
  },
  {
   "cell_type": "code",
   "execution_count": null,
   "metadata": {
    "id": "N6vjmkgwowUW"
   },
   "outputs": [],
   "source": [
    "w11_table = trailing_weeks.copy()\n",
    "\n",
    "#w11_table = w11_table.reset_index().rename(columns={'index':'player'})\n",
    "\n",
    "w11_table.set_index(['player','team'],inplace=True)\n",
    "\n",
    "w11_odds = pd.read_csv('betting_lines/nfl-best-bets (8).csv').round(1)[['player','team','line']]\n",
    "\n",
    "\n",
    "\n",
    "\n",
    "\n",
    "\n",
    "odds = w11_odds.copy()\n",
    "\n",
    "odds['team'] = odds['team'].apply(lambda x:team_changer(x))\n",
    "\n",
    "\n",
    "odds['player'] = odds['player'].apply(lambda x: x.split(\".\")[0])+\".\"+odds['player'].apply(lambda x: x.split(\".\")[1][1:])\n",
    "\n",
    "\n",
    "odds['player'] = odds['player'].apply(lambda x:name_changer(x))\n",
    "\n",
    "\n",
    "odds.set_index(['player','team'],inplace=True)\n",
    "\n",
    "w11_table = w11_table.merge(odds,right_index=True,left_index=True)\n",
    "w11_table = w11_table.reset_index()\n",
    "\n",
    "w11_table['abs. diff'] = abs(w11_table['pYards'] - w11_table['line'])\n",
    "\n",
    "w11_table = w11_table.round(1)\n",
    "\n",
    "w11_table['Over_Picked'] =w11_table['pYards']>w11_table ['line']\n",
    "\n",
    "\n",
    "def o_u(over):\n",
    "  if over == True:\n",
    "    return 'Over'\n",
    "  elif over == False:\n",
    "    return 'Under'\n",
    "\n"
   ]
  },
  {
   "cell_type": "code",
   "execution_count": null,
   "metadata": {
    "id": "pBmY-SwBbTFu"
   },
   "outputs": [],
   "source": [
    "tnf = w11_table[(w11_table['team']=='GB')|(w11_table['team']=='TEN')]\n"
   ]
  },
  {
   "cell_type": "code",
   "execution_count": null,
   "metadata": {},
   "outputs": [],
   "source": [
    "tnf"
   ]
  },
  {
   "cell_type": "code",
   "execution_count": null,
   "metadata": {
    "id": "t_NQaXIwb1eZ"
   },
   "outputs": [],
   "source": [
    "w11_table = trailing_weeks.copy()\n",
    "\n",
    "#w11_table = w11_table.reset_index().rename(columns={'index':'player'})\n",
    "\n",
    "w11_table.set_index(['player','team'],inplace=True)\n",
    "\n",
    "w11_odds = pd.read_csv('betting_lines/nfl-best-bets (9).csv').round(1)[['player','team','line']]\n",
    "\n",
    "\n",
    "\n",
    "\n",
    "\n",
    "\n",
    "odds = w11_odds.copy()\n",
    "\n",
    "odds['team'] = odds['team'].apply(lambda x:team_changer(x))\n",
    "\n",
    "\n",
    "odds['player'] = odds['player'].apply(lambda x: x.split(\".\")[0])+\".\"+odds['player'].apply(lambda x: x.split(\".\")[1][1:])\n",
    "\n",
    "\n",
    "odds['player'] = odds['player'].apply(lambda x:name_changer(x))\n",
    "\n",
    "\n",
    "odds.set_index(['player','team'],inplace=True)\n",
    "\n",
    "w11_table = w11_table.merge(odds,right_index=True,left_index=True)\n",
    "w11_table = w11_table.reset_index()\n",
    "\n",
    "w11_table['abs. diff'] = abs(w11_table['pYards'] - w11_table['line'])\n",
    "\n",
    "w11_table = w11_table.round(1)\n",
    "\n",
    "w11_table['Over_Picked'] =w11_table['pYards']>w11_table ['line']\n",
    "\n",
    "\n",
    "w11_table = w11_table.append(tnf)\n",
    "\n"
   ]
  },
  {
   "cell_type": "code",
   "execution_count": null,
   "metadata": {
    "id": "0VFvj3kV5-47"
   },
   "outputs": [],
   "source": [
    "snf = trailing_weeks.copy()\n",
    "\n",
    "\n",
    "#snf = snf.reset_index().rename(columns={'index':'player'})\n",
    "\n",
    "snf.set_index(['player','team'],inplace=True)\n",
    "\n",
    "snf_odds = pd.read_csv('betting_lines/nfl-best-bets (10).csv').round(1)[['player','team','line']]\n",
    "\n",
    "\n",
    "\n",
    "\n",
    "\n",
    "\n",
    "odds = snf_odds.copy()\n",
    "\n",
    "odds['team'] = odds['team'].apply(lambda x:team_changer(x))\n",
    "\n",
    "\n",
    "odds['player'] = odds['player'].apply(lambda x: x.split(\".\")[0])+\".\"+odds['player'].apply(lambda x: x.split(\".\")[1][1:])\n",
    "\n",
    "\n",
    "odds['player'] = odds['player'].apply(lambda x:name_changer(x))\n",
    "\n",
    "\n",
    "odds.set_index(['player','team'],inplace=True)\n",
    "\n",
    "snf = snf.merge(odds,right_index=True,left_index=True)\n",
    "snf = snf.reset_index()\n",
    "\n",
    "snf['abs. diff'] = abs(snf['pYards'] - snf['line'])\n",
    "\n",
    "snf = snf.round(1)\n",
    "\n",
    "snf['Over_Picked'] =snf['pYards']>snf ['line']\n",
    "\n",
    "\n",
    "primetime = snf[(snf['team']=='KC')|(snf['team']=='LAC')]"
   ]
  },
  {
   "cell_type": "code",
   "execution_count": null,
   "metadata": {
    "id": "Sw-eQyB96Wqg"
   },
   "outputs": [],
   "source": [
    "w11_table = w11_table.append(primetime)"
   ]
  },
  {
   "cell_type": "code",
   "execution_count": null,
   "metadata": {
    "id": "ZBIF0Nt2qHT0"
   },
   "outputs": [],
   "source": [
    "mnf = trailing_weeks.copy()\n",
    "\n",
    "\n",
    "#mnf = mnf.reset_index().rename(columns={'index':'player'})\n",
    "\n",
    "mnf.set_index(['player','team'],inplace=True)\n",
    "\n",
    "mnf_odds = pd.read_csv('betting_lines/nfl-best-bets (11).csv').round(1)[['player','team','line']]\n",
    "\n",
    "\n",
    "\n",
    "\n",
    "\n",
    "\n",
    "odds = mnf_odds.copy()\n",
    "\n",
    "odds['team'] = odds['team'].apply(lambda x:team_changer(x))\n",
    "\n",
    "\n",
    "odds['player'] = odds['player'].apply(lambda x: x.split(\".\")[0])+\".\"+odds['player'].apply(lambda x: x.split(\".\")[1][1:])\n",
    "\n",
    "\n",
    "odds['player'] = odds['player'].apply(lambda x:name_changer(x))\n",
    "\n",
    "\n",
    "odds.set_index(['player','team'],inplace=True)\n",
    "\n",
    "mnf = mnf.merge(odds,right_index=True,left_index=True)\n",
    "mnf = mnf.reset_index()\n",
    "\n",
    "mnf['abs. diff'] = abs(mnf['pYards'] - mnf['line'])\n",
    "\n",
    "mnf = mnf.round(1)\n",
    "mnf['Over_Picked'] =mnf['pYards']>mnf ['line']\n",
    "\n",
    "\n",
    "mnf = mnf[(mnf['team']=='ARI')|(mnf['team']=='SF')]"
   ]
  },
  {
   "cell_type": "code",
   "execution_count": null,
   "metadata": {
    "colab": {
     "base_uri": "https://localhost:8080/",
     "height": 300
    },
    "id": "4Pl8ca98l_-R",
    "outputId": "2d3fc573-8302-4a68-e5df-969e3d4e2c71"
   },
   "outputs": [],
   "source": [
    "mnf"
   ]
  },
  {
   "cell_type": "code",
   "execution_count": null,
   "metadata": {
    "id": "IBgE9rhS8wtx"
   },
   "outputs": [],
   "source": [
    "w11_table = w11_table.append(mnf)"
   ]
  },
  {
   "cell_type": "code",
   "execution_count": null,
   "metadata": {
    "colab": {
     "base_uri": "https://localhost:8080/",
     "height": 300
    },
    "id": "6F27a9vhmF7Z",
    "outputId": "af8a06fd-e1e1-4115-a51f-6ed34b18e96e"
   },
   "outputs": [],
   "source": [
    "w11_table[(w11_table['team']=='ARI')|(w11_table['team']=='SF')]"
   ]
  },
  {
   "cell_type": "code",
   "execution_count": null,
   "metadata": {
    "colab": {
     "base_uri": "https://localhost:8080/",
     "height": 582
    },
    "id": "oDRAEmUo8zo7",
    "outputId": "cbb85e75-391e-4eef-8e20-0b76b47c10ae"
   },
   "outputs": [],
   "source": [
    "w11_table[w11_table['abs. diff']>=10].sort_values('abs. diff',ascending=False)"
   ]
  },
  {
   "cell_type": "code",
   "execution_count": null,
   "metadata": {
    "colab": {
     "background_save": true,
     "base_uri": "https://localhost:8080/"
    },
    "id": "YRHsFB-Wpl-L",
    "outputId": "45a27d95-a887-48c1-dd10-50a193e8cdac"
   },
   "outputs": [],
   "source": [
    "for YEAR in tqdm(range(2022,2023)):\n",
    "    data = pd.read_csv('https://github.com/nflverse/nflverse-data/releases/download/pbp/' \\\n",
    "                   'play_by_play_' + str(YEAR) + '.csv.gz',\n",
    "                   compression= 'gzip', low_memory= False)\n",
    "\n",
    "    data = data.loc[data.season_type=='REG']\n",
    "    data['season'] = YEAR\n",
    "    data = data.loc[(data.play_type.isin(['no_play','pass','run'])) & (data.epa.isna()==False)]\n",
    "\n",
    "    data = data[data['posteam_type'].isna()==False]\n",
    "\n",
    "    data.loc[data['pass']==1, 'play_type'] = 'pass'\n",
    "    data.loc[data.rush==1, 'play_type'] = 'run'\n",
    "\n",
    "    data.reset_index(drop=True, inplace=True)\n",
    "\n",
    "    data = data[data['two_point_attempt']==0]\n",
    "    results = data[data['week']==11]\n",
    "\n",
    "\n",
    "results = results.groupby(['receiver_player_name','posteam']).agg({'yards_gained':'sum'}).reset_index().rename(columns={'receiver_player_name':'player','posteam':'team'})[['player','team','yards_gained']]\n",
    "\n",
    "w11_table = w11_table.merge(results)\n",
    "\n",
    "w11_table['Over_Result'] = w11_table['yards_gained']>w11_table['line']\n",
    "\n",
    "w11_table['Win'] = (w11_table['Over_Result'] == w11_table['Over_Picked'])*1\n",
    "\n",
    "\n",
    "w11_table['week'] = 11"
   ]
  },
  {
   "cell_type": "code",
   "execution_count": null,
   "metadata": {
    "colab": {
     "background_save": true
    },
    "id": "EJvNQvvv6dR5"
   },
   "outputs": [],
   "source": []
  },
  {
   "cell_type": "code",
   "execution_count": null,
   "metadata": {
    "colab": {
     "background_save": true,
     "base_uri": "https://localhost:8080/",
     "height": 630
    },
    "id": "4XRrv7uknLFs",
    "outputId": "1ef58960-2404-4341-d488-87653686aa49"
   },
   "outputs": [],
   "source": [
    "w11_table[w11_table['abs. diff']>=10].sort_values('abs. diff',ascending=False)['Win'].mean()"
   ]
  },
  {
   "cell_type": "code",
   "execution_count": null,
   "metadata": {
    "colab": {
     "background_save": true,
     "base_uri": "https://localhost:8080/"
    },
    "id": "eWvF95hlW8gi",
    "outputId": "d766da68-af87-42b5-add7-374b18928e5a"
   },
   "outputs": [],
   "source": [
    "\n",
    "import math\n",
    "MSE = np.square(np.subtract(w10_table['pYards'],w10_table['yards_gained'])).mean() \n",
    " \n",
    "RMSE = math.sqrt(MSE)\n",
    "print(\"Root Mean Square Error - Projections:\\n\")\n",
    "print(RMSE)\n",
    "\n",
    "import math\n",
    "MSE = np.square(np.subtract(w10_table['yards_gained'],w10_table['line'])).mean() \n",
    " \n",
    "print('-----')\n",
    "RMSE = math.sqrt(MSE)\n",
    "print(\"Root Mean Square Error - Betting Line:\\n\")\n",
    "print(RMSE)"
   ]
  },
  {
   "cell_type": "markdown",
   "metadata": {
    "id": "U7md5eItXlAW"
   },
   "source": [
    "### Week 12"
   ]
  },
  {
   "cell_type": "code",
   "execution_count": null,
   "metadata": {},
   "outputs": [],
   "source": [
    "week=12\n",
    "\n",
    "weekly_player_list = []\n",
    "weekly_yard_list = []\n",
    "\n",
    "for player in new_df['full_name'].unique():\n",
    "    df_df = new_df[new_df['full_name']==player]\n",
    "    yds = df_df.copy()\n",
    "    name = list(df_df['receiver_player_name'])[0]\n",
    "    team = list(df_df['posteam'])[0]\n",
    "\n",
    "    df_df = df_df[df_df['week']<week].tail(6)[['xYards']]\n",
    "    df_df.rename(columns={'xYards':name},inplace=True)\n",
    "    df_df = df_df.transpose()\n",
    "    if len(list(df_df.columns))==6:\n",
    "        df_df.columns = [1,2,3,4,5,6]\n",
    "        df_df['team']=team\n",
    "        weekly_player_list.append(df_df)\n",
    "    \n",
    "    yd_df = yds[yds['week']<week].tail(6)[['yards_gained']] \n",
    "    yd_df.rename(columns={'yards_gained':name},inplace=True)\n",
    "    yd_df = yd_df.transpose()\n",
    "    if len(list(yd_df.columns))==6:\n",
    "        \n",
    "        yd_df.columns = ['1a','2a','3a','4a','5a','6a']\n",
    "        yd_df['team']=team\n",
    "\n",
    "        weekly_yard_list.append(yd_df)\n",
    "\n",
    "\n",
    "\n",
    "trailing_weeks = pd.concat(weekly_player_list)\n",
    "\n",
    "yardage_trailing = pd.concat(weekly_yard_list)\n",
    "\n",
    "\n",
    "trailing_weeks =  trailing_weeks.reset_index().rename(columns={'index':'player'})\n",
    "\n",
    "yardage_trailing = yardage_trailing.reset_index().rename(columns={'index':'player'})\n",
    "\n",
    "trailing_weeks['xYards/game']=(trailing_weeks[1]+trailing_weeks[2]+trailing_weeks[3]+trailing_weeks[4]+trailing_weeks[5]+trailing_weeks[6])/6\n",
    "\n",
    "trailing_weeks = trailing_weeks.merge(yardage_trailing, on=['player','team'])\n",
    "\n",
    "\n",
    "trailing_weeks['yards/game']=(trailing_weeks['1a']+trailing_weeks['2a']+trailing_weeks['3a']+trailing_weeks['4a']+trailing_weeks['5a']+trailing_weeks['6a'])/6\n",
    "\n",
    "\n",
    "trailing_weeks['pYards'] = in_season_model.predict(trailing_weeks[[1,2,3,4,5,6,'1a','2a','3a','4a','5a','6a','xYards/game','yards/game']])\n",
    "#trailing_weeks['pYards'] = in_season_model.predict(trailing_weeks[[1,2,3,4,5,6]])\n",
    "\n",
    "trailing_weeks"
   ]
  },
  {
   "cell_type": "code",
   "execution_count": null,
   "metadata": {
    "colab": {
     "background_save": true
    },
    "id": "9hx9ljc_Xisj"
   },
   "outputs": [],
   "source": [
    "\n",
    "\n",
    "w12_table = trailing_weeks.copy()\n",
    "\n",
    " \n",
    "#w12_table = w12_table.reset_index().rename(columns={'index':'player'})\n",
    " \n",
    "w12_table.set_index(['player','team'],inplace=True)\n",
    " \n",
    "w12_odds = pd.read_csv('betting_lines/nfl-best-bets (12).csv').round(1)[['player','team','line']]\n",
    " \n",
    " \n",
    " \n",
    " \n",
    " \n",
    " \n",
    "odds = w12_odds.copy()\n",
    " \n",
    "odds['team'] = odds['team'].apply(lambda x:team_changer(x))\n",
    " \n",
    " \n",
    "odds['player'] = odds['player'].apply(lambda x: x.split(\".\")[0])+\".\"+odds['player'].apply(lambda x: x.split(\".\")[1][1:])\n",
    " \n",
    " \n",
    "odds['player'] = odds['player'].apply(lambda x:name_changer(x))\n",
    " \n",
    " \n",
    "odds.set_index(['player','team'],inplace=True)\n",
    " \n",
    "w12_table = w12_table.merge(odds,right_index=True,left_index=True)\n",
    "w12_table = w12_table.reset_index()\n",
    " \n",
    "w12_table['abs. diff'] = abs(w12_table['pYards'] - w12_table['line'])\n",
    " \n",
    "w12_table = w12_table.round(1)\n",
    " \n",
    "w12_table['Over_Picked'] =w12_table['pYards']>w12_table ['line']\n",
    " \n",
    "#w12_table['abs. median diff'] = abs(w12_table['xYards_median'] - w12_table['line'])\n",
    "\n",
    " \n",
    "\n"
   ]
  },
  {
   "cell_type": "code",
   "execution_count": null,
   "metadata": {
    "colab": {
     "background_save": true
    },
    "id": "vnn4KIHnfN-A"
   },
   "outputs": [],
   "source": [
    "tg = w12_table[w12_table['team']!='CAR'].copy()"
   ]
  },
  {
   "cell_type": "code",
   "execution_count": null,
   "metadata": {
    "colab": {
     "background_save": true
    },
    "id": "tbk4L2yxfV47"
   },
   "outputs": [],
   "source": [
    "\n",
    "\n",
    "w12_table = trailing_weeks.copy()\n",
    "\n",
    " \n",
    "#w12_table = w12_table.reset_index().rename(columns={'index':'player'})\n",
    " \n",
    "w12_table.set_index(['player','team'],inplace=True)\n",
    " \n",
    "w12_odds = pd.read_csv('betting_lines/nfl-best-bets (13).csv').round(1)[['player','team','line']]\n",
    " \n",
    " \n",
    " \n",
    " \n",
    " \n",
    " \n",
    "odds = w12_odds.copy()\n",
    " \n",
    "odds['team'] = odds['team'].apply(lambda x:team_changer(x))\n",
    " \n",
    " \n",
    "odds['player'] = odds['player'].apply(lambda x: x.split(\".\")[0])+\".\"+odds['player'].apply(lambda x: x.split(\".\")[1][1:])\n",
    " \n",
    " \n",
    "odds['player'] = odds['player'].apply(lambda x:name_changer(x))\n",
    " \n",
    " \n",
    "odds.set_index(['player','team'],inplace=True)\n",
    " \n",
    "w12_table = w12_table.merge(odds,right_index=True,left_index=True)\n",
    "w12_table = w12_table.reset_index()\n",
    " \n",
    "w12_table['abs. diff'] = abs(w12_table['pYards'] - w12_table['line'])\n",
    " \n",
    "w12_table = w12_table.round(1)\n",
    " \n",
    "w12_table['Over_Picked'] =w12_table['pYards']>w12_table ['line']\n",
    "\n",
    "w12_table = w12_table.append(tg)\n"
   ]
  },
  {
   "cell_type": "code",
   "execution_count": null,
   "metadata": {
    "colab": {
     "background_save": true
    },
    "id": "Quw4bOIs1UK_"
   },
   "outputs": [],
   "source": [
    "\n",
    "\n",
    "mnf12 = trailing_weeks.copy()\n",
    "\n",
    " \n",
    "#mnf12 = mnf12.reset_index().rename(columns={'index':'player'})\n",
    " \n",
    "mnf12.set_index(['player','team'],inplace=True)\n",
    " \n",
    "mnf12_odds = pd.read_csv('betting_lines/nfl-best-bets (14).csv').round(1)[['player','team','line']]\n",
    " \n",
    " \n",
    " \n",
    " \n",
    " \n",
    " \n",
    "odds = mnf12_odds.copy()\n",
    " \n",
    "odds['team'] = odds['team'].apply(lambda x:team_changer(x))\n",
    " \n",
    " \n",
    "odds['player'] = odds['player'].apply(lambda x: x.split(\".\")[0])+\".\"+odds['player'].apply(lambda x: x.split(\".\")[1][1:])\n",
    " \n",
    " \n",
    "odds['player'] = odds['player'].apply(lambda x:name_changer(x))\n",
    " \n",
    " \n",
    "odds.set_index(['player','team'],inplace=True)\n",
    " \n",
    "mnf12 = mnf12.merge(odds,right_index=True,left_index=True)\n",
    "mnf12 = mnf12.reset_index()\n",
    " \n",
    "mnf12['abs. diff'] = abs(mnf12['pYards'] - mnf12['line'])\n",
    " \n",
    "mnf12 = mnf12.round(1)\n",
    " \n",
    "mnf12['Over_Picked'] =mnf12['pYards']>mnf12 ['line']\n",
    "\n",
    "w12_table = w12_table.append(mnf12)\n"
   ]
  },
  {
   "cell_type": "code",
   "execution_count": null,
   "metadata": {
    "colab": {
     "background_save": true,
     "base_uri": "https://localhost:8080/",
     "height": 394
    },
    "id": "_whiTQ5t6CVU",
    "outputId": "667e5fd7-a76b-48d5-eba1-a5a290fb32b8"
   },
   "outputs": [],
   "source": [
    "mnf12"
   ]
  },
  {
   "cell_type": "code",
   "execution_count": null,
   "metadata": {
    "colab": {
     "background_save": true,
     "base_uri": "https://localhost:8080/"
    },
    "id": "H2JXAp-l44XD",
    "outputId": "a86e3aad-6706-4ad7-c8e1-bb253ac92a6f"
   },
   "outputs": [],
   "source": [
    "for YEAR in tqdm(range(2022,2023)):\n",
    "    data = pd.read_csv('https://github.com/nflverse/nflverse-data/releases/download/pbp/' \\\n",
    "                   'play_by_play_' + str(YEAR) + '.csv.gz',\n",
    "                   compression= 'gzip', low_memory= False)\n",
    "\n",
    "    data = data.loc[data.season_type=='REG']\n",
    "    data['season'] = YEAR\n",
    "\n",
    "    data = data[data['posteam_type'].isna()==False]\n",
    "\n",
    "    data.loc[data['pass']==1, 'play_type'] = 'pass'\n",
    "    data.loc[data.rush==1, 'play_type'] = 'run'\n",
    "\n",
    "    data.reset_index(drop=True, inplace=True)\n",
    "\n",
    "    data = data[data['two_point_attempt']==0]\n",
    "    results = data[data['week']==12]\n",
    "\n",
    "\n",
    "results = results.groupby(['receiver_player_name','posteam']).agg({'yards_gained':'sum'}).reset_index().rename(columns={'receiver_player_name':'player','posteam':'team'})[['player','team','yards_gained']]\n",
    "\n",
    "w12_table = w12_table.merge(results)\n",
    "\n",
    "w12_table['Over_Result'] = w12_table['yards_gained']>w12_table['line']\n",
    "\n",
    "w12_table['Win'] = (w12_table['Over_Result'] == w12_table['Over_Picked'])*1\n",
    "\n",
    "\n",
    "w12_table['week'] = 12"
   ]
  },
  {
   "cell_type": "markdown",
   "metadata": {
    "id": "KpCNrbGN28IM"
   },
   "source": [
    "### Week 13"
   ]
  },
  {
   "cell_type": "code",
   "execution_count": null,
   "metadata": {
    "colab": {
     "background_save": true
    },
    "id": "IVGrI8tM27Fr"
   },
   "outputs": [],
   "source": [
    "week=13\n",
    "\n",
    "weekly_player_list = []\n",
    "weekly_yard_list = []\n",
    "\n",
    "for player in new_df['full_name'].unique():\n",
    "    df_df = new_df[new_df['full_name']==player]\n",
    "    yds = df_df.copy()\n",
    "    name = list(df_df['receiver_player_name'])[0]\n",
    "    team = list(df_df['posteam'])[0]\n",
    "\n",
    "    df_df = df_df[df_df['week']<week].tail(6)[['xYards']]\n",
    "    df_df.rename(columns={'xYards':name},inplace=True)\n",
    "    df_df = df_df.transpose()\n",
    "    if len(list(df_df.columns))==6:\n",
    "        df_df.columns = [1,2,3,4,5,6]\n",
    "        df_df['team']=team\n",
    "        weekly_player_list.append(df_df)\n",
    "    \n",
    "    yd_df = yds[yds['week']<week].tail(6)[['yards_gained']] \n",
    "    yd_df.rename(columns={'yards_gained':name},inplace=True)\n",
    "    yd_df = yd_df.transpose()\n",
    "    if len(list(yd_df.columns))==6:\n",
    "        \n",
    "        yd_df.columns = ['1a','2a','3a','4a','5a','6a']\n",
    "        yd_df['team']=team\n",
    "\n",
    "        weekly_yard_list.append(yd_df)\n",
    "\n",
    "\n",
    "\n",
    "trailing_weeks = pd.concat(weekly_player_list)\n",
    "\n",
    "yardage_trailing = pd.concat(weekly_yard_list)\n",
    "\n",
    "\n",
    "trailing_weeks =  trailing_weeks.reset_index().rename(columns={'index':'player'})\n",
    "\n",
    "yardage_trailing = yardage_trailing.reset_index().rename(columns={'index':'player'})\n",
    "\n",
    "trailing_weeks['xYards/game']=(trailing_weeks[1]+trailing_weeks[2]+trailing_weeks[3]+trailing_weeks[4]+trailing_weeks[5]+trailing_weeks[6])/6\n",
    "\n",
    "trailing_weeks = trailing_weeks.merge(yardage_trailing, on=['player','team'])\n",
    "\n",
    "\n",
    "\n",
    "trailing_weeks['yards/game']=(trailing_weeks['1a']+trailing_weeks['2a']+trailing_weeks['3a']+trailing_weeks['4a']+trailing_weeks['5a']+trailing_weeks['6a'])/6\n",
    "\n",
    "\n",
    "trailing_weeks['pYards'] = in_season_model.predict(trailing_weeks[[1,2,3,4,5,6,'1a','2a','3a','4a','5a','6a','xYards/game','yards/game']])#trailing_weeks['pYards'] = in_season_model.predict(trailing_weeks[[1,2,3,4,5,6]])\n",
    "\n",
    "trailing_weeks"
   ]
  },
  {
   "cell_type": "code",
   "execution_count": null,
   "metadata": {},
   "outputs": [],
   "source": [
    "tnf"
   ]
  },
  {
   "cell_type": "code",
   "execution_count": null,
   "metadata": {
    "colab": {
     "background_save": true,
     "base_uri": "https://localhost:8080/",
     "height": 424
    },
    "id": "SDT5Iv1OSI2N",
    "outputId": "d2ce1bdb-9b1d-42b0-89f8-da361a05f621"
   },
   "outputs": [],
   "source": [
    "w13_table = trailing_weeks.copy()\n",
    "\n",
    " \n",
    "#w13_table = w13_table.reset_index().rename(columns={'index':'player'})\n",
    " \n",
    "w13_table.set_index(['player','team'],inplace=True)\n",
    " \n",
    "w13_odds = pd.read_csv('betting_lines/nfl-best-bets (20).csv').round(1)[['player','team','line']]\n",
    " \n",
    " \n",
    " \n",
    " \n",
    " \n",
    " \n",
    "odds = w13_odds.copy()\n",
    " \n",
    "odds['team'] = odds['team'].apply(lambda x:team_changer(x))\n",
    " \n",
    " \n",
    "odds['player'] = odds['player'].apply(lambda x: x.split(\".\")[0])+\".\"+odds['player'].apply(lambda x: x.split(\".\")[1][1:])\n",
    " \n",
    " \n",
    "odds['player'] = odds['player'].apply(lambda x:name_changer(x))\n",
    " \n",
    " \n",
    "odds.set_index(['player','team'],inplace=True)\n",
    " \n",
    "w13_table = w13_table.merge(odds,right_index=True,left_index=True)\n",
    "w13_table = w13_table.reset_index()\n",
    " \n",
    "w13_table['abs. diff'] = abs(w13_table['pYards'] - w13_table['line'])\n",
    " \n",
    "w13_table = w13_table.round(1)\n",
    " \n",
    "w13_table['Over_Picked'] =w13_table['pYards']>w13_table ['line']\n",
    " \n",
    "#w12_table['abs. median diff'] = abs(w12_table['xYards_median'] - w12_table['line'])\n",
    "\n",
    " \n",
    "\n",
    "\n",
    "#w13_table['mean_diff'] = abs(w13_table['xYards/game']-w13_table['line'])\n",
    "\n",
    "tnf.append(w13_table[(w13_table['team']!='BUF')&(w13_table['team']!='NE')])"
   ]
  },
  {
   "cell_type": "code",
   "execution_count": null,
   "metadata": {},
   "outputs": [],
   "source": [
    "w13_table = w13_table[w13_table['team']!='IND']"
   ]
  },
  {
   "cell_type": "code",
   "execution_count": null,
   "metadata": {},
   "outputs": [],
   "source": [
    "w13_table = w13_table[w13_table['team']!='DAL']\n",
    "\n",
    "w13_table = w13_table[w13_table['team']!='NO']\n",
    "\n",
    "w13_table = w13_table[w13_table['team']!='TB']"
   ]
  },
  {
   "cell_type": "code",
   "execution_count": null,
   "metadata": {
    "colab": {
     "background_save": true
    },
    "id": "64M6ywgqzIli"
   },
   "outputs": [],
   "source": [
    "w13 = trailing_weeks.sort_values('pYards',ascending=False)\n",
    "\n",
    "\n",
    "#w13[(w13['team']=='IND')|(w13['team']=='DAL')]"
   ]
  },
  {
   "cell_type": "code",
   "execution_count": null,
   "metadata": {
    "colab": {
     "background_save": true,
     "base_uri": "https://localhost:8080/"
    },
    "id": "XJetYvvOx22q",
    "outputId": "45545a39-97bd-4678-ac08-46e16a7d0dc8"
   },
   "outputs": [],
   "source": [
    "snf13 = trailing_weeks.copy()\n",
    "\n",
    "\n",
    " \n",
    "#snf13 = snf13.reset_index().rename(columns={'index':'player'})\n",
    " \n",
    "snf13.set_index(['player','team'],inplace=True)\n",
    " \n",
    "snf13_odds = pd.read_csv('betting_lines/nfl-best-bets (21).csv').round(1)[['player','team','line']]\n",
    " \n",
    " \n",
    " \n",
    " \n",
    " \n",
    " \n",
    "odds = snf13_odds.copy()\n",
    " \n",
    "odds['team'] = odds['team'].apply(lambda x:team_changer(x))\n",
    " \n",
    " \n",
    "odds['player'] = odds['player'].apply(lambda x: x.split(\".\")[0])+\".\"+odds['player'].apply(lambda x: x.split(\".\")[1][1:])\n",
    " \n",
    " \n",
    "odds['player'] = odds['player'].apply(lambda x:name_changer(x))\n",
    " \n",
    " \n",
    "odds.set_index(['player','team'],inplace=True)\n",
    " \n",
    "snf13 = snf13.merge(odds,right_index=True,left_index=True)\n",
    "snf13 = snf13.reset_index()\n",
    " \n",
    "snf13['abs. diff'] = abs(snf13['pYards'] - snf13['line'])\n",
    " \n",
    "snf13 = snf13.round(1)\n",
    " \n",
    "snf13['Over_Picked'] =snf13['pYards']>snf13 ['line']"
   ]
  },
  {
   "cell_type": "code",
   "execution_count": null,
   "metadata": {},
   "outputs": [],
   "source": [
    "mnf13 = trailing_weeks.copy()\n",
    "\n",
    " \n",
    "#mnf13 = mnf13.reset_index().rename(columns={'index':'player'})\n",
    " \n",
    "mnf13.set_index(['player','team'],inplace=True)\n",
    " \n",
    "mnf13_odds = pd.read_csv('betting_lines/nfl-best-bets (23).csv').round(1)[['player','team','line']]\n",
    " \n",
    " \n",
    " \n",
    " \n",
    " \n",
    " \n",
    "odds = mnf13_odds.copy()\n",
    " \n",
    "odds['team'] = odds['team'].apply(lambda x:team_changer(x))\n",
    " \n",
    " \n",
    "odds['player'] = odds['player'].apply(lambda x: x.split(\".\")[0])+\".\"+odds['player'].apply(lambda x: x.split(\".\")[1][1:])\n",
    " \n",
    " \n",
    "odds['player'] = odds['player'].apply(lambda x:name_changer(x))\n",
    " \n",
    " \n",
    "odds.set_index(['player','team'],inplace=True)\n",
    " \n",
    "mnf13 = mnf13.merge(odds,right_index=True,left_index=True)\n",
    "mnf13 = mnf13.reset_index()\n",
    " \n",
    "mnf13['abs. diff'] = abs(mnf13['pYards'] - mnf13['line'])\n",
    " \n",
    "mnf13 = mnf13.round(1)\n",
    " \n",
    "mnf13['Over_Picked'] = mnf13['pYards']>mnf13 ['line']"
   ]
  },
  {
   "cell_type": "code",
   "execution_count": null,
   "metadata": {},
   "outputs": [],
   "source": [
    "#mnf13"
   ]
  },
  {
   "cell_type": "code",
   "execution_count": null,
   "metadata": {},
   "outputs": [],
   "source": [
    "w13_table = w13_table.append(snf13)\n",
    "\n",
    "w13_table = w13_table.append(mnf13)"
   ]
  },
  {
   "cell_type": "code",
   "execution_count": null,
   "metadata": {},
   "outputs": [],
   "source": [
    "for YEAR in tqdm(range(2022,2023)):\n",
    "    data = pd.read_csv('https://github.com/nflverse/nflverse-data/releases/download/pbp/' \\\n",
    "                   'play_by_play_' + str(YEAR) + '.csv.gz',\n",
    "                   compression= 'gzip', low_memory= False)\n",
    "\n",
    "    data = data.loc[data.season_type=='REG']\n",
    "    data['season'] = YEAR\n",
    "\n",
    "    data = data[data['posteam_type'].isna()==False]\n",
    "\n",
    "    data.loc[data['pass']==1, 'play_type'] = 'pass'\n",
    "    data.loc[data.rush==1, 'play_type'] = 'run'\n",
    "\n",
    "    data.reset_index(drop=True, inplace=True)\n",
    "\n",
    "    data = data[data['two_point_attempt']==0]\n",
    "    results = data[data['week']==13]\n",
    "\n",
    "\n",
    "results = results.groupby(['receiver_player_name','posteam']).agg({'yards_gained':'sum'}).reset_index().rename(columns={'receiver_player_name':'player','posteam':'team'})[['player','team','yards_gained']]\n",
    "\n",
    "w13_table = w13_table.merge(results)\n",
    "\n",
    "w13_table['Over_Result'] = w13_table['yards_gained']>w13_table['line']\n",
    "\n",
    "w13_table['Win'] = (w13_table['Over_Result'] == w13_table['Over_Picked'])*1\n",
    "\n",
    "\n",
    "w13_table['week'] = 13"
   ]
  },
  {
   "cell_type": "code",
   "execution_count": null,
   "metadata": {
    "scrolled": true
   },
   "outputs": [],
   "source": [
    "w13_table[w13_table['abs. diff']>=10].sort_values('abs. diff',ascending=False).head(50)"
   ]
  },
  {
   "cell_type": "markdown",
   "metadata": {},
   "source": [
    "### Week 14"
   ]
  },
  {
   "cell_type": "code",
   "execution_count": null,
   "metadata": {},
   "outputs": [],
   "source": [
    "week=14\n",
    "\n",
    "weekly_player_list = []\n",
    "weekly_yard_list = []\n",
    "\n",
    "for player in new_df['full_name'].unique():\n",
    "    df_df = new_df[new_df['full_name']==player]\n",
    "    yds = df_df.copy()\n",
    "    name = list(df_df['receiver_player_name'])[0]\n",
    "    team = list(df_df['posteam'])[0]\n",
    "\n",
    "    df_df = df_df[df_df['week']<week].tail(6)[['xYards']]\n",
    "    df_df.rename(columns={'xYards':name},inplace=True)\n",
    "    df_df = df_df.transpose()\n",
    "    if len(list(df_df.columns))==6:\n",
    "        df_df.columns = [1,2,3,4,5,6]\n",
    "        df_df['team']=team\n",
    "        weekly_player_list.append(df_df)\n",
    "    \n",
    "    yd_df = yds[yds['week']<week].tail(6)[['yards_gained']] \n",
    "    yd_df.rename(columns={'yards_gained':name},inplace=True)\n",
    "    yd_df = yd_df.transpose()\n",
    "    if len(list(yd_df.columns))==6:\n",
    "        \n",
    "        yd_df.columns = ['1a','2a','3a','4a','5a','6a']\n",
    "        yd_df['team']=team\n",
    "\n",
    "        weekly_yard_list.append(yd_df)\n",
    "\n",
    "\n",
    "\n",
    "trailing_weeks = pd.concat(weekly_player_list)\n",
    "\n",
    "yardage_trailing = pd.concat(weekly_yard_list)\n",
    "\n",
    "\n",
    "trailing_weeks =  trailing_weeks.reset_index().rename(columns={'index':'player'})\n",
    "\n",
    "yardage_trailing = yardage_trailing.reset_index().rename(columns={'index':'player'})\n",
    "\n",
    "trailing_weeks['xYards/game']=(trailing_weeks[1]+trailing_weeks[2]+trailing_weeks[3]+trailing_weeks[4]+trailing_weeks[5]+trailing_weeks[6])/6\n",
    "\n",
    "trailing_weeks = trailing_weeks.merge(yardage_trailing, on=['player','team'])\n",
    "\n",
    "\n",
    "trailing_weeks['yards/game']=(trailing_weeks['1a']+trailing_weeks['2a']+trailing_weeks['3a']+trailing_weeks['4a']+trailing_weeks['5a']+trailing_weeks['6a'])/6\n",
    "\n",
    "\n",
    "trailing_weeks['pYards'] = in_season_model.predict(trailing_weeks[[1,2,3,4,5,6,'1a','2a','3a','4a','5a','6a','xYards/game','yards/game']])\n",
    "#trailing_weeks['pYards'] = in_season_model.predict(trailing_weeks[[1,2,3,4,5,6]])\n",
    "\n",
    "trailing_weeks"
   ]
  },
  {
   "cell_type": "code",
   "execution_count": null,
   "metadata": {},
   "outputs": [],
   "source": [
    "\n",
    "\n",
    "w14_table = trailing_weeks.copy()\n",
    "\n",
    " \n",
    "#w14_table = w14_table.reset_index().rename(columns={'index':'player'})\n",
    " \n",
    "w14_table.set_index(['player','team'],inplace=True)\n",
    " \n",
    "w14_odds = pd.read_csv('betting_lines/nfl-best-bets (24).csv').round(1)[['player','team','line']]\n",
    " \n",
    " \n",
    " \n",
    " \n",
    " \n",
    " \n",
    "odds = w14_odds.copy()\n",
    " \n",
    "odds['team'] = odds['team'].apply(lambda x:team_changer(x))\n",
    " \n",
    " \n",
    "odds['player'] = odds['player'].apply(lambda x: x.split(\".\")[0])+\".\"+odds['player'].apply(lambda x: x.split(\".\")[1][1:])\n",
    " \n",
    " \n",
    "odds['player'] = odds['player'].apply(lambda x:name_changer(x))\n",
    " \n",
    " \n",
    "odds.set_index(['player','team'],inplace=True)\n",
    " \n",
    "w14_table = w14_table.merge(odds,on=['player','team'])\n",
    "w14_table = w14_table.reset_index()\n",
    " \n",
    "w14_table['abs. diff'] = abs(w14_table['pYards'] - w14_table['line'])\n",
    " \n",
    "w14_table = w14_table.round(1)\n",
    " \n",
    "w14_table['Over_Picked'] =w14_table['pYards']>w14_table ['line']\n",
    " \n",
    "#w12_table['abs. median diff'] = abs(w12_table['xYards_median'] - w12_table['line'])\n",
    "\n",
    " \n",
    "tnf14 = w14_table.copy()\n",
    "\n"
   ]
  },
  {
   "cell_type": "code",
   "execution_count": null,
   "metadata": {},
   "outputs": [],
   "source": [
    "\n",
    "\n",
    "w14_table = trailing_weeks.copy()\n",
    "\n",
    "w14_table.set_index(['player','team'],inplace=True)\n",
    " \n",
    "#w14_table.rename(columns={'receiver_player_name':'player'},inplace=True)\n",
    " \n",
    "#w14_table.set_index(['player','team'],inplace=True)\n",
    " \n",
    "w14_odds = pd.read_csv('betting_lines/nfl-best-bets (27).csv').round(1)[['player','team','line']]\n",
    " \n",
    " \n",
    " \n",
    " \n",
    " \n",
    " \n",
    "odds = w14_odds.copy()\n",
    " \n",
    "odds['team'] = odds['team'].apply(lambda x:team_changer(x))\n",
    " \n",
    " \n",
    "odds['player'] = odds['player'].apply(lambda x: x.split(\".\")[0])+\".\"+odds['player'].apply(lambda x: x.split(\".\")[1][1:])\n",
    " \n",
    " \n",
    "odds['player'] = odds['player'].apply(lambda x:name_changer(x))\n",
    " \n",
    " \n",
    "odds.set_index(['player','team'],inplace=True)\n",
    " \n",
    "w14_table = w14_table.merge(odds,on=['player','team'])\n",
    "w14_table = w14_table.reset_index()\n",
    " \n",
    "w14_table['abs. diff'] = abs(w14_table['pYards'] - w14_table['line'])\n",
    " \n",
    "w14_table = w14_table.round(1)\n",
    " \n",
    "w14_table['Over_Picked'] =w14_table['pYards']>w14_table ['line']\n",
    " \n",
    "#w12_table['abs. median diff'] = abs(w12_table['xYards_median'] - w12_table['line'])\n",
    "\n",
    " \n",
    "w14_table = tnf14.append(w14_table)\n",
    "\n",
    "w14_table = w14_table[(w14_table['team']!='LAC') & (w14_table['team']!='MIA')]\n",
    "\n",
    "w14_table = w14_table[(w14_table['team']!='ARI') & (w14_table['team']!='NE')]"
   ]
  },
  {
   "cell_type": "code",
   "execution_count": null,
   "metadata": {},
   "outputs": [],
   "source": [
    "w14_table"
   ]
  },
  {
   "cell_type": "code",
   "execution_count": null,
   "metadata": {},
   "outputs": [],
   "source": [
    "\n",
    "\n",
    "snf14 = trailing_weeks.copy()\n",
    "\n",
    " \n",
    " \n",
    "snf14.set_index(['player','team'],inplace=True)\n",
    " \n",
    "snf14_odds = pd.read_csv('betting_lines/nfl-best-bets (28).csv').round(1)[['player','team','line']]\n",
    " \n",
    " \n",
    " \n",
    " \n",
    " \n",
    " \n",
    "odds = snf14_odds.copy()\n",
    " \n",
    "odds['team'] = odds['team'].apply(lambda x:team_changer(x))\n",
    " \n",
    " \n",
    "odds['player'] = odds['player'].apply(lambda x: x.split(\".\")[0])+\".\"+odds['player'].apply(lambda x: x.split(\".\")[1][1:])\n",
    " \n",
    " \n",
    "odds['player'] = odds['player'].apply(lambda x:name_changer(x))\n",
    " \n",
    " \n",
    "odds.set_index(['player','team'],inplace=True)\n",
    " \n",
    "snf14 = snf14.merge(odds,right_index=True,left_index=True)\n",
    "snf14 = snf14.reset_index()\n",
    " \n",
    "snf14['abs. diff'] = abs(snf14['pYards'] - snf14['line'])\n",
    " \n",
    "snf14 = snf14.round(1)\n",
    " \n",
    "snf14['Over_Picked'] =snf14['pYards']>snf14 ['line']\n",
    " \n",
    "#w12_table['abs. median diff'] = abs(w12_table['xYards_median'] - w12_table['line'])\n",
    "\n",
    " \n",
    "snf14 = snf14[(snf14['team']=='LAC')|(snf14['team']=='MIA')]"
   ]
  },
  {
   "cell_type": "code",
   "execution_count": null,
   "metadata": {},
   "outputs": [],
   "source": [
    "\n",
    "\n",
    "mnf14 = trailing_weeks.copy()\n",
    "\n",
    " \n",
    " \n",
    "mnf14.set_index(['player','team'],inplace=True)\n",
    " \n",
    "mnf14_odds = pd.read_csv('betting_lines/nfl-best-bets (30).csv').round(1)[['player','team','line']]\n",
    " \n",
    " \n",
    " \n",
    " \n",
    " \n",
    " \n",
    "odds = mnf14_odds.copy()\n",
    " \n",
    "odds['team'] = odds['team'].apply(lambda x:team_changer(x))\n",
    " \n",
    " \n",
    "odds['player'] = odds['player'].apply(lambda x: x.split(\".\")[0])+\".\"+odds['player'].apply(lambda x: x.split(\".\")[1][1:])\n",
    " \n",
    " \n",
    "odds['player'] = odds['player'].apply(lambda x:name_changer(x))\n",
    " \n",
    " \n",
    "odds.set_index(['player','team'],inplace=True)\n",
    " \n",
    "mnf14 = mnf14.merge(odds,right_index=True,left_index=True)\n",
    "mnf14 = mnf14.reset_index()\n",
    " \n",
    "mnf14['abs. diff'] = abs(mnf14['pYards'] - mnf14['line'])\n",
    " \n",
    "mnf14 = mnf14.round(1)\n",
    " \n",
    "mnf14['Over_Picked'] =mnf14['pYards']>mnf14 ['line']\n",
    " \n",
    "#w12_table['abs. median diff'] = abs(w12_table['xYards_median'] - w12_table['line'])\n",
    "\n",
    "\n",
    "mnf14 = mnf14[(mnf14['team']=='NE')|(mnf14['team']=='ARI')]\n",
    "\n"
   ]
  },
  {
   "cell_type": "code",
   "execution_count": null,
   "metadata": {},
   "outputs": [],
   "source": [
    "mnf14"
   ]
  },
  {
   "cell_type": "code",
   "execution_count": null,
   "metadata": {},
   "outputs": [],
   "source": [
    "w14_table = w14_table.append(snf14).append(mnf)"
   ]
  },
  {
   "cell_type": "code",
   "execution_count": null,
   "metadata": {},
   "outputs": [],
   "source": [
    "for YEAR in tqdm(range(2022,2023)):\n",
    "    data = pd.read_csv('https://github.com/nflverse/nflverse-data/releases/download/pbp/' \\\n",
    "                   'play_by_play_' + str(YEAR) + '.csv.gz',\n",
    "                   compression= 'gzip', low_memory= False)\n",
    "\n",
    "    data = data.loc[data.season_type=='REG']\n",
    "    data['season'] = YEAR\n",
    "\n",
    "    data = data[data['posteam_type'].isna()==False]\n",
    "\n",
    "    data.loc[data['pass']==1, 'play_type'] = 'pass'\n",
    "    data.loc[data.rush==1, 'play_type'] = 'run'\n",
    "    \n",
    "    \n",
    "    \n",
    "\n",
    "    data.reset_index(drop=True, inplace=True)\n",
    "\n",
    "\n",
    "    data = data[data['two_point_attempt']==0]\n",
    "\n",
    "    data['home_implied_total'] = abs(data['total_line']/2 + data['spread_line']/2)\n",
    "    data['away_implied_total'] = abs(data['total_line']/2 - data['spread_line']/2)\n",
    "    implied_list = []\n",
    "    for num in data.index:\n",
    "        home_number = data.loc[num]['home_implied_total']\n",
    "        away_number = data.loc[num]['away_implied_total']\n",
    "        has_ball = data.loc[num]['posteam_type']\n",
    "        number = total_finder(has_ball,home_number,away_number)\n",
    "        implied_list.append(number)\n",
    "\n",
    "    data['implied_posteam_total'] = implied_list\n",
    "    \n",
    "    \n",
    "    \n",
    "    data = data[data['two_point_attempt']==0]\n",
    "    \n",
    "    results = data[data['week']==14]\n",
    "    results['middle'] = (results['pass_location']=='middle')*1 \n",
    "    results['goal_to_go'] = (results['yardline_100']<=10)*1\n",
    "    results = results[['receiver_player_name','posteam','yards_gained','down','yardline_100','ydstogo','implied_posteam_total','air_yards','middle','qb_hit']].set_index(['receiver_player_name','posteam'])\n",
    "    results = results.dropna()\n",
    "    \n",
    "    results['xYards']=play_by_play_model.predict(results.drop(columns={'yards_gained'}))\n",
    "\n",
    "    \n",
    "    \n",
    "    \n",
    "\n",
    "\n"
   ]
  },
  {
   "cell_type": "code",
   "execution_count": null,
   "metadata": {},
   "outputs": [],
   "source": [
    "results = results.groupby(['receiver_player_name','posteam']).agg({'yards_gained':'sum','xYards':'sum'}).reset_index().rename(columns={'receiver_player_name':'player','posteam':'team'})[['player','team','yards_gained','xYards']]\n",
    "\n",
    "w14_table = w14_table.merge(results)\n",
    "\n",
    "w14_table['Over_Result'] = w14_table['yards_gained']>w14_table['line']\n",
    "\n",
    "w14_table['Win'] = (w14_table['Over_Result'] == w14_table['Over_Picked'])*1\n",
    "\n",
    "\n",
    "w14_table['week'] = 14"
   ]
  },
  {
   "cell_type": "markdown",
   "metadata": {},
   "source": [
    "### Week 15"
   ]
  },
  {
   "cell_type": "code",
   "execution_count": null,
   "metadata": {},
   "outputs": [],
   "source": [
    "week=15\n",
    "\n",
    "weekly_player_list = []\n",
    "weekly_yard_list = []\n",
    "\n",
    "for player in new_df['full_name'].unique():\n",
    "    df_df = new_df[new_df['full_name']==player]\n",
    "    yds = df_df.copy()\n",
    "    name = list(df_df['receiver_player_name'])[0]\n",
    "    team = list(df_df['posteam'])[0]\n",
    "\n",
    "    df_df = df_df[df_df['week']<week].tail(6)[['xYards']]\n",
    "    df_df.rename(columns={'xYards':name},inplace=True)\n",
    "    df_df = df_df.transpose()\n",
    "    if len(list(df_df.columns))==6:\n",
    "        df_df.columns = [1,2,3,4,5,6]\n",
    "        df_df['team']=team\n",
    "        weekly_player_list.append(df_df)\n",
    "    \n",
    "    yd_df = yds[yds['week']<week].tail(6)[['yards_gained']] \n",
    "    yd_df.rename(columns={'yards_gained':name},inplace=True)\n",
    "    yd_df = yd_df.transpose()\n",
    "    if len(list(yd_df.columns))==6:\n",
    "        \n",
    "        yd_df.columns = ['1a','2a','3a','4a','5a','6a']\n",
    "        yd_df['team']=team\n",
    "\n",
    "        weekly_yard_list.append(yd_df)\n",
    "\n",
    "\n",
    "\n",
    "trailing_weeks = pd.concat(weekly_player_list)\n",
    "\n",
    "yardage_trailing = pd.concat(weekly_yard_list)\n",
    "\n",
    "\n",
    "trailing_weeks =  trailing_weeks.reset_index().rename(columns={'index':'player'})\n",
    "\n",
    "yardage_trailing = yardage_trailing.reset_index().rename(columns={'index':'player'})\n",
    "\n",
    "trailing_weeks['xYards/game']=(trailing_weeks[1]+trailing_weeks[2]+trailing_weeks[3]+trailing_weeks[4]+trailing_weeks[5]+trailing_weeks[6])/6\n",
    "\n",
    "trailing_weeks = trailing_weeks.merge(yardage_trailing, on=['player','team'])\n",
    "\n",
    "\n",
    "trailing_weeks['yards/game']=(trailing_weeks['1a']+trailing_weeks['2a']+trailing_weeks['3a']+trailing_weeks['4a']+trailing_weeks['5a']+trailing_weeks['6a'])/6\n",
    "\n",
    "\n",
    "trailing_weeks['pYards'] = in_season_model.predict(trailing_weeks[[1,2,3,4,5,6,'1a','2a','3a','4a','5a','6a','xYards/game','yards/game']])\n",
    "#trailing_weeks['pYards'] = in_season_model.predict(trailing_weeks[[1,2,3,4,5,6]])\n",
    "\n"
   ]
  },
  {
   "cell_type": "code",
   "execution_count": null,
   "metadata": {},
   "outputs": [],
   "source": [
    "beta_table = trailing_weeks[['player','team','pYards']]\n",
    "\n",
    "beta_table.rename(columns={'pYards':'beta_yards'},inplace=True)\n",
    "\n",
    "beta_table.to_csv('wk15_beta.csv')"
   ]
  },
  {
   "cell_type": "code",
   "execution_count": null,
   "metadata": {},
   "outputs": [],
   "source": [
    "\n",
    "\n",
    "weekly_table = trailing_weeks.copy()\n",
    "\n",
    "weekly_table.set_index(['player','team'],inplace=True)\n",
    " \n",
    "#w14_table.rename(columns={'receiver_player_name':'player'},inplace=True)\n",
    " \n",
    "#w14_table.set_index(['player','team'],inplace=True)\n",
    " \n",
    "w15_odds = pd.read_csv('betting_lines/nfl-best-bets (32).csv').round(1)[['player','team','line']]\n",
    " \n",
    " \n",
    " \n",
    " \n",
    " \n",
    " \n",
    "odds = w15_odds.copy()\n",
    " \n",
    "odds['team'] = odds['team'].apply(lambda x:team_changer(x))\n",
    " \n",
    " \n",
    "odds['player'] = odds['player'].apply(lambda x: x.split(\".\")[0])+\".\"+odds['player'].apply(lambda x: x.split(\".\")[1][1:])\n",
    " \n",
    " \n",
    "odds['player'] = odds['player'].apply(lambda x:name_changer(x))\n",
    " \n",
    " \n",
    "odds.set_index(['player','team'],inplace=True)\n",
    " \n",
    "weekly_table = weekly_table.merge(odds,on=['player','team'])\n",
    "weekly_table = weekly_table.reset_index()\n",
    " \n",
    "weekly_table['abs. diff'] = abs(weekly_table['pYards'] - weekly_table['line'])\n",
    " \n",
    "weekly_table = weekly_table.round(1)\n",
    " \n",
    "weekly_table['Over_Picked'] =weekly_table['pYards']>weekly_table ['line']\n",
    " \n",
    "#w12_table['abs. median diff'] = abs(w12_table['xYards_median'] - w12_table['line'])\n",
    "\n",
    " \n",
    "#weekly_table = tnf14.append(w14_table)\n",
    "\n",
    "#w14_table = w14_table[(w14_table['team']!='LAC') & (w14_table['team']!='MIA')]\n",
    "\n",
    "#w14_table = w14_table[(w14_table['team']!='ARI') & (w14_table['team']!='NE')]"
   ]
  },
  {
   "cell_type": "code",
   "execution_count": null,
   "metadata": {},
   "outputs": [],
   "source": [
    "w15_table = weekly_table.copy()\n",
    "\n",
    "#w15_table.sort_values('abs. diff',ascending=False).head(25)"
   ]
  },
  {
   "cell_type": "code",
   "execution_count": null,
   "metadata": {},
   "outputs": [],
   "source": [
    "beta_table"
   ]
  },
  {
   "cell_type": "markdown",
   "metadata": {
    "id": "nV2ngYRP0HCd"
   },
   "source": [
    "## Overall Results"
   ]
  },
  {
   "cell_type": "code",
   "execution_count": null,
   "metadata": {
    "colab": {
     "background_save": true
    },
    "id": "WAGRihHU0HCd"
   },
   "outputs": [],
   "source": [
    "szn_results = w8_results.append(w9_table).append(w10_table).append(w11_table).append(w12_table).append(w13_table).append(w14_table)\n",
    "\n",
    "szn_results['abs_diff'] = abs(szn_results['pYards']-szn_results['line'])\n",
    "\n",
    "szn_results['smash'] = szn_results['abs_diff']>=10\n",
    "\n",
    "smash_df = szn_results[szn_results['smash']==True]\n"
   ]
  },
  {
   "cell_type": "code",
   "execution_count": null,
   "metadata": {
    "colab": {
     "background_save": true,
     "base_uri": "https://localhost:8080/"
    },
    "id": "5Jw-Mgd_0HCd",
    "outputId": "6b6074f6-be60-474e-bdd1-b71286262916"
   },
   "outputs": [],
   "source": [
    "print('R Values:\\n')\n",
    "\n",
    "\n",
    "print('Yards and projection: {}'.format(round(szn_results['pYards'].corr(szn_results['yards_gained']),3)))\n",
    "print('Yards and betting line: {}'.format(round(szn_results['line'].corr(szn_results['yards_gained']),3)))\n",
    "print('Projection and betting line: {}'.format(round(szn_results['pYards'].corr(szn_results['line']),3)))\n"
   ]
  },
  {
   "cell_type": "code",
   "execution_count": null,
   "metadata": {
    "colab": {
     "background_save": true,
     "base_uri": "https://localhost:8080/"
    },
    "id": "xC_eHLt40HCe",
    "outputId": "44e5a08c-6dc5-4f8c-b861-502920b4a6d0"
   },
   "outputs": [],
   "source": [
    "\n",
    "\n",
    "print('Overall Record: {}-{} ({}%)'.format(szn_results['Win'].sum(),szn_results.shape[0]-szn_results['Win'].sum(),round(szn_results['Win'].sum()/szn_results.shape[0]*100,1)))\n",
    "\n",
    "print('Plays Record (10+ yard difference): {}-{} ({}%)'.format(smash_df['Win'].sum(),smash_df.shape[0]-smash_df['Win'].sum(),round(smash_df['Win'].sum()/smash_df.shape[0]*100,1)))\n",
    "\n",
    "print('\\n-----\\n')\n",
    " \n",
    "mae = mean_absolute_error(szn_results['pYards'], szn_results['yards_gained'])\n",
    "    \n",
    "print(\"Mean Absolute Error - Projections:\")\n",
    "print('{}\\n'.format(round(mae,1)))\n",
    "\n",
    "\n",
    "mae = mean_absolute_error(szn_results['yards_gained'],szn_results['line'])\n",
    " \n",
    "print(\"Mean Absolute Error - Betting line:\")\n",
    "print(round(mae,1))"
   ]
  },
  {
   "cell_type": "code",
   "execution_count": null,
   "metadata": {},
   "outputs": [],
   "source": [
    "MSE = np.square(np.subtract(szn_results['yards_gained'],szn_results['pYards'])).mean() \n",
    " \n",
    "RMSE = math.sqrt(MSE)\n",
    "print(\"Root Mean Square Error - Projections:\")\n",
    "print('{}\\n'.format(round(RMSE,1)))\n",
    "\n",
    "\n",
    "MSE = np.square(np.subtract(szn_results['yards_gained'],szn_results['line'])).mean() \n",
    " \n",
    "RMSE = math.sqrt(MSE)\n",
    "print(\"Root Mean Square Error - Betting line:\")\n",
    "print(round(RMSE,1))"
   ]
  },
  {
   "cell_type": "code",
   "execution_count": null,
   "metadata": {
    "colab": {
     "background_save": true,
     "base_uri": "https://localhost:8080/"
    },
    "id": "cMe8Le9v0HCf",
    "outputId": "3983c5f9-d9cc-4864-d060-4c81ac04611b"
   },
   "outputs": [],
   "source": [
    "print('WEEKLY RESULTS')\n",
    "\n",
    "print('\\nOverall')\n",
    "for week in szn_results['week'].unique():\n",
    "    w = szn_results[szn_results['week']==week]['Win'].sum()\n",
    "    p = szn_results[szn_results['week']==week]['Win'].shape[0]\n",
    "    l = p - w\n",
    "    perc = round(w/p*100,1)\n",
    "    print('Week {}: {}-{} ({}%)'.format(week,w,l,perc))\n",
    "\n",
    "\n",
    "print('\\nPlays')\n",
    "\n",
    "for week in smash_df['week'].unique():\n",
    "    w = smash_df[smash_df['week']==week]['Win'].sum()\n",
    "    p = smash_df[smash_df['week']==week]['Win'].shape[0]\n",
    "    l = p - w\n",
    "    perc = round(w/p*100,1)\n",
    "    print('Week {}: {}-{} ({}%)'.format(week,w,l,perc))"
   ]
  },
  {
   "cell_type": "code",
   "execution_count": null,
   "metadata": {
    "colab": {
     "background_save": true,
     "base_uri": "https://localhost:8080/"
    },
    "id": "vjdajN1n6xBv",
    "outputId": "6e54f55f-bed7-412a-a36f-10bd9a22f18a"
   },
   "outputs": [],
   "source": [
    "szn_results['Over_Picked'].value_counts()"
   ]
  },
  {
   "cell_type": "code",
   "execution_count": null,
   "metadata": {
    "colab": {
     "background_save": true,
     "base_uri": "https://localhost:8080/"
    },
    "id": "kHqvXhIO_NpN",
    "outputId": "274c09c7-00e7-46c8-b967-e7156213e4db"
   },
   "outputs": [],
   "source": [
    "szn_results['Over_Result'].value_counts()"
   ]
  },
  {
   "cell_type": "code",
   "execution_count": null,
   "metadata": {
    "colab": {
     "background_save": true,
     "base_uri": "https://localhost:8080/"
    },
    "id": "nMzc9UQ3BfWi",
    "outputId": "978d521f-f8f7-4710-f161-d917928546c3"
   },
   "outputs": [],
   "source": [
    "over_w = szn_results[szn_results['Over_Picked']==1]['Win'].mean()\n",
    "under_w = szn_results[szn_results['Over_Picked']==0]['Win'].mean()\n",
    "\n",
    "print('Overs: {}%'.format(round(over_w*100,1)))\n",
    "print('Under: {}%'.format(round(under_w*100,1)))"
   ]
  },
  {
   "cell_type": "code",
   "execution_count": null,
   "metadata": {
    "colab": {
     "background_save": true,
     "base_uri": "https://localhost:8080/"
    },
    "id": "HOh_GIcpCKXy",
    "outputId": "b276210d-2b74-4a6a-e173-22e76669699d"
   },
   "outputs": [],
   "source": [
    "over_w = smash_df[smash_df['Over_Picked']==1]['Win'].mean()\n",
    "under_w = smash_df[smash_df['Over_Picked']==0]['Win'].mean()\n",
    "\n",
    "print('Smash Overs: {}%'.format(round(over_w*100,1)))\n",
    "print('Smash Under: {}%'.format(round(under_w*100,1)))"
   ]
  },
  {
   "cell_type": "code",
   "execution_count": null,
   "metadata": {},
   "outputs": [],
   "source": [
    "szn_results[(szn_results['week']==14)&(szn_results['smash']==True)]"
   ]
  },
  {
   "cell_type": "code",
   "execution_count": null,
   "metadata": {
    "colab": {
     "background_save": true
    },
    "id": "0aTD3EBVLwQx"
   },
   "outputs": [],
   "source": []
  },
  {
   "cell_type": "code",
   "execution_count": null,
   "metadata": {
    "colab": {
     "background_save": true,
     "base_uri": "https://localhost:8080/",
     "height": 300
    },
    "id": "vFd4AOgC0HCh",
    "outputId": "6b5e5f26-b891-4242-f5c9-9af735034476"
   },
   "outputs": [],
   "source": [
    "#szn_results['the_blend'] = (szn_results['xYards_median']+szn_results['pYards'])/2\n",
    "\n",
    "#szn_results[['pYards','yards_gained','xYards/game','line','the_blend','xYards_median','gb_projection','linear_projection']].corr().sort_values('yards_gained',ascending=False)"
   ]
  }
 ],
 "metadata": {
  "colab": {
   "provenance": []
  },
  "kernelspec": {
   "display_name": "Python 3",
   "language": "python",
   "name": "python3"
  },
  "language_info": {
   "codemirror_mode": {
    "name": "ipython",
    "version": 3
   },
   "file_extension": ".py",
   "mimetype": "text/x-python",
   "name": "python",
   "nbconvert_exporter": "python",
   "pygments_lexer": "ipython3",
   "version": "3.8.8"
  },
  "widgets": {
   "application/vnd.jupyter.widget-state+json": {
    "0e7fb50b5cbd45ea8239cec1a24a352e": {
     "model_module": "@jupyter-widgets/base",
     "model_module_version": "1.2.0",
     "model_name": "LayoutModel",
     "state": {
      "_model_module": "@jupyter-widgets/base",
      "_model_module_version": "1.2.0",
      "_model_name": "LayoutModel",
      "_view_count": null,
      "_view_module": "@jupyter-widgets/base",
      "_view_module_version": "1.2.0",
      "_view_name": "LayoutView",
      "align_content": null,
      "align_items": null,
      "align_self": null,
      "border": null,
      "bottom": null,
      "display": null,
      "flex": null,
      "flex_flow": null,
      "grid_area": null,
      "grid_auto_columns": null,
      "grid_auto_flow": null,
      "grid_auto_rows": null,
      "grid_column": null,
      "grid_gap": null,
      "grid_row": null,
      "grid_template_areas": null,
      "grid_template_columns": null,
      "grid_template_rows": null,
      "height": null,
      "justify_content": null,
      "justify_items": null,
      "left": null,
      "margin": null,
      "max_height": null,
      "max_width": null,
      "min_height": null,
      "min_width": null,
      "object_fit": null,
      "object_position": null,
      "order": null,
      "overflow": null,
      "overflow_x": null,
      "overflow_y": null,
      "padding": null,
      "right": null,
      "top": null,
      "visibility": null,
      "width": null
     }
    },
    "1022e089c02b4b01917194f5f8db5064": {
     "model_module": "@jupyter-widgets/base",
     "model_module_version": "1.2.0",
     "model_name": "LayoutModel",
     "state": {
      "_model_module": "@jupyter-widgets/base",
      "_model_module_version": "1.2.0",
      "_model_name": "LayoutModel",
      "_view_count": null,
      "_view_module": "@jupyter-widgets/base",
      "_view_module_version": "1.2.0",
      "_view_name": "LayoutView",
      "align_content": null,
      "align_items": null,
      "align_self": null,
      "border": null,
      "bottom": null,
      "display": null,
      "flex": null,
      "flex_flow": null,
      "grid_area": null,
      "grid_auto_columns": null,
      "grid_auto_flow": null,
      "grid_auto_rows": null,
      "grid_column": null,
      "grid_gap": null,
      "grid_row": null,
      "grid_template_areas": null,
      "grid_template_columns": null,
      "grid_template_rows": null,
      "height": null,
      "justify_content": null,
      "justify_items": null,
      "left": null,
      "margin": null,
      "max_height": null,
      "max_width": null,
      "min_height": null,
      "min_width": null,
      "object_fit": null,
      "object_position": null,
      "order": null,
      "overflow": null,
      "overflow_x": null,
      "overflow_y": null,
      "padding": null,
      "right": null,
      "top": null,
      "visibility": null,
      "width": null
     }
    },
    "41d249fa71f44a3ab1d1cd6570dd1b47": {
     "model_module": "@jupyter-widgets/controls",
     "model_module_version": "1.5.0",
     "model_name": "HTMLModel",
     "state": {
      "_dom_classes": [],
      "_model_module": "@jupyter-widgets/controls",
      "_model_module_version": "1.5.0",
      "_model_name": "HTMLModel",
      "_view_count": null,
      "_view_module": "@jupyter-widgets/controls",
      "_view_module_version": "1.5.0",
      "_view_name": "HTMLView",
      "description": "",
      "description_tooltip": null,
      "layout": "IPY_MODEL_1022e089c02b4b01917194f5f8db5064",
      "placeholder": "​",
      "style": "IPY_MODEL_e295016ca79749369f9fa2261a1c82dd",
      "value": " 2569/2569 [01:04&lt;00:00, 42.24it/s]"
     }
    },
    "512de06c21d24f2488cce8df0e898158": {
     "model_module": "@jupyter-widgets/controls",
     "model_module_version": "1.5.0",
     "model_name": "FloatProgressModel",
     "state": {
      "_dom_classes": [],
      "_model_module": "@jupyter-widgets/controls",
      "_model_module_version": "1.5.0",
      "_model_name": "FloatProgressModel",
      "_view_count": null,
      "_view_module": "@jupyter-widgets/controls",
      "_view_module_version": "1.5.0",
      "_view_name": "ProgressView",
      "bar_style": "success",
      "description": "",
      "description_tooltip": null,
      "layout": "IPY_MODEL_a8f9e903f4ba475da8dc5ef57ab8680a",
      "max": 2569,
      "min": 0,
      "orientation": "horizontal",
      "style": "IPY_MODEL_ad18b080b7664c6daa8338c015ef22cb",
      "value": 2569
     }
    },
    "a8f9e903f4ba475da8dc5ef57ab8680a": {
     "model_module": "@jupyter-widgets/base",
     "model_module_version": "1.2.0",
     "model_name": "LayoutModel",
     "state": {
      "_model_module": "@jupyter-widgets/base",
      "_model_module_version": "1.2.0",
      "_model_name": "LayoutModel",
      "_view_count": null,
      "_view_module": "@jupyter-widgets/base",
      "_view_module_version": "1.2.0",
      "_view_name": "LayoutView",
      "align_content": null,
      "align_items": null,
      "align_self": null,
      "border": null,
      "bottom": null,
      "display": null,
      "flex": null,
      "flex_flow": null,
      "grid_area": null,
      "grid_auto_columns": null,
      "grid_auto_flow": null,
      "grid_auto_rows": null,
      "grid_column": null,
      "grid_gap": null,
      "grid_row": null,
      "grid_template_areas": null,
      "grid_template_columns": null,
      "grid_template_rows": null,
      "height": null,
      "justify_content": null,
      "justify_items": null,
      "left": null,
      "margin": null,
      "max_height": null,
      "max_width": null,
      "min_height": null,
      "min_width": null,
      "object_fit": null,
      "object_position": null,
      "order": null,
      "overflow": null,
      "overflow_x": null,
      "overflow_y": null,
      "padding": null,
      "right": null,
      "top": null,
      "visibility": null,
      "width": null
     }
    },
    "ad18b080b7664c6daa8338c015ef22cb": {
     "model_module": "@jupyter-widgets/controls",
     "model_module_version": "1.5.0",
     "model_name": "ProgressStyleModel",
     "state": {
      "_model_module": "@jupyter-widgets/controls",
      "_model_module_version": "1.5.0",
      "_model_name": "ProgressStyleModel",
      "_view_count": null,
      "_view_module": "@jupyter-widgets/base",
      "_view_module_version": "1.2.0",
      "_view_name": "StyleView",
      "bar_color": null,
      "description_width": ""
     }
    },
    "b471a4e03d074c3eb76f82d1974ae717": {
     "model_module": "@jupyter-widgets/controls",
     "model_module_version": "1.5.0",
     "model_name": "HTMLModel",
     "state": {
      "_dom_classes": [],
      "_model_module": "@jupyter-widgets/controls",
      "_model_module_version": "1.5.0",
      "_model_name": "HTMLModel",
      "_view_count": null,
      "_view_module": "@jupyter-widgets/controls",
      "_view_module_version": "1.5.0",
      "_view_name": "HTMLView",
      "description": "",
      "description_tooltip": null,
      "layout": "IPY_MODEL_c447349c853e418b947cc963e23dc5f4",
      "placeholder": "​",
      "style": "IPY_MODEL_e631402ce883472590495a7cf0cd66b8",
      "value": "100%"
     }
    },
    "c447349c853e418b947cc963e23dc5f4": {
     "model_module": "@jupyter-widgets/base",
     "model_module_version": "1.2.0",
     "model_name": "LayoutModel",
     "state": {
      "_model_module": "@jupyter-widgets/base",
      "_model_module_version": "1.2.0",
      "_model_name": "LayoutModel",
      "_view_count": null,
      "_view_module": "@jupyter-widgets/base",
      "_view_module_version": "1.2.0",
      "_view_name": "LayoutView",
      "align_content": null,
      "align_items": null,
      "align_self": null,
      "border": null,
      "bottom": null,
      "display": null,
      "flex": null,
      "flex_flow": null,
      "grid_area": null,
      "grid_auto_columns": null,
      "grid_auto_flow": null,
      "grid_auto_rows": null,
      "grid_column": null,
      "grid_gap": null,
      "grid_row": null,
      "grid_template_areas": null,
      "grid_template_columns": null,
      "grid_template_rows": null,
      "height": null,
      "justify_content": null,
      "justify_items": null,
      "left": null,
      "margin": null,
      "max_height": null,
      "max_width": null,
      "min_height": null,
      "min_width": null,
      "object_fit": null,
      "object_position": null,
      "order": null,
      "overflow": null,
      "overflow_x": null,
      "overflow_y": null,
      "padding": null,
      "right": null,
      "top": null,
      "visibility": null,
      "width": null
     }
    },
    "e295016ca79749369f9fa2261a1c82dd": {
     "model_module": "@jupyter-widgets/controls",
     "model_module_version": "1.5.0",
     "model_name": "DescriptionStyleModel",
     "state": {
      "_model_module": "@jupyter-widgets/controls",
      "_model_module_version": "1.5.0",
      "_model_name": "DescriptionStyleModel",
      "_view_count": null,
      "_view_module": "@jupyter-widgets/base",
      "_view_module_version": "1.2.0",
      "_view_name": "StyleView",
      "description_width": ""
     }
    },
    "e631402ce883472590495a7cf0cd66b8": {
     "model_module": "@jupyter-widgets/controls",
     "model_module_version": "1.5.0",
     "model_name": "DescriptionStyleModel",
     "state": {
      "_model_module": "@jupyter-widgets/controls",
      "_model_module_version": "1.5.0",
      "_model_name": "DescriptionStyleModel",
      "_view_count": null,
      "_view_module": "@jupyter-widgets/base",
      "_view_module_version": "1.2.0",
      "_view_name": "StyleView",
      "description_width": ""
     }
    },
    "ed1892cf70e64ad9afd6ad32e4cdb721": {
     "model_module": "@jupyter-widgets/controls",
     "model_module_version": "1.5.0",
     "model_name": "HBoxModel",
     "state": {
      "_dom_classes": [],
      "_model_module": "@jupyter-widgets/controls",
      "_model_module_version": "1.5.0",
      "_model_name": "HBoxModel",
      "_view_count": null,
      "_view_module": "@jupyter-widgets/controls",
      "_view_module_version": "1.5.0",
      "_view_name": "HBoxView",
      "box_style": "",
      "children": [
       "IPY_MODEL_b471a4e03d074c3eb76f82d1974ae717",
       "IPY_MODEL_512de06c21d24f2488cce8df0e898158",
       "IPY_MODEL_41d249fa71f44a3ab1d1cd6570dd1b47"
      ],
      "layout": "IPY_MODEL_0e7fb50b5cbd45ea8239cec1a24a352e"
     }
    }
   }
  }
 },
 "nbformat": 4,
 "nbformat_minor": 1
}
